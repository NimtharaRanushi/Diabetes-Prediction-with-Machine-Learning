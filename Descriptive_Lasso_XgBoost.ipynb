{
 "cells": [
  {
   "cell_type": "code",
   "execution_count": 1,
   "id": "146c1875-4a84-47c3-ad5e-cdf1d2923a22",
   "metadata": {},
   "outputs": [],
   "source": [
    "import pandas as pd\n",
    "import researchpy as rp\n",
    "import numpy as np\n",
    "import matplotlib.pyplot as plt\n",
    "import seaborn as sns\n",
    "from sklearn.model_selection import train_test_split \n",
    "from sklearn.model_selection import GridSearchCV, cross_val_score\n",
    "from sklearn.preprocessing import StandardScaler\n",
    "from sklearn.ensemble import RandomForestClassifier, VotingClassifier\n",
    "from sklearn.tree import DecisionTreeClassifier\n",
    "from sklearn.svm import SVC\n",
    "from sklearn.neighbors import KNeighborsClassifier\n",
    "from sklearn.linear_model import LogisticRegression\n",
    "import os\n"
   ]
  },
  {
   "cell_type": "code",
   "execution_count": 2,
   "id": "75ff4549-fa3e-4c8b-82d9-4a8455aa12ca",
   "metadata": {},
   "outputs": [],
   "source": [
    "df = pd.read_csv(\"C:/Users/PC/Desktop/GroupProject_ST 3082/Final Project/Diabetes.csv\")\n"
   ]
  },
  {
   "cell_type": "code",
   "execution_count": 3,
   "id": "b5d15429-dd9a-4f3a-a670-d90c14c1aea6",
   "metadata": {},
   "outputs": [
    {
     "name": "stdout",
     "output_type": "stream",
     "text": [
      "<class 'pandas.core.frame.DataFrame'>\n",
      "RangeIndex: 70692 entries, 0 to 70691\n",
      "Data columns (total 22 columns):\n",
      " #   Column                Non-Null Count  Dtype  \n",
      "---  ------                --------------  -----  \n",
      " 0   Diabetes_binary       70692 non-null  float64\n",
      " 1   HighBP                70692 non-null  float64\n",
      " 2   HighChol              70692 non-null  float64\n",
      " 3   CholCheck             70692 non-null  float64\n",
      " 4   BMI                   70692 non-null  float64\n",
      " 5   Smoker                70692 non-null  float64\n",
      " 6   Stroke                70692 non-null  float64\n",
      " 7   HeartDiseaseorAttack  70692 non-null  float64\n",
      " 8   PhysActivity          70692 non-null  float64\n",
      " 9   Fruits                70692 non-null  float64\n",
      " 10  Veggies               70692 non-null  float64\n",
      " 11  HvyAlcoholConsump     70692 non-null  float64\n",
      " 12  AnyHealthcare         70692 non-null  float64\n",
      " 13  NoDocbcCost           70692 non-null  float64\n",
      " 14  GenHlth               70692 non-null  float64\n",
      " 15  MentHlth              70692 non-null  float64\n",
      " 16  PhysHlth              70692 non-null  float64\n",
      " 17  DiffWalk              70692 non-null  float64\n",
      " 18  Sex                   70692 non-null  float64\n",
      " 19  Age                   70692 non-null  float64\n",
      " 20  Education             70692 non-null  float64\n",
      " 21  Income                70692 non-null  float64\n",
      "dtypes: float64(22)\n",
      "memory usage: 11.9 MB\n"
     ]
    }
   ],
   "source": [
    "df.info()"
   ]
  },
  {
   "cell_type": "code",
   "execution_count": 4,
   "id": "28f80871-280f-4eb4-ae4c-a6db20a8c2f1",
   "metadata": {},
   "outputs": [],
   "source": [
    "rs = 73"
   ]
  },
  {
   "cell_type": "code",
   "execution_count": 5,
   "id": "823773a2-95a0-440e-ba52-768a90b79fa5",
   "metadata": {},
   "outputs": [
    {
     "data": {
      "text/html": [
       "<div>\n",
       "<style scoped>\n",
       "    .dataframe tbody tr th:only-of-type {\n",
       "        vertical-align: middle;\n",
       "    }\n",
       "\n",
       "    .dataframe tbody tr th {\n",
       "        vertical-align: top;\n",
       "    }\n",
       "\n",
       "    .dataframe thead th {\n",
       "        text-align: right;\n",
       "    }\n",
       "</style>\n",
       "<table border=\"1\" class=\"dataframe\">\n",
       "  <thead>\n",
       "    <tr style=\"text-align: right;\">\n",
       "      <th></th>\n",
       "      <th>Diabetes_binary</th>\n",
       "      <th>HighBP</th>\n",
       "      <th>HighChol</th>\n",
       "      <th>CholCheck</th>\n",
       "      <th>BMI</th>\n",
       "      <th>Smoker</th>\n",
       "      <th>Stroke</th>\n",
       "      <th>HeartDiseaseorAttack</th>\n",
       "      <th>PhysActivity</th>\n",
       "      <th>Fruits</th>\n",
       "      <th>...</th>\n",
       "      <th>AnyHealthcare</th>\n",
       "      <th>NoDocbcCost</th>\n",
       "      <th>GenHlth</th>\n",
       "      <th>MentHlth</th>\n",
       "      <th>PhysHlth</th>\n",
       "      <th>DiffWalk</th>\n",
       "      <th>Sex</th>\n",
       "      <th>Age</th>\n",
       "      <th>Education</th>\n",
       "      <th>Income</th>\n",
       "    </tr>\n",
       "  </thead>\n",
       "  <tbody>\n",
       "    <tr>\n",
       "      <th>0</th>\n",
       "      <td>0.0</td>\n",
       "      <td>1.0</td>\n",
       "      <td>0.0</td>\n",
       "      <td>1.0</td>\n",
       "      <td>26.0</td>\n",
       "      <td>0.0</td>\n",
       "      <td>0.0</td>\n",
       "      <td>0.0</td>\n",
       "      <td>1.0</td>\n",
       "      <td>0.0</td>\n",
       "      <td>...</td>\n",
       "      <td>1.0</td>\n",
       "      <td>0.0</td>\n",
       "      <td>3.0</td>\n",
       "      <td>5.0</td>\n",
       "      <td>30.0</td>\n",
       "      <td>0.0</td>\n",
       "      <td>1.0</td>\n",
       "      <td>4.0</td>\n",
       "      <td>6.0</td>\n",
       "      <td>8.0</td>\n",
       "    </tr>\n",
       "    <tr>\n",
       "      <th>1</th>\n",
       "      <td>0.0</td>\n",
       "      <td>1.0</td>\n",
       "      <td>1.0</td>\n",
       "      <td>1.0</td>\n",
       "      <td>26.0</td>\n",
       "      <td>1.0</td>\n",
       "      <td>1.0</td>\n",
       "      <td>0.0</td>\n",
       "      <td>0.0</td>\n",
       "      <td>1.0</td>\n",
       "      <td>...</td>\n",
       "      <td>1.0</td>\n",
       "      <td>0.0</td>\n",
       "      <td>3.0</td>\n",
       "      <td>0.0</td>\n",
       "      <td>0.0</td>\n",
       "      <td>0.0</td>\n",
       "      <td>1.0</td>\n",
       "      <td>12.0</td>\n",
       "      <td>6.0</td>\n",
       "      <td>8.0</td>\n",
       "    </tr>\n",
       "    <tr>\n",
       "      <th>2</th>\n",
       "      <td>0.0</td>\n",
       "      <td>0.0</td>\n",
       "      <td>0.0</td>\n",
       "      <td>1.0</td>\n",
       "      <td>26.0</td>\n",
       "      <td>0.0</td>\n",
       "      <td>0.0</td>\n",
       "      <td>0.0</td>\n",
       "      <td>1.0</td>\n",
       "      <td>1.0</td>\n",
       "      <td>...</td>\n",
       "      <td>1.0</td>\n",
       "      <td>0.0</td>\n",
       "      <td>1.0</td>\n",
       "      <td>0.0</td>\n",
       "      <td>10.0</td>\n",
       "      <td>0.0</td>\n",
       "      <td>1.0</td>\n",
       "      <td>13.0</td>\n",
       "      <td>6.0</td>\n",
       "      <td>8.0</td>\n",
       "    </tr>\n",
       "    <tr>\n",
       "      <th>3</th>\n",
       "      <td>0.0</td>\n",
       "      <td>1.0</td>\n",
       "      <td>1.0</td>\n",
       "      <td>1.0</td>\n",
       "      <td>28.0</td>\n",
       "      <td>1.0</td>\n",
       "      <td>0.0</td>\n",
       "      <td>0.0</td>\n",
       "      <td>1.0</td>\n",
       "      <td>1.0</td>\n",
       "      <td>...</td>\n",
       "      <td>1.0</td>\n",
       "      <td>0.0</td>\n",
       "      <td>3.0</td>\n",
       "      <td>0.0</td>\n",
       "      <td>3.0</td>\n",
       "      <td>0.0</td>\n",
       "      <td>1.0</td>\n",
       "      <td>11.0</td>\n",
       "      <td>6.0</td>\n",
       "      <td>8.0</td>\n",
       "    </tr>\n",
       "    <tr>\n",
       "      <th>4</th>\n",
       "      <td>0.0</td>\n",
       "      <td>0.0</td>\n",
       "      <td>0.0</td>\n",
       "      <td>1.0</td>\n",
       "      <td>29.0</td>\n",
       "      <td>1.0</td>\n",
       "      <td>0.0</td>\n",
       "      <td>0.0</td>\n",
       "      <td>1.0</td>\n",
       "      <td>1.0</td>\n",
       "      <td>...</td>\n",
       "      <td>1.0</td>\n",
       "      <td>0.0</td>\n",
       "      <td>2.0</td>\n",
       "      <td>0.0</td>\n",
       "      <td>0.0</td>\n",
       "      <td>0.0</td>\n",
       "      <td>0.0</td>\n",
       "      <td>8.0</td>\n",
       "      <td>5.0</td>\n",
       "      <td>8.0</td>\n",
       "    </tr>\n",
       "  </tbody>\n",
       "</table>\n",
       "<p>5 rows × 22 columns</p>\n",
       "</div>"
      ],
      "text/plain": [
       "   Diabetes_binary  HighBP  HighChol  CholCheck   BMI  Smoker  Stroke  \\\n",
       "0              0.0     1.0       0.0        1.0  26.0     0.0     0.0   \n",
       "1              0.0     1.0       1.0        1.0  26.0     1.0     1.0   \n",
       "2              0.0     0.0       0.0        1.0  26.0     0.0     0.0   \n",
       "3              0.0     1.0       1.0        1.0  28.0     1.0     0.0   \n",
       "4              0.0     0.0       0.0        1.0  29.0     1.0     0.0   \n",
       "\n",
       "   HeartDiseaseorAttack  PhysActivity  Fruits  ...  AnyHealthcare  \\\n",
       "0                   0.0           1.0     0.0  ...            1.0   \n",
       "1                   0.0           0.0     1.0  ...            1.0   \n",
       "2                   0.0           1.0     1.0  ...            1.0   \n",
       "3                   0.0           1.0     1.0  ...            1.0   \n",
       "4                   0.0           1.0     1.0  ...            1.0   \n",
       "\n",
       "   NoDocbcCost  GenHlth  MentHlth  PhysHlth  DiffWalk  Sex   Age  Education  \\\n",
       "0          0.0      3.0       5.0      30.0       0.0  1.0   4.0        6.0   \n",
       "1          0.0      3.0       0.0       0.0       0.0  1.0  12.0        6.0   \n",
       "2          0.0      1.0       0.0      10.0       0.0  1.0  13.0        6.0   \n",
       "3          0.0      3.0       0.0       3.0       0.0  1.0  11.0        6.0   \n",
       "4          0.0      2.0       0.0       0.0       0.0  0.0   8.0        5.0   \n",
       "\n",
       "   Income  \n",
       "0     8.0  \n",
       "1     8.0  \n",
       "2     8.0  \n",
       "3     8.0  \n",
       "4     8.0  \n",
       "\n",
       "[5 rows x 22 columns]"
      ]
     },
     "execution_count": 5,
     "metadata": {},
     "output_type": "execute_result"
    }
   ],
   "source": [
    "styled_df = df.head()\n",
    "styled_df"
   ]
  },
  {
   "cell_type": "code",
   "execution_count": 6,
   "id": "8ef78673-4d4c-4fca-bf72-adaf90795d78",
   "metadata": {},
   "outputs": [
    {
     "name": "stdout",
     "output_type": "stream",
     "text": [
      "Rows : 70692 \n",
      "Columns : 22\n"
     ]
    }
   ],
   "source": [
    "[rows,col] = df.shape\n",
    "print(f\"Rows : {rows} \\nColumns : {col}\")"
   ]
  },
  {
   "cell_type": "code",
   "execution_count": 7,
   "id": "bb31e935-76bd-4093-9a06-4499e5547332",
   "metadata": {},
   "outputs": [
    {
     "data": {
      "text/plain": [
       "Diabetes_binary         0\n",
       "HighBP                  0\n",
       "HighChol                0\n",
       "CholCheck               0\n",
       "BMI                     0\n",
       "Smoker                  0\n",
       "Stroke                  0\n",
       "HeartDiseaseorAttack    0\n",
       "PhysActivity            0\n",
       "Fruits                  0\n",
       "Veggies                 0\n",
       "HvyAlcoholConsump       0\n",
       "AnyHealthcare           0\n",
       "NoDocbcCost             0\n",
       "GenHlth                 0\n",
       "MentHlth                0\n",
       "PhysHlth                0\n",
       "DiffWalk                0\n",
       "Sex                     0\n",
       "Age                     0\n",
       "Education               0\n",
       "Income                  0\n",
       "dtype: int64"
      ]
     },
     "execution_count": 7,
     "metadata": {},
     "output_type": "execute_result"
    }
   ],
   "source": [
    "df.isnull().sum()"
   ]
  },
  {
   "cell_type": "code",
   "execution_count": 8,
   "id": "23d6bf37-f2dc-48f7-a236-99db00b969b2",
   "metadata": {},
   "outputs": [],
   "source": [
    "df = df.astype(int)"
   ]
  },
  {
   "cell_type": "code",
   "execution_count": 9,
   "id": "34ac4cb4-0954-4dea-ad4e-18f8ee2750e0",
   "metadata": {},
   "outputs": [
    {
     "data": {
      "text/plain": [
       "0        False\n",
       "1        False\n",
       "2        False\n",
       "3        False\n",
       "4        False\n",
       "         ...  \n",
       "70687    False\n",
       "70688    False\n",
       "70689    False\n",
       "70690    False\n",
       "70691    False\n",
       "Length: 70692, dtype: bool"
      ]
     },
     "execution_count": 9,
     "metadata": {},
     "output_type": "execute_result"
    }
   ],
   "source": [
    "df.duplicated()"
   ]
  },
  {
   "cell_type": "code",
   "execution_count": 10,
   "id": "5af77363-4151-438e-ab97-68cd247fb76a",
   "metadata": {},
   "outputs": [
    {
     "name": "stdout",
     "output_type": "stream",
     "text": [
      "Variable: Diabetes_binary\n",
      "Unique category levels: [0 1]\n",
      "\n",
      "Variable: HighBP\n",
      "Unique category levels: [1 0]\n",
      "\n",
      "Variable: HighChol\n",
      "Unique category levels: [0 1]\n",
      "\n",
      "Variable: CholCheck\n",
      "Unique category levels: [1 0]\n",
      "\n",
      "Variable: BMI\n",
      "Unique category levels: [26 28 29 18 31 32 27 24 21 58 30 20 22 38 40 25 36 47 19 37 41 23 34 35\n",
      " 42 17 33 44 15 52 69 56 45 39 92 53 98 50 46 79 48 16 63 72 54 49 68 43\n",
      " 84 73 76 55 51 75 57 60 12 77 82 67 71 61 14 81 59 86 13 87 65 95 89 62\n",
      " 64 66 85 70 83 80 78 74]\n",
      "\n",
      "Variable: Smoker\n",
      "Unique category levels: [0 1]\n",
      "\n",
      "Variable: Stroke\n",
      "Unique category levels: [0 1]\n",
      "\n",
      "Variable: HeartDiseaseorAttack\n",
      "Unique category levels: [0 1]\n",
      "\n",
      "Variable: PhysActivity\n",
      "Unique category levels: [1 0]\n",
      "\n",
      "Variable: Fruits\n",
      "Unique category levels: [0 1]\n",
      "\n",
      "Variable: Veggies\n",
      "Unique category levels: [1 0]\n",
      "\n",
      "Variable: HvyAlcoholConsump\n",
      "Unique category levels: [0 1]\n",
      "\n",
      "Variable: AnyHealthcare\n",
      "Unique category levels: [1 0]\n",
      "\n",
      "Variable: NoDocbcCost\n",
      "Unique category levels: [0 1]\n",
      "\n",
      "Variable: GenHlth\n",
      "Unique category levels: [3 1 2 4 5]\n",
      "\n",
      "Variable: MentHlth\n",
      "Unique category levels: [ 5  0  7  3  4  2 30 20  1 15 10 25 14 28  6 29 26 12 16 22 13  8  9 21\n",
      " 18 17 27 24 23 11 19]\n",
      "\n",
      "Variable: PhysHlth\n",
      "Unique category levels: [30  0 10  3  6  4 15  1  2 14  7 25 21 20  5  8 22 23 29 12 18 28 26 24\n",
      " 27 11 13 16 17  9 19]\n",
      "\n",
      "Variable: DiffWalk\n",
      "Unique category levels: [0 1]\n",
      "\n",
      "Variable: Sex\n",
      "Unique category levels: [1 0]\n",
      "\n",
      "Variable: Age\n",
      "Unique category levels: [ 4 12 13 11  8  1  6  3  7 10  9  5  2]\n",
      "\n",
      "Variable: Education\n",
      "Unique category levels: [6 5 4 3 2 1]\n",
      "\n",
      "Variable: Income\n",
      "Unique category levels: [8 7 6 3 4 1 5 2]\n",
      "\n"
     ]
    }
   ],
   "source": [
    "## checking for category levels in each variable\n",
    "# Initialize an empty dictionary to store unique category levels for each variable\n",
    "unique_levels_dict = {}\n",
    "# Iterate through each column in the DataFrame\n",
    "for column in df.columns:\n",
    "# Get unique category levels for the column\n",
    "    unique_levels = df[column].unique()\n",
    "# Store the unique category levels in the dictionary\n",
    "    unique_levels_dict[column] = unique_levels\n",
    "# Print the dictionary containing unique category levels for each variable\n",
    "for variable, levels in unique_levels_dict.items():\n",
    "    print(f\"Variable: {variable}\")\n",
    "    print(\"Unique category levels:\", levels)\n",
    "    print()"
   ]
  },
  {
   "cell_type": "code",
   "execution_count": 11,
   "id": "b41ae7d2-8c42-44b5-a9f7-b2008c70913c",
   "metadata": {},
   "outputs": [],
   "source": [
    "# define a function to simplify the plots in further sections\n",
    "def ida_plot(li_col, row, col=3, figsize=(20, 5)):\n",
    "    \"\"\"\n",
    "    This function return plt subplots by\n",
    "    looping through the df columns\n",
    "    display only the desired columns\n",
    "    \"\"\"\n",
    "    # prepare subplot format\n",
    "    fig, ax = plt.subplots(row, col, figsize=figsize)\n",
    "    axe = ax.ravel()\n",
    "    # use for loop to plot\n",
    "    for i in range(len(li_col)):\n",
    "    # create bar charts for each column\n",
    "        sns.countplot(x=df[li_col[i]], ax=axe[i])\n",
    "    # adjust the spacing of the subplots\n",
    "    plt.subplots_adjust(\n",
    "    wspace=0.5,\n",
    "    hspace=0.5\n",
    ")"
   ]
  },
  {
   "cell_type": "code",
   "execution_count": 12,
   "id": "f19b8343-b70a-4e24-9a60-842d2574c30a",
   "metadata": {},
   "outputs": [
    {
     "ename": "NameError",
     "evalue": "name 'Xtrain' is not defined",
     "output_type": "error",
     "traceback": [
      "\u001b[1;31m---------------------------------------------------------------------------\u001b[0m",
      "\u001b[1;31mNameError\u001b[0m                                 Traceback (most recent call last)",
      "Cell \u001b[1;32mIn[12], line 4\u001b[0m\n\u001b[0;32m      1\u001b[0m \u001b[38;5;66;03m# Descriptive analysis\u001b[39;00m\n\u001b[0;32m      2\u001b[0m \u001b[38;5;66;03m# Age category - There are 4 categories\u001b[39;00m\n\u001b[0;32m      3\u001b[0m plt\u001b[38;5;241m.\u001b[39msubplots(figsize\u001b[38;5;241m=\u001b[39m(\u001b[38;5;241m8\u001b[39m, \u001b[38;5;241m8\u001b[39m))\n\u001b[1;32m----> 4\u001b[0m sns\u001b[38;5;241m.\u001b[39mcountplot(data\u001b[38;5;241m=\u001b[39m\u001b[43mXtrain\u001b[49m, x\u001b[38;5;241m=\u001b[39m\u001b[38;5;124m'\u001b[39m\u001b[38;5;124mAge\u001b[39m\u001b[38;5;124m'\u001b[39m,hue\u001b[38;5;241m=\u001b[39m\u001b[38;5;124m\"\u001b[39m\u001b[38;5;124mAge\u001b[39m\u001b[38;5;124m\"\u001b[39m,palette\u001b[38;5;241m=\u001b[39m\u001b[38;5;124m\"\u001b[39m\u001b[38;5;124mSet1\u001b[39m\u001b[38;5;124m\"\u001b[39m)\n\u001b[0;32m      6\u001b[0m \u001b[38;5;66;03m# Set custom x-axis tick positions\u001b[39;00m\n\u001b[0;32m      7\u001b[0m plt\u001b[38;5;241m.\u001b[39mxticks([\u001b[38;5;241m0\u001b[39m, \u001b[38;5;241m1\u001b[39m, \u001b[38;5;241m2\u001b[39m, \u001b[38;5;241m3\u001b[39m])\n",
      "\u001b[1;31mNameError\u001b[0m: name 'Xtrain' is not defined"
     ]
    },
    {
     "data": {
      "image/png": "[encoded data removed]",
      "text/plain": [
       "<Figure size 800x800 with 1 Axes>"
      ]
     },
     "metadata": {},
     "output_type": "display_data"
    }
   ],
   "source": [
    "# Descriptive analysis\n",
    "# Age category - There are 4 categories\n",
    "plt.subplots(figsize=(8, 8))\n",
    "sns.countplot(data=Xtrain, x='Age',hue=\"Age\",palette=\"Set1\")\n",
    "\n",
    "# Set custom x-axis tick positions\n",
    "plt.xticks([0, 1, 2, 3])\n",
    "\n",
    "# Set custom x-axis tick labels\n",
    "plt.gca().set_xticklabels(['age1', 'age 2', 'age 3', 'age 4'])\n",
    "plt.legend(['age1', 'age 2', 'age 3', 'age 4'])\n",
    "plt.show()"
   ]
  },
  {
   "cell_type": "code",
   "execution_count": 19,
   "id": "69ea1909-7187-4963-acda-3ace01f6d34f",
   "metadata": {},
   "outputs": [
    {
     "ename": "NameError",
     "evalue": "name 'Ytrain' is not defined",
     "output_type": "error",
     "traceback": [
      "\u001b[1;31m---------------------------------------------------------------------------\u001b[0m",
      "\u001b[1;31mNameError\u001b[0m                                 Traceback (most recent call last)",
      "Cell \u001b[1;32mIn[19], line 3\u001b[0m\n\u001b[0;32m      1\u001b[0m \u001b[38;5;66;03m# To check ih the categories in the response variable are balanced with data\u001b[39;00m\n\u001b[0;32m      2\u001b[0m fig, ax \u001b[38;5;241m=\u001b[39m plt\u001b[38;5;241m.\u001b[39msubplots(figsize\u001b[38;5;241m=\u001b[39m(\u001b[38;5;241m8\u001b[39m, \u001b[38;5;241m8\u001b[39m))\n\u001b[1;32m----> 3\u001b[0m Diab \u001b[38;5;241m=\u001b[39m sns\u001b[38;5;241m.\u001b[39mcountplot(data\u001b[38;5;241m=\u001b[39m\u001b[43mYtrain\u001b[49m\u001b[38;5;241m.\u001b[39mto_frame(), x\u001b[38;5;241m=\u001b[39m\u001b[38;5;124m'\u001b[39m\u001b[38;5;124mDiabetes_binary\u001b[39m\u001b[38;5;124m'\u001b[39m, palette\u001b[38;5;241m=\u001b[39m\u001b[38;5;124m\"\u001b[39m\u001b[38;5;124mSet1\u001b[39m\u001b[38;5;124m\"\u001b[39m)\n\u001b[0;32m      5\u001b[0m \u001b[38;5;66;03m# Set custom x-axis tick positions\u001b[39;00m\n\u001b[0;32m      6\u001b[0m plt\u001b[38;5;241m.\u001b[39mxticks([\u001b[38;5;241m0\u001b[39m, \u001b[38;5;241m1\u001b[39m])\n",
      "\u001b[1;31mNameError\u001b[0m: name 'Ytrain' is not defined"
     ]
    },
    {
     "data": {
      "image/png": "[encoded data removed]",
      "text/plain": [
       "<Figure size 800x800 with 1 Axes>"
      ]
     },
     "metadata": {},
     "output_type": "display_data"
    }
   ],
   "source": [
    "# To check ih the categories in the response variable are balanced with data\n",
    "fig, ax = plt.subplots(figsize=(8, 8))\n",
    "Diab = sns.countplot(data=Ytrain.to_frame(), x='Diabetes_binary', palette=\"Set1\")\n",
    "\n",
    "# Set custom x-axis tick positions\n",
    "plt.xticks([0, 1])\n",
    "\n",
    "# Set custom x-axis tick labels\n",
    "plt.gca().set_xticklabels([\"Don't have Diabetes\", 'Have Diabetes'])\n",
    "plt.legend([\"Don't have Diabetes\", \"Have Diabetes\"])\n",
    "\n",
    "for container in Diab.containers:\n",
    "    Diab.bar_label(container)\n",
    "\n",
    "plt.show()"
   ]
  },
  {
   "cell_type": "code",
   "execution_count": 20,
   "id": "332dbc9b-647f-48a5-9e04-a31562bde411",
   "metadata": {},
   "outputs": [
    {
     "data": {
      "image/png": "[encoded data removed]",
      "text/plain": [
       "<Figure size 2000x500 with 3 Axes>"
      ]
     },
     "metadata": {},
     "output_type": "display_data"
    }
   ],
   "source": [
    "ida_plot(['Age', 'Education', 'Income'], 1, 3)"
   ]
  },
  {
   "cell_type": "code",
   "execution_count": 21,
   "id": "30b16238-b974-4b6f-9b32-387b7b71d307",
   "metadata": {},
   "outputs": [
    {
     "name": "stdout",
     "output_type": "stream",
     "text": [
      "Age\n",
      "3    36443\n",
      "4    18864\n",
      "2    13010\n",
      "1     2375\n",
      "Name: count, dtype: int64\n"
     ]
    }
   ],
   "source": [
    "## recarogarizing\n",
    "## age variable\n",
    "# Create a mapping dictionary to map original categories to new categories\n",
    "category_mapping = {\n",
    "1: 1,\n",
    "2: 1,\n",
    "3: 2,\n",
    "4: 2,\n",
    "5: 2,\n",
    "6: 2,\n",
    "7: 3,\n",
    "8: 3,\n",
    "9: 3,\n",
    "10: 3,\n",
    "11: 4,\n",
    "12: 4,\n",
    "13: 4\n",
    "}\n",
    "# Use map function to apply the mapping to the age column\n",
    "df['Age'] = df['Age'].map(category_mapping)\n",
    "# Check the result\n",
    "print(df['Age'].value_counts())"
   ]
  },
  {
   "cell_type": "code",
   "execution_count": 22,
   "id": "2620c3b7-8fbf-48f3-8500-6e69783f979d",
   "metadata": {},
   "outputs": [
    {
     "name": "stdout",
     "output_type": "stream",
     "text": [
      "Unique category levels: [2 4 3 1]\n"
     ]
    }
   ],
   "source": [
    "## cheching if recategorization is right\n",
    "unique_levels = df['Age'].unique()\n",
    "# Print the unique category levels\n",
    "print(\"Unique category levels:\", unique_levels)"
   ]
  },
  {
   "cell_type": "code",
   "execution_count": 23,
   "id": "d8bd422f-3567-4218-a881-6df7517fadea",
   "metadata": {},
   "outputs": [
    {
     "name": "stdout",
     "output_type": "stream",
     "text": [
      "Education\n",
      "4    26020\n",
      "2    24567\n",
      "3    20030\n",
      "1       75\n",
      "Name: count, dtype: int64\n"
     ]
    }
   ],
   "source": [
    "## recarogarizing\n",
    "## Education variable\n",
    "# Create a mapping dictionary to map original categories to new categories\n",
    "category_mapping2 = {\n",
    "1: 1,\n",
    "2: 2,\n",
    "3: 2,\n",
    "4: 2,\n",
    "5: 3,\n",
    "6: 4\n",
    "}\n",
    "# Use map function to apply the mapping to the age column\n",
    "df['Education'] = df['Education'].map(category_mapping2)\n",
    "# Check the result\n",
    "print(df['Education'].value_counts())"
   ]
  },
  {
   "cell_type": "code",
   "execution_count": 24,
   "id": "88c69c7a-75f7-488c-bbf4-98e90c386ee8",
   "metadata": {},
   "outputs": [
    {
     "name": "stdout",
     "output_type": "stream",
     "text": [
      "Unique category levels: [4 3 2 1]\n"
     ]
    }
   ],
   "source": [
    "## cheching if recategorization is right\n",
    "unique_levels2 = df['Education'].unique()\n",
    "# Print the unique category levels\n",
    "print(\"Unique category levels:\", unique_levels2)"
   ]
  },
  {
   "cell_type": "code",
   "execution_count": 25,
   "id": "18133bdf-9c25-49dc-9986-b62dff9ac3c3",
   "metadata": {},
   "outputs": [
    {
     "name": "stdout",
     "output_type": "stream",
     "text": [
      "Income\n",
      "4    20646\n",
      "1    20324\n",
      "2    18297\n",
      "3    11425\n",
      "Name: count, dtype: int64\n"
     ]
    }
   ],
   "source": [
    "## recarogarizing\n",
    "## Income variable\n",
    "# Create a mapping dictionary to map original categories to new categories\n",
    "category_mapping3 = {\n",
    "1: 1,\n",
    "2: 1,\n",
    "3: 1,\n",
    "4: 1,\n",
    "5: 2,\n",
    "6: 2,\n",
    "7: 3,\n",
    "8: 4\n",
    "}\n",
    "# Use map function to apply the mapping to the age column\n",
    "df['Income'] = df['Income'].map(category_mapping3)\n",
    "# Check the result\n",
    "print(df['Income'].value_counts())"
   ]
  },
  {
   "cell_type": "code",
   "execution_count": 26,
   "id": "188cbaa5-87b3-47dd-a93a-e3e669d745ad",
   "metadata": {},
   "outputs": [
    {
     "name": "stdout",
     "output_type": "stream",
     "text": [
      "Unique category levels: [4 3 2 1]\n"
     ]
    }
   ],
   "source": [
    "## cheching if recategorization is right\n",
    "unique_levels3 = df['Income'].unique()\n",
    "# Print the unique category levels\n",
    "print(\"Unique category levels:\", unique_levels3)"
   ]
  },
  {
   "cell_type": "code",
   "execution_count": 27,
   "id": "be5a3a40-2fa5-4641-b25a-4be46c26cb79",
   "metadata": {},
   "outputs": [],
   "source": [
    "rs = 73"
   ]
  },
  {
   "cell_type": "code",
   "execution_count": 28,
   "id": "1ecffda0-c355-49da-981c-3cee349c2b41",
   "metadata": {},
   "outputs": [],
   "source": [
    "#[train, test]= train_test_split(df, random_state=rs, train_size = .8)\n",
    "x=df.drop(columns='Diabetes_binary')\n",
    "y=df['Diabetes_binary']\n",
    "Xtrain,Xtest,Ytrain,Ytest=train_test_split(x,y,test_size=0.20,stratify=y,random_state=73)"
   ]
  },
  {
   "cell_type": "code",
   "execution_count": 29,
   "id": "c50a0ec6-9673-4b56-9b09-bff338cadc6d",
   "metadata": {},
   "outputs": [
    {
     "data": {
      "text/html": [
       "<div>\n",
       "<style scoped>\n",
       "    .dataframe tbody tr th:only-of-type {\n",
       "        vertical-align: middle;\n",
       "    }\n",
       "\n",
       "    .dataframe tbody tr th {\n",
       "        vertical-align: top;\n",
       "    }\n",
       "\n",
       "    .dataframe thead th {\n",
       "        text-align: right;\n",
       "    }\n",
       "</style>\n",
       "<table border=\"1\" class=\"dataframe\">\n",
       "  <thead>\n",
       "    <tr style=\"text-align: right;\">\n",
       "      <th></th>\n",
       "      <th>HighBP</th>\n",
       "      <th>HighChol</th>\n",
       "      <th>CholCheck</th>\n",
       "      <th>BMI</th>\n",
       "      <th>Smoker</th>\n",
       "      <th>Stroke</th>\n",
       "      <th>HeartDiseaseorAttack</th>\n",
       "      <th>PhysActivity</th>\n",
       "      <th>Fruits</th>\n",
       "      <th>Veggies</th>\n",
       "      <th>...</th>\n",
       "      <th>NoDocbcCost</th>\n",
       "      <th>GenHlth</th>\n",
       "      <th>MentHlth</th>\n",
       "      <th>PhysHlth</th>\n",
       "      <th>DiffWalk</th>\n",
       "      <th>Sex</th>\n",
       "      <th>Age</th>\n",
       "      <th>Education</th>\n",
       "      <th>Income</th>\n",
       "      <th>Diabetes_binary</th>\n",
       "    </tr>\n",
       "  </thead>\n",
       "  <tbody>\n",
       "    <tr>\n",
       "      <th>54330</th>\n",
       "      <td>1</td>\n",
       "      <td>1</td>\n",
       "      <td>1</td>\n",
       "      <td>34</td>\n",
       "      <td>0</td>\n",
       "      <td>0</td>\n",
       "      <td>0</td>\n",
       "      <td>1</td>\n",
       "      <td>1</td>\n",
       "      <td>1</td>\n",
       "      <td>...</td>\n",
       "      <td>0</td>\n",
       "      <td>3</td>\n",
       "      <td>0</td>\n",
       "      <td>0</td>\n",
       "      <td>0</td>\n",
       "      <td>1</td>\n",
       "      <td>3</td>\n",
       "      <td>3</td>\n",
       "      <td>1</td>\n",
       "      <td>1</td>\n",
       "    </tr>\n",
       "    <tr>\n",
       "      <th>61696</th>\n",
       "      <td>1</td>\n",
       "      <td>0</td>\n",
       "      <td>1</td>\n",
       "      <td>43</td>\n",
       "      <td>1</td>\n",
       "      <td>0</td>\n",
       "      <td>1</td>\n",
       "      <td>1</td>\n",
       "      <td>1</td>\n",
       "      <td>1</td>\n",
       "      <td>...</td>\n",
       "      <td>0</td>\n",
       "      <td>5</td>\n",
       "      <td>30</td>\n",
       "      <td>30</td>\n",
       "      <td>0</td>\n",
       "      <td>0</td>\n",
       "      <td>2</td>\n",
       "      <td>2</td>\n",
       "      <td>3</td>\n",
       "      <td>1</td>\n",
       "    </tr>\n",
       "    <tr>\n",
       "      <th>53756</th>\n",
       "      <td>1</td>\n",
       "      <td>1</td>\n",
       "      <td>1</td>\n",
       "      <td>38</td>\n",
       "      <td>1</td>\n",
       "      <td>0</td>\n",
       "      <td>1</td>\n",
       "      <td>0</td>\n",
       "      <td>0</td>\n",
       "      <td>1</td>\n",
       "      <td>...</td>\n",
       "      <td>0</td>\n",
       "      <td>4</td>\n",
       "      <td>15</td>\n",
       "      <td>30</td>\n",
       "      <td>1</td>\n",
       "      <td>1</td>\n",
       "      <td>3</td>\n",
       "      <td>2</td>\n",
       "      <td>2</td>\n",
       "      <td>1</td>\n",
       "    </tr>\n",
       "    <tr>\n",
       "      <th>31981</th>\n",
       "      <td>0</td>\n",
       "      <td>1</td>\n",
       "      <td>1</td>\n",
       "      <td>21</td>\n",
       "      <td>0</td>\n",
       "      <td>0</td>\n",
       "      <td>0</td>\n",
       "      <td>0</td>\n",
       "      <td>1</td>\n",
       "      <td>1</td>\n",
       "      <td>...</td>\n",
       "      <td>0</td>\n",
       "      <td>2</td>\n",
       "      <td>0</td>\n",
       "      <td>0</td>\n",
       "      <td>0</td>\n",
       "      <td>0</td>\n",
       "      <td>3</td>\n",
       "      <td>4</td>\n",
       "      <td>2</td>\n",
       "      <td>0</td>\n",
       "    </tr>\n",
       "    <tr>\n",
       "      <th>34456</th>\n",
       "      <td>0</td>\n",
       "      <td>1</td>\n",
       "      <td>1</td>\n",
       "      <td>30</td>\n",
       "      <td>0</td>\n",
       "      <td>0</td>\n",
       "      <td>0</td>\n",
       "      <td>0</td>\n",
       "      <td>0</td>\n",
       "      <td>0</td>\n",
       "      <td>...</td>\n",
       "      <td>0</td>\n",
       "      <td>3</td>\n",
       "      <td>0</td>\n",
       "      <td>5</td>\n",
       "      <td>0</td>\n",
       "      <td>0</td>\n",
       "      <td>3</td>\n",
       "      <td>3</td>\n",
       "      <td>2</td>\n",
       "      <td>0</td>\n",
       "    </tr>\n",
       "  </tbody>\n",
       "</table>\n",
       "<p>5 rows × 22 columns</p>\n",
       "</div>"
      ],
      "text/plain": [
       "       HighBP  HighChol  CholCheck  BMI  Smoker  Stroke  HeartDiseaseorAttack  \\\n",
       "54330       1         1          1   34       0       0                     0   \n",
       "61696       1         0          1   43       1       0                     1   \n",
       "53756       1         1          1   38       1       0                     1   \n",
       "31981       0         1          1   21       0       0                     0   \n",
       "34456       0         1          1   30       0       0                     0   \n",
       "\n",
       "       PhysActivity  Fruits  Veggies  ...  NoDocbcCost  GenHlth  MentHlth  \\\n",
       "54330             1       1        1  ...            0        3         0   \n",
       "61696             1       1        1  ...            0        5        30   \n",
       "53756             0       0        1  ...            0        4        15   \n",
       "31981             0       1        1  ...            0        2         0   \n",
       "34456             0       0        0  ...            0        3         0   \n",
       "\n",
       "       PhysHlth  DiffWalk  Sex  Age  Education  Income  Diabetes_binary  \n",
       "54330         0         0    1    3          3       1                1  \n",
       "61696        30         0    0    2          2       3                1  \n",
       "53756        30         1    1    3          2       2                1  \n",
       "31981         0         0    0    3          4       2                0  \n",
       "34456         5         0    0    3          3       2                0  \n",
       "\n",
       "[5 rows x 22 columns]"
      ]
     },
     "execution_count": 29,
     "metadata": {},
     "output_type": "execute_result"
    }
   ],
   "source": [
    "# Assuming df1 is your DataFrame and col_series is your Series (single column)\n",
    "\n",
    "combined_df = Xtrain.join(Ytrain)\n",
    "combined_df.head()"
   ]
  },
  {
   "cell_type": "code",
   "execution_count": 30,
   "id": "9b96a02d-96ad-4b3c-be99-6a80c8147f75",
   "metadata": {},
   "outputs": [
    {
     "data": {
      "text/html": [
       "<div>\n",
       "<style scoped>\n",
       "    .dataframe tbody tr th:only-of-type {\n",
       "        vertical-align: middle;\n",
       "    }\n",
       "\n",
       "    .dataframe tbody tr th {\n",
       "        vertical-align: top;\n",
       "    }\n",
       "\n",
       "    .dataframe thead th {\n",
       "        text-align: right;\n",
       "    }\n",
       "</style>\n",
       "<table border=\"1\" class=\"dataframe\">\n",
       "  <thead>\n",
       "    <tr style=\"text-align: right;\">\n",
       "      <th></th>\n",
       "      <th>HighBP</th>\n",
       "      <th>HighChol</th>\n",
       "      <th>CholCheck</th>\n",
       "      <th>BMI</th>\n",
       "      <th>Smoker</th>\n",
       "      <th>Stroke</th>\n",
       "      <th>HeartDiseaseorAttack</th>\n",
       "      <th>PhysActivity</th>\n",
       "      <th>Fruits</th>\n",
       "      <th>Veggies</th>\n",
       "      <th>...</th>\n",
       "      <th>AnyHealthcare</th>\n",
       "      <th>NoDocbcCost</th>\n",
       "      <th>GenHlth</th>\n",
       "      <th>MentHlth</th>\n",
       "      <th>PhysHlth</th>\n",
       "      <th>DiffWalk</th>\n",
       "      <th>Sex</th>\n",
       "      <th>Age</th>\n",
       "      <th>Education</th>\n",
       "      <th>Income</th>\n",
       "    </tr>\n",
       "  </thead>\n",
       "  <tbody>\n",
       "    <tr>\n",
       "      <th>54330</th>\n",
       "      <td>1</td>\n",
       "      <td>1</td>\n",
       "      <td>1</td>\n",
       "      <td>34</td>\n",
       "      <td>0</td>\n",
       "      <td>0</td>\n",
       "      <td>0</td>\n",
       "      <td>1</td>\n",
       "      <td>1</td>\n",
       "      <td>1</td>\n",
       "      <td>...</td>\n",
       "      <td>1</td>\n",
       "      <td>0</td>\n",
       "      <td>3</td>\n",
       "      <td>0</td>\n",
       "      <td>0</td>\n",
       "      <td>0</td>\n",
       "      <td>1</td>\n",
       "      <td>3</td>\n",
       "      <td>3</td>\n",
       "      <td>1</td>\n",
       "    </tr>\n",
       "    <tr>\n",
       "      <th>61696</th>\n",
       "      <td>1</td>\n",
       "      <td>0</td>\n",
       "      <td>1</td>\n",
       "      <td>43</td>\n",
       "      <td>1</td>\n",
       "      <td>0</td>\n",
       "      <td>1</td>\n",
       "      <td>1</td>\n",
       "      <td>1</td>\n",
       "      <td>1</td>\n",
       "      <td>...</td>\n",
       "      <td>1</td>\n",
       "      <td>0</td>\n",
       "      <td>5</td>\n",
       "      <td>30</td>\n",
       "      <td>30</td>\n",
       "      <td>0</td>\n",
       "      <td>0</td>\n",
       "      <td>2</td>\n",
       "      <td>2</td>\n",
       "      <td>3</td>\n",
       "    </tr>\n",
       "    <tr>\n",
       "      <th>53756</th>\n",
       "      <td>1</td>\n",
       "      <td>1</td>\n",
       "      <td>1</td>\n",
       "      <td>38</td>\n",
       "      <td>1</td>\n",
       "      <td>0</td>\n",
       "      <td>1</td>\n",
       "      <td>0</td>\n",
       "      <td>0</td>\n",
       "      <td>1</td>\n",
       "      <td>...</td>\n",
       "      <td>1</td>\n",
       "      <td>0</td>\n",
       "      <td>4</td>\n",
       "      <td>15</td>\n",
       "      <td>30</td>\n",
       "      <td>1</td>\n",
       "      <td>1</td>\n",
       "      <td>3</td>\n",
       "      <td>2</td>\n",
       "      <td>2</td>\n",
       "    </tr>\n",
       "    <tr>\n",
       "      <th>31981</th>\n",
       "      <td>0</td>\n",
       "      <td>1</td>\n",
       "      <td>1</td>\n",
       "      <td>21</td>\n",
       "      <td>0</td>\n",
       "      <td>0</td>\n",
       "      <td>0</td>\n",
       "      <td>0</td>\n",
       "      <td>1</td>\n",
       "      <td>1</td>\n",
       "      <td>...</td>\n",
       "      <td>1</td>\n",
       "      <td>0</td>\n",
       "      <td>2</td>\n",
       "      <td>0</td>\n",
       "      <td>0</td>\n",
       "      <td>0</td>\n",
       "      <td>0</td>\n",
       "      <td>3</td>\n",
       "      <td>4</td>\n",
       "      <td>2</td>\n",
       "    </tr>\n",
       "    <tr>\n",
       "      <th>34456</th>\n",
       "      <td>0</td>\n",
       "      <td>1</td>\n",
       "      <td>1</td>\n",
       "      <td>30</td>\n",
       "      <td>0</td>\n",
       "      <td>0</td>\n",
       "      <td>0</td>\n",
       "      <td>0</td>\n",
       "      <td>0</td>\n",
       "      <td>0</td>\n",
       "      <td>...</td>\n",
       "      <td>1</td>\n",
       "      <td>0</td>\n",
       "      <td>3</td>\n",
       "      <td>0</td>\n",
       "      <td>5</td>\n",
       "      <td>0</td>\n",
       "      <td>0</td>\n",
       "      <td>3</td>\n",
       "      <td>3</td>\n",
       "      <td>2</td>\n",
       "    </tr>\n",
       "  </tbody>\n",
       "</table>\n",
       "<p>5 rows × 21 columns</p>\n",
       "</div>"
      ],
      "text/plain": [
       "       HighBP  HighChol  CholCheck  BMI  Smoker  Stroke  HeartDiseaseorAttack  \\\n",
       "54330       1         1          1   34       0       0                     0   \n",
       "61696       1         0          1   43       1       0                     1   \n",
       "53756       1         1          1   38       1       0                     1   \n",
       "31981       0         1          1   21       0       0                     0   \n",
       "34456       0         1          1   30       0       0                     0   \n",
       "\n",
       "       PhysActivity  Fruits  Veggies  ...  AnyHealthcare  NoDocbcCost  \\\n",
       "54330             1       1        1  ...              1            0   \n",
       "61696             1       1        1  ...              1            0   \n",
       "53756             0       0        1  ...              1            0   \n",
       "31981             0       1        1  ...              1            0   \n",
       "34456             0       0        0  ...              1            0   \n",
       "\n",
       "       GenHlth  MentHlth  PhysHlth  DiffWalk  Sex  Age  Education  Income  \n",
       "54330        3         0         0         0    1    3          3       1  \n",
       "61696        5        30        30         0    0    2          2       3  \n",
       "53756        4        15        30         1    1    3          2       2  \n",
       "31981        2         0         0         0    0    3          4       2  \n",
       "34456        3         0         5         0    0    3          3       2  \n",
       "\n",
       "[5 rows x 21 columns]"
      ]
     },
     "execution_count": 30,
     "metadata": {},
     "output_type": "execute_result"
    }
   ],
   "source": [
    "Xtrain.head()"
   ]
  },
  {
   "cell_type": "code",
   "execution_count": 31,
   "id": "b28748ab-4f3e-4a7d-824f-4cfee52cd90d",
   "metadata": {},
   "outputs": [
    {
     "data": {
      "text/plain": [
       "Index(['HighBP', 'HighChol', 'CholCheck', 'BMI', 'Smoker', 'Stroke',\n",
       "       'HeartDiseaseorAttack', 'PhysActivity', 'Fruits', 'Veggies',\n",
       "       'HvyAlcoholConsump', 'AnyHealthcare', 'NoDocbcCost', 'GenHlth',\n",
       "       'MentHlth', 'PhysHlth', 'DiffWalk', 'Sex', 'Age', 'Education',\n",
       "       'Income'],\n",
       "      dtype='object')"
      ]
     },
     "execution_count": 31,
     "metadata": {},
     "output_type": "execute_result"
    }
   ],
   "source": [
    "Xtrain.columns"
   ]
  },
  {
   "cell_type": "code",
   "execution_count": 32,
   "id": "51aae4a7-4520-4b2a-baf9-05d485ec369c",
   "metadata": {},
   "outputs": [
    {
     "data": {
      "text/plain": [
       "Diabetes_binary\n",
       "1    50.000884\n",
       "0    49.999116\n",
       "Name: proportion, dtype: float64"
      ]
     },
     "execution_count": 32,
     "metadata": {},
     "output_type": "execute_result"
    }
   ],
   "source": [
    "# To check the structure of the training and testing data is same or not\n",
    "Ytrain.value_counts(normalize=True) * 100"
   ]
  },
  {
   "cell_type": "code",
   "execution_count": 33,
   "id": "71981818-cb89-4294-a48a-e915d86f7889",
   "metadata": {},
   "outputs": [
    {
     "data": {
      "text/plain": [
       "Diabetes_binary\n",
       "0    50.003536\n",
       "1    49.996464\n",
       "Name: proportion, dtype: float64"
      ]
     },
     "execution_count": 33,
     "metadata": {},
     "output_type": "execute_result"
    }
   ],
   "source": [
    "# To check the structure of the training and testing data is same or not\n",
    "Ytest.value_counts(normalize=True) * 100"
   ]
  },
  {
   "cell_type": "code",
   "execution_count": 34,
   "id": "af583b49-dfc0-4c05-a29e-2502f62e8916",
   "metadata": {},
   "outputs": [
    {
     "name": "stdout",
     "output_type": "stream",
     "text": [
      "Requirement already satisfied: statsmodels in c:\\users\\pc\\appdata\\local\\programs\\python\\python312\\lib\\site-packages (0.14.1)\n",
      "Requirement already satisfied: numpy<2,>=1.18 in c:\\users\\pc\\appdata\\local\\programs\\python\\python312\\lib\\site-packages (from statsmodels) (1.26.4)\n",
      "Requirement already satisfied: scipy!=1.9.2,>=1.4 in c:\\users\\pc\\appdata\\local\\programs\\python\\python312\\lib\\site-packages (from statsmodels) (1.12.0)\n",
      "Requirement already satisfied: pandas!=2.1.0,>=1.0 in c:\\users\\pc\\appdata\\local\\programs\\python\\python312\\lib\\site-packages (from statsmodels) (2.2.1)\n",
      "Requirement already satisfied: patsy>=0.5.4 in c:\\users\\pc\\appdata\\local\\programs\\python\\python312\\lib\\site-packages (from statsmodels) (0.5.6)\n",
      "Requirement already satisfied: packaging>=21.3 in c:\\users\\pc\\appdata\\local\\programs\\python\\python312\\lib\\site-packages (from statsmodels) (23.2)\n",
      "Requirement already satisfied: python-dateutil>=2.8.2 in c:\\users\\pc\\appdata\\local\\programs\\python\\python312\\lib\\site-packages (from pandas!=2.1.0,>=1.0->statsmodels) (2.9.0.post0)\n",
      "Requirement already satisfied: pytz>=2020.1 in c:\\users\\pc\\appdata\\local\\programs\\python\\python312\\lib\\site-packages (from pandas!=2.1.0,>=1.0->statsmodels) (2024.1)\n",
      "Requirement already satisfied: tzdata>=2022.7 in c:\\users\\pc\\appdata\\local\\programs\\python\\python312\\lib\\site-packages (from pandas!=2.1.0,>=1.0->statsmodels) (2024.1)\n",
      "Requirement already satisfied: six in c:\\users\\pc\\appdata\\local\\programs\\python\\python312\\lib\\site-packages (from patsy>=0.5.4->statsmodels) (1.16.0)\n"
     ]
    }
   ],
   "source": [
    "!pip install statsmodels"
   ]
  },
  {
   "cell_type": "code",
   "execution_count": 35,
   "id": "c7b84e3d-4313-4c6a-96cb-d7d37f2e01df",
   "metadata": {},
   "outputs": [
    {
     "data": {
      "image/png": "[encoded data removed]",
      "text/plain": [
       "<Figure size 800x600 with 1 Axes>"
      ]
     },
     "metadata": {},
     "output_type": "display_data"
    }
   ],
   "source": [
    "## Descriptive Analysis\n",
    "\n",
    "# Diabetes Variable\n",
    "category_counts1 = Ytrain.value_counts()\n",
    "category_counts1.index = ['No', 'Yes']\n",
    "# Plot a pie chart\n",
    "plt.figure(figsize=(8, 6))\n",
    "plt.pie(category_counts1, labels=category_counts1.index, autopct='%1.1f%%', startangle=140)\n",
    "plt.legend([\"No\",\"Yes\"])\n",
    "plt.title('Pie Chart of Diabetes Status')\n",
    "plt.axis('equal')  # Equal aspect ratio ensures that pie is drawn as a circle\n",
    "plt.savefig('pie_chart_Diabetes.png')\n",
    "plt.show()"
   ]
  },
  {
   "cell_type": "code",
   "execution_count": 36,
   "id": "a26c5c89-935d-4129-89a7-02c4257b79b9",
   "metadata": {},
   "outputs": [
    {
     "data": {
      "image/png": "[encoded data removed]",
      "text/plain": [
       "<Figure size 800x800 with 1 Axes>"
      ]
     },
     "metadata": {},
     "output_type": "display_data"
    }
   ],
   "source": [
    "# Descriptive analysis\n",
    "# Diabetes status category - There are 2 categories\n",
    "plt.subplots(figsize=(8, 8))\n",
    "sns.countplot(data=Xtrain, x='Age',hue=\"Age\",palette=\"Set1\")\n",
    "\n",
    "# Set custom x-axis tick positions\n",
    "plt.xticks([0, 1, 2, 3])\n",
    "\n",
    "# Set custom x-axis tick labels\n",
    "plt.gca().set_xticklabels(['age1', 'age 2', 'age 3', 'age 4'])\n",
    "plt.legend(['age1', 'age 2', 'age 3', 'age 4'])\n",
    "plt.show()"
   ]
  },
  {
   "cell_type": "code",
   "execution_count": 37,
   "id": "f348a7d0-29a4-4bde-a3f6-107311b4f6a2",
   "metadata": {},
   "outputs": [
    {
     "data": {
      "image/png": "[encoded data removed]",
      "text/plain": [
       "<Figure size 800x800 with 1 Axes>"
      ]
     },
     "metadata": {},
     "output_type": "display_data"
    }
   ],
   "source": [
    "# Descriptive analysis\n",
    "# Age category - There are 4 categories\n",
    "plt.subplots(figsize=(8, 8))\n",
    "sns.countplot(data=Xtrain, x='Age',hue=\"Age\",palette=\"Set1\")\n",
    "\n",
    "# Set custom x-axis tick positions\n",
    "plt.xticks([0, 1, 2, 3])\n",
    "\n",
    "# Set custom x-axis tick labels\n",
    "plt.gca().set_xticklabels(['18-29', '30-49', '50-69', '70 or older'])\n",
    "plt.legend(['18-29', '30-49', '50-69', '70 or older'])\n",
    "plt.show()"
   ]
  },
  {
   "cell_type": "code",
   "execution_count": 38,
   "id": "033d4e6f-af40-4226-8c49-3a61d0f8065b",
   "metadata": {},
   "outputs": [
    {
     "data": {
      "image/png": "[encoded data removed]",
      "text/plain": [
       "<Figure size 640x480 with 1 Axes>"
      ]
     },
     "metadata": {},
     "output_type": "display_data"
    }
   ],
   "source": [
    "## stacked bar chart\n",
    "# Group by the two categorical variables and count occurrences\n",
    "#grouped_df = df1.groupby([X_train['HighBP'],y_train]).size().unstack(fill_value=0)\n",
    "grouped_df = combined_df.groupby(['Age','Diabetes_binary']).size().unstack(fill_value=0)\n",
    "# Normalize the data to get percentages\n",
    "grouped_df_percent = grouped_df.div(grouped_df.sum(axis=1), axis=0) * 100\n",
    "\n",
    "# Plot\n",
    "ax = grouped_df_percent.plot(kind='bar', stacked=True,color=['blue', 'green'])\n",
    "\n",
    "# Add labels and title\n",
    "plt.xlabel('Age categories')\n",
    "plt.ylabel('Percentage')\n",
    "plt.title('Stacked Bar Chart of Diabetes Status Vs Age')\n",
    "\n",
    "# Set the tick labels for both x-axis and legend\n",
    "ax.set_xticklabels(['18-29', '30-49','50-69','70 or older'])\n",
    "handles, labels = ax.get_legend_handles_labels()\n",
    "ax.legend(handles, ['No', 'Yes'],title='Diabetes Status')\n",
    "\n",
    "# Add percentages as labels on the bars\n",
    "for container in ax.containers:\n",
    "    ax.bar_label(container, labels=[f'{int(val)}%' for val in container.datavalues])\n",
    "\n",
    "# Show plot\n",
    "plt.show()"
   ]
  },
  {
   "cell_type": "code",
   "execution_count": 39,
   "id": "c107eaa5-7022-4dda-bd89-88359c925a7d",
   "metadata": {},
   "outputs": [],
   "source": [
    "from scipy.stats import chi2_contingency\n",
    "import pandas as pd\n",
    "\n",
    "# Create a contingency table\n",
    "contingency_table = pd.crosstab(Xtrain['Age'], Ytrain)\n",
    "\n",
    "# Perform chi-square test\n",
    "chi2, p, _, _ = chi2_contingency(contingency_table)\n"
   ]
  },
  {
   "cell_type": "code",
   "execution_count": 40,
   "id": "e1d873ff-f15e-475b-a661-b57ecfdc65ab",
   "metadata": {},
   "outputs": [
    {
     "name": "stdout",
     "output_type": "stream",
     "text": [
      "4285.754515944275 0.0\n",
      "There is significant evidence to reject the null hypothesis (variables are associated).\n"
     ]
    }
   ],
   "source": [
    "print(chi2, p )\n",
    "alpha = 0.05\n",
    "if p < alpha:\n",
    "    print(\"There is significant evidence to reject the null hypothesis (variables are associated).\")\n",
    "else:\n",
    "    print(\"There is not enough evidence to reject the null hypothesis (variables are not associated).\")"
   ]
  },
  {
   "cell_type": "code",
   "execution_count": 41,
   "id": "ef96468f-f2b4-42e2-84fe-d37b02aeba45",
   "metadata": {},
   "outputs": [
    {
     "data": {
      "image/png": "[encoded data removed]",
      "text/plain": [
       "<Figure size 800x800 with 1 Axes>"
      ]
     },
     "metadata": {},
     "output_type": "display_data"
    }
   ],
   "source": [
    "# Gender - There are 2 categories\n",
    "plt.subplots(figsize=(8, 8))\n",
    "sex_plot = sns.countplot(data=Xtrain, x='Sex',hue=\"Sex\",palette=\"Set2\")\n",
    "# Set custom x-axis tick positions\n",
    "plt.xticks([0, 1])\n",
    "\n",
    "# Set custom x-axis tick labels\n",
    "plt.gca().set_xticklabels(['Female', 'Male'])\n",
    "plt.legend(['Female', 'Male'])\n",
    "\n",
    "\n",
    "for container in sex_plot.containers:\n",
    "    sex_plot.bar_label(container)\n",
    "\n",
    "plt.show()"
   ]
  },
  {
   "cell_type": "code",
   "execution_count": 42,
   "id": "dbdd4038-f69a-4920-bd56-9d77d2bf0b0e",
   "metadata": {},
   "outputs": [
    {
     "data": {
      "image/png": "[encoded data removed]",
      "text/plain": [
       "<Figure size 640x480 with 1 Axes>"
      ]
     },
     "metadata": {},
     "output_type": "display_data"
    }
   ],
   "source": [
    "## stacked bar chart\n",
    "# Group by the two categorical variables and count occurrences\n",
    "#grouped_df = df1.groupby([X_train['HighBP'],y_train]).size().unstack(fill_value=0)\n",
    "grouped_df = combined_df.groupby(['Sex','Diabetes_binary']).size().unstack(fill_value=0)\n",
    "# Normalize the data to get percentages\n",
    "grouped_df_percent = grouped_df.div(grouped_df.sum(axis=1), axis=0) * 100\n",
    "\n",
    "# Plot\n",
    "ax = grouped_df_percent.plot(kind='bar', stacked=True,color=['blue', 'red'])\n",
    "\n",
    "# Add labels and title\n",
    "plt.xlabel('Gender')\n",
    "plt.ylabel('Percentage')\n",
    "plt.title('Stacked Bar Chart of Diabetes Status Vs Gender')\n",
    "\n",
    "# Set the tick labels for both x-axis and legend\n",
    "ax.set_xticklabels(['Female', 'Male'])\n",
    "handles, labels = ax.get_legend_handles_labels()\n",
    "ax.legend(handles, ['No', 'Yes'],title='Diabetes Status')\n",
    "\n",
    "# Add percentages as labels on the bars\n",
    "for container in ax.containers:\n",
    "    ax.bar_label(container, labels=[f'{int(val)}%' for val in container.datavalues])\n",
    "\n",
    "# Show plot\n",
    "plt.show()"
   ]
  },
  {
   "cell_type": "code",
   "execution_count": 43,
   "id": "6b2c051c-1ad7-4d09-bd8d-ca0d4c8724bc",
   "metadata": {},
   "outputs": [
    {
     "name": "stdout",
     "output_type": "stream",
     "text": [
      "122.3564115121977 1.9288118204710447e-28\n",
      "There is significant evidence to reject the null hypothesis (variables are associated).\n"
     ]
    }
   ],
   "source": [
    "# Chisquare test for identify whether there is an association between Sex and the Diabetes status\n",
    "from scipy.stats import chi2_contingency\n",
    "\n",
    "\n",
    "# Create a contingency table\n",
    "contingency_table = pd.crosstab(Xtrain['Sex'], Ytrain)\n",
    "\n",
    "# Perform chi-square test\n",
    "chi2, p, _, _ = chi2_contingency(contingency_table)\n",
    "print(chi2, p )\n",
    "alpha = 0.05\n",
    "if p < alpha:\n",
    "    print(\"There is significant evidence to reject the null hypothesis (variables are associated).\")\n",
    "else:\n",
    "    print(\"There is not enough evidence to reject the null hypothesis (variables are not associated).\")\n"
   ]
  },
  {
   "cell_type": "code",
   "execution_count": 44,
   "id": "2e573ecb-95ea-450f-82e6-110d83c2d884",
   "metadata": {},
   "outputs": [
    {
     "ename": "SyntaxError",
     "evalue": "invalid syntax (3466953192.py, line 5)",
     "output_type": "error",
     "traceback": [
      "\u001b[1;36m  Cell \u001b[1;32mIn[44], line 5\u001b[1;36m\u001b[0m\n\u001b[1;33m    for i in\u001b[0m\n\u001b[1;37m             ^\u001b[0m\n\u001b[1;31mSyntaxError\u001b[0m\u001b[1;31m:\u001b[0m invalid syntax\n"
     ]
    }
   ],
   "source": [
    "# Chisquare test for identify whether there is an association between Sex and the Diabetes status\n",
    "from scipy.stats import chi2_contingency\n",
    "\n",
    "\n",
    "for i in \n",
    "# Create a contingency table\n",
    "contingency_table = pd.crosstab(Xtrain['Gender'], Ytrain)\n",
    "\n",
    "# Perform chi-square test\n",
    "chi2, p, _, _ = chi2_contingency(contingency_table)\n",
    "print(chi2, p )\n",
    "alpha = 0.05\n",
    "if p < alpha:\n",
    "    print(\"There is significant evidence to reject the null hypothesis (variables are associated).\")\n",
    "else:\n",
    "    print(\"There is not enough evidence to reject the null hypothesis (variables are not associated).\")\n"
   ]
  },
  {
   "cell_type": "code",
   "execution_count": 60,
   "id": "e4d54d9a-402e-4c25-a437-a4b1f490f313",
   "metadata": {},
   "outputs": [
    {
     "data": {
      "image/png": "[encoded data removed]",
      "text/plain": [
       "<Figure size 800x800 with 1 Axes>"
      ]
     },
     "metadata": {},
     "output_type": "display_data"
    }
   ],
   "source": [
    "# Income categories - There are 4 categories\n",
    "plt.subplots(figsize=(8, 8))\n",
    "income_plot = sns.countplot(data=Xtrain, x='Income',hue=\"Income\",palette=\"Set1\")\n",
    "# Set custom x-axis tick positions\n",
    "plt.xticks([0, 1,2,3])\n",
    "\n",
    "# Set custom x-axis tick labels\n",
    "plt.gca().set_xticklabels(['$24999 or less', '$25000-$34999','$35000-$74999','$75000 or more'])\n",
    "plt.legend(['$24999 or less', '$25000-$34999','$35000-$74999','$75000 or more'],loc = \"lower left\")\n",
    "\n",
    "\n",
    "for container in income_plot.containers:\n",
    "    income_plot.bar_label(container)\n",
    "\n",
    "plt.show()\n"
   ]
  },
  {
   "cell_type": "code",
   "execution_count": 61,
   "id": "133f360b-e1b5-4246-9c7e-62e1c50abe7c",
   "metadata": {},
   "outputs": [
    {
     "data": {
      "image/png": "[encoded data removed]",
      "text/plain": [
       "<Figure size 640x480 with 1 Axes>"
      ]
     },
     "metadata": {},
     "output_type": "display_data"
    }
   ],
   "source": [
    "## stacked bar chart\n",
    "# Group by the two categorical variables and count occurrences\n",
    "#grouped_df = df1.groupby([X_train['HighBP'],y_train]).size().unstack(fill_value=0)\n",
    "grouped_df = combined_df.groupby(['Income','Diabetes_binary']).size().unstack(fill_value=0)\n",
    "# Normalize the data to get percentages\n",
    "grouped_df_percent = grouped_df.div(grouped_df.sum(axis=1), axis=0) * 100\n",
    "\n",
    "# Plot\n",
    "ax = grouped_df_percent.plot(kind='bar', stacked=True,color=['green', 'red'])\n",
    "\n",
    "# Add labels and title\n",
    "plt.xlabel('Income')\n",
    "plt.ylabel('Percentage')\n",
    "plt.title('Stacked Bar Chart of Diabetes Status Vs Income')\n",
    "\n",
    "# Set the tick labels for both x-axis and legend\n",
    "ax.set_xticklabels(['$24999 or less', '$25000-$34999','$35000-$74999','$75000 or more'])\n",
    "handles, labels = ax.get_legend_handles_labels()\n",
    "ax.legend(handles, ['No', 'Yes'],title='Diabetes Status',loc = \"lower right\")\n",
    "\n",
    "# Add percentages as labels on the bars\n",
    "for container in ax.containers:\n",
    "    ax.bar_label(container, labels=[f'{int(val)}%' for val in container.datavalues])\n",
    "\n",
    "# Show plot\n",
    "plt.show()"
   ]
  },
  {
   "cell_type": "code",
   "execution_count": null,
   "id": "4d8dd82f-a4d7-469b-af25-04695704275a",
   "metadata": {},
   "outputs": [],
   "source": [
    "#Chisquare test for identify whether there is an association between Income levels and the Diabetes status\n",
    "from scipy.stats import chi2_contingency\n",
    "\n",
    "# Create a contingency table\n",
    "contingency_table = pd.crosstab(Xtrain['Income'], Ytrain)\n",
    "\n",
    "# Perform chi-square test\n",
    "chi2, p, _, _ = chi2_contingency(contingency_table)\n"
   ]
  },
  {
   "cell_type": "code",
   "execution_count": null,
   "id": "331e6058-2a75-4b3f-b5dd-addd19f104d0",
   "metadata": {},
   "outputs": [],
   "source": [
    "print(chi2, p )\n",
    "alpha = 0.05\n",
    "if p < alpha:\n",
    "    print(\"There is significant evidence to reject the null hypothesis (variables are associated).\")\n",
    "else:\n",
    "    print(\"There is not enough evidence to reject the null hypothesis (variables are not associated).\")"
   ]
  },
  {
   "cell_type": "code",
   "execution_count": null,
   "id": "5b2d1f22-e79f-45da-a6d1-69a2d1c2cab2",
   "metadata": {},
   "outputs": [],
   "source": [
    "# Any difficulty in walking - Yes or No\n",
    "plt.subplots(figsize=(8, 8))\n",
    "diffwalk_plot = sns.countplot(data=Xtrain, x='DiffWalk',hue=\"DiffWalk\",palette=\"Set2\")\n",
    "# Set custom x-axis tick positions\n",
    "plt.xticks([0, 1])\n",
    "\n",
    "# Set custom x-axis tick labels\n",
    "plt.gca().set_xticklabels(['No','Yes'])\n",
    "plt.legend(['No','Yes'])\n",
    "\n",
    "\n",
    "for container in diffwalk_plot.containers:\n",
    "    diffwalk_plot.bar_label(container)\n",
    "\n",
    "plt.show()"
   ]
  },
  {
   "cell_type": "code",
   "execution_count": null,
   "id": "57fcb5f2-824f-49d4-8a63-45952d9f0799",
   "metadata": {},
   "outputs": [],
   "source": [
    "#Chisquare test for identify whether there is an association between Income levels and the Diabetes status\n",
    "from scipy.stats import chi2_contingency\n",
    "\n",
    "# Create a contingency table\n",
    "contingency_table = pd.crosstab(Xtrain['DiffWalk'], Ytrain)\n",
    "\n",
    "# Perform chi-square test\n",
    "chi2, p, _, _ = chi2_contingency(contingency_table)"
   ]
  },
  {
   "cell_type": "code",
   "execution_count": null,
   "id": "1bc2bb4c-b33f-45a6-b712-a80178be7962",
   "metadata": {},
   "outputs": [],
   "source": [
    "print(chi2, p )\n",
    "alpha = 0.05\n",
    "if p < alpha:\n",
    "    print(\"There is significant evidence to reject the null hypothesis (variables are associated).\")\n",
    "else:\n",
    "    print(\"There is not enough evidence to reject the null hypothesis (variables are not associated).\")"
   ]
  },
  {
   "cell_type": "code",
   "execution_count": 45,
   "id": "7cc5a4f5-e708-4ae6-a919-b48806a5d230",
   "metadata": {},
   "outputs": [
    {
     "data": {
      "image/png": "[encoded data removed]",
      "text/plain": [
       "<Figure size 800x800 with 1 Axes>"
      ]
     },
     "metadata": {},
     "output_type": "display_data"
    }
   ],
   "source": [
    "# Education categories - There are 4 categories\n",
    "plt.subplots(figsize=(8, 8))\n",
    "edu_plot = sns.countplot(data=Xtrain, x='Education',hue='Education',palette=\"Set2\")\n",
    "# Set custom x-axis tick positions\n",
    "plt.xticks([0, 1,2,3])\n",
    "\n",
    "# Set custom x-axis tick labels\n",
    "plt.gca().set_xticklabels(['level1','level2','level3','level4'])\n",
    "plt.legend(['level1','level2','level3','level4'])\n",
    "\n",
    "\n",
    "for container in edu_plot.containers:\n",
    "    edu_plot.bar_label(container)\n",
    "\n",
    "plt.show()\n"
   ]
  },
  {
   "cell_type": "code",
   "execution_count": 46,
   "id": "be90f3e9-3d11-4c6b-9c6a-700146af8825",
   "metadata": {},
   "outputs": [],
   "source": [
    "#Chisquare test for identify whether there is an association between Income levels and the Diabetes status\n",
    "from scipy.stats import chi2_contingency\n",
    "\n",
    "# Create a contingency table\n",
    "contingency_table = pd.crosstab(Xtrain['Education'], Ytrain)\n",
    "\n",
    "# Perform chi-square test\n",
    "chi2, p, _, _ = chi2_contingency(contingency_table)"
   ]
  },
  {
   "cell_type": "code",
   "execution_count": 47,
   "id": "ebb6240e-989f-4e93-960c-94082d9682b5",
   "metadata": {},
   "outputs": [
    {
     "name": "stdout",
     "output_type": "stream",
     "text": [
      "1517.4638672956532 0.0\n",
      "There is significant evidence to reject the null hypothesis (variables are associated).\n"
     ]
    }
   ],
   "source": [
    "print(chi2, p )\n",
    "alpha = 0.05\n",
    "if p < alpha:\n",
    "    print(\"There is significant evidence to reject the null hypothesis (variables are associated).\")\n",
    "else:\n",
    "    print(\"There is not enough evidence to reject the null hypothesis (variables are not associated).\")"
   ]
  },
  {
   "cell_type": "code",
   "execution_count": 48,
   "id": "edc8b003-d8ec-4792-b275-e109b75a4c84",
   "metadata": {},
   "outputs": [
    {
     "data": {
      "image/png": "[encoded data removed]",
      "text/plain": [
       "<Figure size 800x600 with 1 Axes>"
      ]
     },
     "metadata": {},
     "output_type": "display_data"
    }
   ],
   "source": [
    "# Smoker \n",
    "category_counts5 = Xtrain['Smoker'].value_counts()\n",
    "category_counts5.index = ['No', 'Yes']\n",
    "# Plot a pie chart\n",
    "plt.figure(figsize=(8, 6))\n",
    "plt.pie(category_counts5, labels=category_counts5.index, autopct='%1.1f%%', startangle=140)\n",
    "plt.title('Pie Chart of Smoking Status')\n",
    "plt.legend(['No', 'Yes'])\n",
    "plt.axis('equal')  # Equal aspect ratio ensures that pie is drawn as a circle\n",
    "plt.savefig('pie_chart_Smoke.png')\n",
    "plt.show()"
   ]
  },
  {
   "cell_type": "code",
   "execution_count": 49,
   "id": "848d3ee0-b091-4ccd-bd6c-e65e2446b2bc",
   "metadata": {},
   "outputs": [
    {
     "data": {
      "image/png": "[encoded data removed]",
      "text/plain": [
       "<Figure size 800x600 with 1 Axes>"
      ]
     },
     "metadata": {},
     "output_type": "display_data"
    }
   ],
   "source": [
    "# General health\n",
    "category_counts6 = Xtrain['GenHlth'].value_counts()\n",
    "category_counts6.index = ['Excellent', 'Very good','Good','Fair','Poor']\n",
    "# Plot a pie chart\n",
    "plt.figure(figsize=(8, 6))\n",
    "plt.pie(category_counts6, labels=category_counts6.index, autopct='%1.1f%%', startangle=140)\n",
    "#plt.title('Pie Chart of General health Status')\n",
    "plt.legend(['Excellent', 'Very good','Good','Fair','Poor'],loc='lower left')\n",
    "plt.axis('equal')  # Equal aspect ratio ensures that pie is drawn as a circle\n",
    "plt.savefig('pie_chart_Stroke.png')\n",
    "plt.show()"
   ]
  },
  {
   "cell_type": "code",
   "execution_count": 50,
   "id": "27dd4b2d-1436-4009-aa70-7a22cd365bed",
   "metadata": {},
   "outputs": [
    {
     "data": {
      "image/png": "[encoded data removed]",
      "text/plain": [
       "<Figure size 640x480 with 1 Axes>"
      ]
     },
     "metadata": {},
     "output_type": "display_data"
    }
   ],
   "source": [
    "## stacked bar chart\n",
    "# Group by the two categorical variables and count occurrences\n",
    "#grouped_df = df1.groupby([X_train['HighBP'],y_train]).size().unstack(fill_value=0)\n",
    "grouped_df = combined_df.groupby(['GenHlth','Diabetes_binary']).size().unstack(fill_value=0)\n",
    "# Normalize the data to get percentages\n",
    "grouped_df_percent = grouped_df.div(grouped_df.sum(axis=1), axis=0) * 100\n",
    "\n",
    "# Plot\n",
    "ax = grouped_df_percent.plot(kind='bar', stacked=True,color=['purple', 'orange'])\n",
    "\n",
    "# Add labels and title\n",
    "plt.xlabel('General Health')\n",
    "plt.ylabel('Percentage')\n",
    "plt.title('Stacked Bar Chart of Diabetes Status Vs General health')\n",
    "\n",
    "# Set the tick labels for both x-axis and legend\n",
    "ax.set_xticklabels(['Excellent', 'Very good','Good','Fair','Poor'])\n",
    "handles, labels = ax.get_legend_handles_labels()\n",
    "ax.legend(handles, ['No', 'Yes'],title='Diabetes Status',loc = \"lower left\")\n",
    "\n",
    "# Add percentages as labels on the bars\n",
    "for container in ax.containers:\n",
    "    ax.bar_label(container, labels=[f'{int(val)}%' for val in container.datavalues])\n",
    "\n",
    "# Show plot\n",
    "plt.show()"
   ]
  },
  {
   "cell_type": "code",
   "execution_count": 51,
   "id": "ae4cb449-2d30-4111-887d-7e55df9fac25",
   "metadata": {},
   "outputs": [
    {
     "data": {
      "image/png": "[encoded data removed]",
      "text/plain": [
       "<Figure size 800x600 with 1 Axes>"
      ]
     },
     "metadata": {},
     "output_type": "display_data"
    }
   ],
   "source": [
    "# General health\n",
    "category_counts6 = Xtrain['HvyAlcoholConsump'].value_counts()\n",
    "category_counts6.index = ['No', 'Yes']\n",
    "# Plot a pie chart\n",
    "plt.figure(figsize=(8, 6))\n",
    "plt.pie(category_counts6, labels=category_counts6.index, autopct='%1.1f%%', startangle=140, colors= ['blue','red'])\n",
    "#plt.title('Pie Chart of General health Status')\n",
    "plt.legend(['No', 'Yes'],loc='lower left')\n",
    "plt.axis('equal')  # Equal aspect ratio ensures that pie is drawn as a circle\n",
    "plt.savefig('pie_chart_Stroke.png')\n",
    "plt.show()"
   ]
  },
  {
   "cell_type": "code",
   "execution_count": 52,
   "id": "5fee54ee-93b5-46f4-96c3-66f2961234e3",
   "metadata": {},
   "outputs": [
    {
     "data": {
      "image/png": "[encoded data removed]",
      "text/plain": [
       "<Figure size 640x480 with 1 Axes>"
      ]
     },
     "metadata": {},
     "output_type": "display_data"
    }
   ],
   "source": [
    "## stacked bar chart\n",
    "# Group by the two categorical variables and count occurrences\n",
    "#grouped_df = df1.groupby([X_train['HighBP'],y_train]).size().unstack(fill_value=0)\n",
    "grouped_df = combined_df.groupby(['HvyAlcoholConsump','Diabetes_binary']).size().unstack(fill_value=0)\n",
    "# Normalize the data to get percentages\n",
    "grouped_df_percent = grouped_df.div(grouped_df.sum(axis=1), axis=0) * 100\n",
    "\n",
    "# Plot\n",
    "ax = grouped_df_percent.plot(kind='bar', stacked=True,color=['blue', 'orange'])\n",
    "\n",
    "# Add labels and title\n",
    "plt.xlabel('HvyAlcoholConsump')\n",
    "plt.ylabel('Percentage')\n",
    "plt.title('Stacked Bar Chart of Diabetes Status Vs Heavy alcohol consumption')\n",
    "\n",
    "# Set the tick labels for both x-axis and legend\n",
    "ax.set_xticklabels(['No', 'Yes'])\n",
    "handles, labels = ax.get_legend_handles_labels()\n",
    "ax.legend(handles, ['No', 'Yes'],title='Diabetes Status',loc = \"lower left\")\n",
    "\n",
    "# Add percentages as labels on the bars\n",
    "for container in ax.containers:\n",
    "    ax.bar_label(container, labels=[f'{int(val)}%' for val in container.datavalues])\n",
    "\n",
    "# Show plot\n",
    "plt.show()"
   ]
  },
  {
   "cell_type": "code",
   "execution_count": 53,
   "id": "51d706a2-3981-4c03-98de-7f711665248c",
   "metadata": {},
   "outputs": [
    {
     "data": {
      "text/plain": [
       "<Axes: xlabel='MentHlth', ylabel='Count'>"
      ]
     },
     "execution_count": 53,
     "metadata": {},
     "output_type": "execute_result"
    },
    {
     "data": {
      "image/png": "[encoded data removed]",
      "text/plain": [
       "<Figure size 640x480 with 1 Axes>"
      ]
     },
     "metadata": {},
     "output_type": "display_data"
    }
   ],
   "source": [
    "# Histogram for the Mental health issues occurances\n",
    "sns.histplot(x=Xtrain[\"MentHlth\"], bins=10, kde=True, color='blue', edgecolor='black')"
   ]
  },
  {
   "cell_type": "code",
   "execution_count": 54,
   "id": "1478ec27-8a19-47ba-bc9d-9b43df6a074c",
   "metadata": {},
   "outputs": [
    {
     "data": {
      "text/plain": [
       "Index(['HighBP', 'HighChol', 'CholCheck', 'BMI', 'Smoker', 'Stroke',\n",
       "       'HeartDiseaseorAttack', 'PhysActivity', 'Fruits', 'Veggies',\n",
       "       'HvyAlcoholConsump', 'AnyHealthcare', 'NoDocbcCost', 'GenHlth',\n",
       "       'MentHlth', 'PhysHlth', 'DiffWalk', 'Sex', 'Age', 'Education',\n",
       "       'Income'],\n",
       "      dtype='object')"
      ]
     },
     "execution_count": 54,
     "metadata": {},
     "output_type": "execute_result"
    }
   ],
   "source": [
    "Xtrain.columns\n"
   ]
  },
  {
   "cell_type": "code",
   "execution_count": 55,
   "id": "114a8604-1b83-483e-ac42-5dc565467d9a",
   "metadata": {},
   "outputs": [
    {
     "data": {
      "text/plain": [
       "<Axes: xlabel='PhysHlth', ylabel='Count'>"
      ]
     },
     "execution_count": 55,
     "metadata": {},
     "output_type": "execute_result"
    },
    {
     "data": {
      "image/png": "[encoded data removed]",
      "text/plain": [
       "<Figure size 640x480 with 1 Axes>"
      ]
     },
     "metadata": {},
     "output_type": "display_data"
    }
   ],
   "source": [
    "# Histogram for the physical health issues occurances\n",
    "sns.histplot(x=Xtrain[\"PhysHlth\"], bins=4, kde=True, color='green', edgecolor='black')\n"
   ]
  },
  {
   "cell_type": "code",
   "execution_count": 56,
   "id": "6d1a2a4d-869f-401a-b274-f47764b94c3a",
   "metadata": {},
   "outputs": [
    {
     "name": "stderr",
     "output_type": "stream",
     "text": [
      "C:\\Users\\PC\\AppData\\Local\\Temp\\ipykernel_10188\\1612671134.py:7: UserWarning: set_ticklabels() should only be used with a fixed number of ticks, i.e. after set_ticks() or using a FixedLocator.\n",
      "  plt.gca().set_xticklabels(['No', 'Yes'])\n"
     ]
    },
    {
     "data": {
      "image/png": "[encoded data removed]",
      "text/plain": [
       "<Figure size 800x600 with 1 Axes>"
      ]
     },
     "metadata": {},
     "output_type": "display_data"
    }
   ],
   "source": [
    "## boxplots of PhysHlth and Diabetes Levels\n",
    "# Plot boxplot\n",
    "plt.figure(figsize=(8, 6))\n",
    "sns.boxplot(x='Diabetes_binary', y='PhysHlth', data=combined_df, color = 'green')\n",
    "\n",
    "# Set the tick labels for the x-axis\n",
    "plt.gca().set_xticklabels(['No', 'Yes'])\n",
    "plt.xlabel('Diabetes Level')\n",
    "plt.ylabel('Physical health')\n",
    "plt.title('Boxplot of physical health by Diabetes Level')\n",
    "plt.show()"
   ]
  },
  {
   "cell_type": "code",
   "execution_count": 57,
   "id": "8b37a6c8-8601-4cdd-8227-652e139b2e55",
   "metadata": {},
   "outputs": [
    {
     "data": {
      "text/plain": [
       "<Axes: xlabel='PhysHlth'>"
      ]
     },
     "execution_count": 57,
     "metadata": {},
     "output_type": "execute_result"
    },
    {
     "data": {
      "image/png": "[encoded data removed]",
      "text/plain": [
       "<Figure size 640x480 with 1 Axes>"
      ]
     },
     "metadata": {},
     "output_type": "display_data"
    }
   ],
   "source": [
    "# Boxplot for number of physical issues occurances\n",
    "sns.set_style(\"whitegrid\") \n",
    "sns.boxplot(x=Xtrain[\"PhysHlth\"])"
   ]
  },
  {
   "cell_type": "code",
   "execution_count": 58,
   "id": "dadd305b-491d-430d-a5be-25044b5f12c0",
   "metadata": {},
   "outputs": [
    {
     "data": {
      "text/plain": [
       "<Axes: xlabel='MentHlth'>"
      ]
     },
     "execution_count": 58,
     "metadata": {},
     "output_type": "execute_result"
    },
    {
     "data": {
      "image/png": "[encoded data removed]",
      "text/plain": [
       "<Figure size 640x480 with 1 Axes>"
      ]
     },
     "metadata": {},
     "output_type": "display_data"
    }
   ],
   "source": [
    "# Boxplot for number of physical issues occurances\n",
    "sns.set_style(\"whitegrid\") \n",
    "sns.boxplot(x=Xtrain[\"MentHlth\"])"
   ]
  },
  {
   "cell_type": "code",
   "execution_count": 59,
   "id": "87133855-2ff2-45fa-834f-d4ca678f2658",
   "metadata": {},
   "outputs": [
    {
     "data": {
      "text/html": [
       "<div>\n",
       "<style scoped>\n",
       "    .dataframe tbody tr th:only-of-type {\n",
       "        vertical-align: middle;\n",
       "    }\n",
       "\n",
       "    .dataframe tbody tr th {\n",
       "        vertical-align: top;\n",
       "    }\n",
       "\n",
       "    .dataframe thead th {\n",
       "        text-align: right;\n",
       "    }\n",
       "</style>\n",
       "<table border=\"1\" class=\"dataframe\">\n",
       "  <thead>\n",
       "    <tr style=\"text-align: right;\">\n",
       "      <th></th>\n",
       "      <th>HighBP</th>\n",
       "      <th>HighChol</th>\n",
       "      <th>CholCheck</th>\n",
       "      <th>BMI</th>\n",
       "      <th>Smoker</th>\n",
       "      <th>Stroke</th>\n",
       "      <th>HeartDiseaseorAttack</th>\n",
       "      <th>PhysActivity</th>\n",
       "      <th>Fruits</th>\n",
       "      <th>Veggies</th>\n",
       "      <th>...</th>\n",
       "      <th>AnyHealthcare</th>\n",
       "      <th>NoDocbcCost</th>\n",
       "      <th>GenHlth</th>\n",
       "      <th>MentHlth</th>\n",
       "      <th>PhysHlth</th>\n",
       "      <th>DiffWalk</th>\n",
       "      <th>Sex</th>\n",
       "      <th>Age</th>\n",
       "      <th>Education</th>\n",
       "      <th>Income</th>\n",
       "    </tr>\n",
       "  </thead>\n",
       "  <tbody>\n",
       "    <tr>\n",
       "      <th>54330</th>\n",
       "      <td>1</td>\n",
       "      <td>1</td>\n",
       "      <td>1</td>\n",
       "      <td>34</td>\n",
       "      <td>0</td>\n",
       "      <td>0</td>\n",
       "      <td>0</td>\n",
       "      <td>1</td>\n",
       "      <td>1</td>\n",
       "      <td>1</td>\n",
       "      <td>...</td>\n",
       "      <td>1</td>\n",
       "      <td>0</td>\n",
       "      <td>3</td>\n",
       "      <td>0</td>\n",
       "      <td>0</td>\n",
       "      <td>0</td>\n",
       "      <td>1</td>\n",
       "      <td>3</td>\n",
       "      <td>3</td>\n",
       "      <td>1</td>\n",
       "    </tr>\n",
       "    <tr>\n",
       "      <th>61696</th>\n",
       "      <td>1</td>\n",
       "      <td>0</td>\n",
       "      <td>1</td>\n",
       "      <td>43</td>\n",
       "      <td>1</td>\n",
       "      <td>0</td>\n",
       "      <td>1</td>\n",
       "      <td>1</td>\n",
       "      <td>1</td>\n",
       "      <td>1</td>\n",
       "      <td>...</td>\n",
       "      <td>1</td>\n",
       "      <td>0</td>\n",
       "      <td>5</td>\n",
       "      <td>30</td>\n",
       "      <td>30</td>\n",
       "      <td>0</td>\n",
       "      <td>0</td>\n",
       "      <td>2</td>\n",
       "      <td>2</td>\n",
       "      <td>3</td>\n",
       "    </tr>\n",
       "    <tr>\n",
       "      <th>53756</th>\n",
       "      <td>1</td>\n",
       "      <td>1</td>\n",
       "      <td>1</td>\n",
       "      <td>38</td>\n",
       "      <td>1</td>\n",
       "      <td>0</td>\n",
       "      <td>1</td>\n",
       "      <td>0</td>\n",
       "      <td>0</td>\n",
       "      <td>1</td>\n",
       "      <td>...</td>\n",
       "      <td>1</td>\n",
       "      <td>0</td>\n",
       "      <td>4</td>\n",
       "      <td>15</td>\n",
       "      <td>30</td>\n",
       "      <td>1</td>\n",
       "      <td>1</td>\n",
       "      <td>3</td>\n",
       "      <td>2</td>\n",
       "      <td>2</td>\n",
       "    </tr>\n",
       "    <tr>\n",
       "      <th>31981</th>\n",
       "      <td>0</td>\n",
       "      <td>1</td>\n",
       "      <td>1</td>\n",
       "      <td>21</td>\n",
       "      <td>0</td>\n",
       "      <td>0</td>\n",
       "      <td>0</td>\n",
       "      <td>0</td>\n",
       "      <td>1</td>\n",
       "      <td>1</td>\n",
       "      <td>...</td>\n",
       "      <td>1</td>\n",
       "      <td>0</td>\n",
       "      <td>2</td>\n",
       "      <td>0</td>\n",
       "      <td>0</td>\n",
       "      <td>0</td>\n",
       "      <td>0</td>\n",
       "      <td>3</td>\n",
       "      <td>4</td>\n",
       "      <td>2</td>\n",
       "    </tr>\n",
       "    <tr>\n",
       "      <th>34456</th>\n",
       "      <td>0</td>\n",
       "      <td>1</td>\n",
       "      <td>1</td>\n",
       "      <td>30</td>\n",
       "      <td>0</td>\n",
       "      <td>0</td>\n",
       "      <td>0</td>\n",
       "      <td>0</td>\n",
       "      <td>0</td>\n",
       "      <td>0</td>\n",
       "      <td>...</td>\n",
       "      <td>1</td>\n",
       "      <td>0</td>\n",
       "      <td>3</td>\n",
       "      <td>0</td>\n",
       "      <td>5</td>\n",
       "      <td>0</td>\n",
       "      <td>0</td>\n",
       "      <td>3</td>\n",
       "      <td>3</td>\n",
       "      <td>2</td>\n",
       "    </tr>\n",
       "    <tr>\n",
       "      <th>...</th>\n",
       "      <td>...</td>\n",
       "      <td>...</td>\n",
       "      <td>...</td>\n",
       "      <td>...</td>\n",
       "      <td>...</td>\n",
       "      <td>...</td>\n",
       "      <td>...</td>\n",
       "      <td>...</td>\n",
       "      <td>...</td>\n",
       "      <td>...</td>\n",
       "      <td>...</td>\n",
       "      <td>...</td>\n",
       "      <td>...</td>\n",
       "      <td>...</td>\n",
       "      <td>...</td>\n",
       "      <td>...</td>\n",
       "      <td>...</td>\n",
       "      <td>...</td>\n",
       "      <td>...</td>\n",
       "      <td>...</td>\n",
       "      <td>...</td>\n",
       "    </tr>\n",
       "    <tr>\n",
       "      <th>19396</th>\n",
       "      <td>1</td>\n",
       "      <td>1</td>\n",
       "      <td>1</td>\n",
       "      <td>21</td>\n",
       "      <td>0</td>\n",
       "      <td>0</td>\n",
       "      <td>0</td>\n",
       "      <td>1</td>\n",
       "      <td>0</td>\n",
       "      <td>1</td>\n",
       "      <td>...</td>\n",
       "      <td>1</td>\n",
       "      <td>0</td>\n",
       "      <td>3</td>\n",
       "      <td>5</td>\n",
       "      <td>2</td>\n",
       "      <td>0</td>\n",
       "      <td>0</td>\n",
       "      <td>3</td>\n",
       "      <td>4</td>\n",
       "      <td>2</td>\n",
       "    </tr>\n",
       "    <tr>\n",
       "      <th>45148</th>\n",
       "      <td>1</td>\n",
       "      <td>1</td>\n",
       "      <td>1</td>\n",
       "      <td>48</td>\n",
       "      <td>1</td>\n",
       "      <td>0</td>\n",
       "      <td>0</td>\n",
       "      <td>0</td>\n",
       "      <td>0</td>\n",
       "      <td>0</td>\n",
       "      <td>...</td>\n",
       "      <td>1</td>\n",
       "      <td>0</td>\n",
       "      <td>5</td>\n",
       "      <td>30</td>\n",
       "      <td>30</td>\n",
       "      <td>1</td>\n",
       "      <td>0</td>\n",
       "      <td>3</td>\n",
       "      <td>3</td>\n",
       "      <td>2</td>\n",
       "    </tr>\n",
       "    <tr>\n",
       "      <th>37483</th>\n",
       "      <td>1</td>\n",
       "      <td>1</td>\n",
       "      <td>1</td>\n",
       "      <td>39</td>\n",
       "      <td>1</td>\n",
       "      <td>0</td>\n",
       "      <td>1</td>\n",
       "      <td>1</td>\n",
       "      <td>1</td>\n",
       "      <td>0</td>\n",
       "      <td>...</td>\n",
       "      <td>1</td>\n",
       "      <td>0</td>\n",
       "      <td>1</td>\n",
       "      <td>0</td>\n",
       "      <td>30</td>\n",
       "      <td>1</td>\n",
       "      <td>1</td>\n",
       "      <td>3</td>\n",
       "      <td>4</td>\n",
       "      <td>1</td>\n",
       "    </tr>\n",
       "    <tr>\n",
       "      <th>56299</th>\n",
       "      <td>1</td>\n",
       "      <td>1</td>\n",
       "      <td>1</td>\n",
       "      <td>26</td>\n",
       "      <td>0</td>\n",
       "      <td>0</td>\n",
       "      <td>0</td>\n",
       "      <td>1</td>\n",
       "      <td>1</td>\n",
       "      <td>1</td>\n",
       "      <td>...</td>\n",
       "      <td>1</td>\n",
       "      <td>1</td>\n",
       "      <td>5</td>\n",
       "      <td>0</td>\n",
       "      <td>30</td>\n",
       "      <td>0</td>\n",
       "      <td>1</td>\n",
       "      <td>4</td>\n",
       "      <td>3</td>\n",
       "      <td>4</td>\n",
       "    </tr>\n",
       "    <tr>\n",
       "      <th>69034</th>\n",
       "      <td>1</td>\n",
       "      <td>1</td>\n",
       "      <td>1</td>\n",
       "      <td>30</td>\n",
       "      <td>1</td>\n",
       "      <td>0</td>\n",
       "      <td>0</td>\n",
       "      <td>1</td>\n",
       "      <td>1</td>\n",
       "      <td>1</td>\n",
       "      <td>...</td>\n",
       "      <td>1</td>\n",
       "      <td>0</td>\n",
       "      <td>3</td>\n",
       "      <td>0</td>\n",
       "      <td>0</td>\n",
       "      <td>0</td>\n",
       "      <td>1</td>\n",
       "      <td>4</td>\n",
       "      <td>2</td>\n",
       "      <td>4</td>\n",
       "    </tr>\n",
       "  </tbody>\n",
       "</table>\n",
       "<p>56553 rows × 21 columns</p>\n",
       "</div>"
      ],
      "text/plain": [
       "       HighBP  HighChol  CholCheck  BMI  Smoker  Stroke  HeartDiseaseorAttack  \\\n",
       "54330       1         1          1   34       0       0                     0   \n",
       "61696       1         0          1   43       1       0                     1   \n",
       "53756       1         1          1   38       1       0                     1   \n",
       "31981       0         1          1   21       0       0                     0   \n",
       "34456       0         1          1   30       0       0                     0   \n",
       "...       ...       ...        ...  ...     ...     ...                   ...   \n",
       "19396       1         1          1   21       0       0                     0   \n",
       "45148       1         1          1   48       1       0                     0   \n",
       "37483       1         1          1   39       1       0                     1   \n",
       "56299       1         1          1   26       0       0                     0   \n",
       "69034       1         1          1   30       1       0                     0   \n",
       "\n",
       "       PhysActivity  Fruits  Veggies  ...  AnyHealthcare  NoDocbcCost  \\\n",
       "54330             1       1        1  ...              1            0   \n",
       "61696             1       1        1  ...              1            0   \n",
       "53756             0       0        1  ...              1            0   \n",
       "31981             0       1        1  ...              1            0   \n",
       "34456             0       0        0  ...              1            0   \n",
       "...             ...     ...      ...  ...            ...          ...   \n",
       "19396             1       0        1  ...              1            0   \n",
       "45148             0       0        0  ...              1            0   \n",
       "37483             1       1        0  ...              1            0   \n",
       "56299             1       1        1  ...              1            1   \n",
       "69034             1       1        1  ...              1            0   \n",
       "\n",
       "       GenHlth  MentHlth  PhysHlth  DiffWalk  Sex  Age  Education  Income  \n",
       "54330        3         0         0         0    1    3          3       1  \n",
       "61696        5        30        30         0    0    2          2       3  \n",
       "53756        4        15        30         1    1    3          2       2  \n",
       "31981        2         0         0         0    0    3          4       2  \n",
       "34456        3         0         5         0    0    3          3       2  \n",
       "...        ...       ...       ...       ...  ...  ...        ...     ...  \n",
       "19396        3         5         2         0    0    3          4       2  \n",
       "45148        5        30        30         1    0    3          3       2  \n",
       "37483        1         0        30         1    1    3          4       1  \n",
       "56299        5         0        30         0    1    4          3       4  \n",
       "69034        3         0         0         0    1    4          2       4  \n",
       "\n",
       "[56553 rows x 21 columns]"
      ]
     },
     "execution_count": 59,
     "metadata": {},
     "output_type": "execute_result"
    }
   ],
   "source": [
    "Xtrain"
   ]
  },
  {
   "cell_type": "code",
   "execution_count": 54,
   "id": "5b8cc07f-090b-4f42-96ca-357f32286116",
   "metadata": {},
   "outputs": [
    {
     "data": {
      "text/plain": [
       "'from sklearn.preprocessing import LabelEncoder\\n# Initialize LabelEncoder\\ndtrain = train'"
      ]
     },
     "execution_count": 54,
     "metadata": {},
     "output_type": "execute_result"
    }
   ],
   "source": [
    "'''from sklearn.preprocessing import LabelEncoder\n",
    "# Initialize LabelEncoder\n",
    "dtrain = train'''"
   ]
  },
  {
   "cell_type": "code",
   "execution_count": 55,
   "id": "bd7779b9-710e-45a4-978f-5747c58ade1a",
   "metadata": {},
   "outputs": [
    {
     "data": {
      "text/plain": [
       "\"ordinal_cols = ['Age','Education','Income','GenHlth']\\n\\nfor var in ordinal_cols:\\n    label_encoder = LabelEncoder()\\n    dtrain[var] = label_encoder.fit_transform(dtrain[var])\\n\\ndtrain\\n\""
      ]
     },
     "execution_count": 55,
     "metadata": {},
     "output_type": "execute_result"
    }
   ],
   "source": [
    "'''ordinal_cols = ['Age','Education','Income','GenHlth']\n",
    "\n",
    "for var in ordinal_cols:\n",
    "    label_encoder = LabelEncoder()\n",
    "    dtrain[var] = label_encoder.fit_transform(dtrain[var])\n",
    "\n",
    "dtrain\n",
    "'''"
   ]
  },
  {
   "cell_type": "code",
   "execution_count": 56,
   "id": "cfad7686-7316-44b9-a96c-e540ceda49cb",
   "metadata": {},
   "outputs": [
    {
     "data": {
      "text/plain": [
       "\"# Outlier detection\\nfrom scipy.spatial.distance import mahalanobis\\nfrom scipy.stats import chi2\\ncov_matrix = np.cov(dtrain.values, rowvar=False)\\nmean_vector = dtrain.mean().values\\ndtrain['mahalanobis_distances'] = [mahalanobis(row.values, mean_vector, np.linalg.inv(cov_matrix)) for idx, row in dtrain.iterrows()]\\n#mahalanobis_distances = [mahalanobis(row.values, mean_vector, np.linalg.inv(cov_matrix)) for idx, row in train.iterrows()]\\ndtrain['p'] = 1 - chi2.cdf(dtrain['mahalanobis_distances'], 3)\""
      ]
     },
     "execution_count": 56,
     "metadata": {},
     "output_type": "execute_result"
    }
   ],
   "source": [
    "'''# Outlier detection\n",
    "from scipy.spatial.distance import mahalanobis\n",
    "from scipy.stats import chi2\n",
    "cov_matrix = np.cov(dtrain.values, rowvar=False)\n",
    "mean_vector = dtrain.mean().values\n",
    "dtrain['mahalanobis_distances'] = [mahalanobis(row.values, mean_vector, np.linalg.inv(cov_matrix)) for idx, row in dtrain.iterrows()]\n",
    "#mahalanobis_distances = [mahalanobis(row.values, mean_vector, np.linalg.inv(cov_matrix)) for idx, row in train.iterrows()]\n",
    "dtrain['p'] = 1 - chi2.cdf(dtrain['mahalanobis_distances'], 3)'''\n"
   ]
  },
  {
   "cell_type": "code",
   "execution_count": 57,
   "id": "7f9021e6-d385-4bf0-a418-94701de8ed73",
   "metadata": {},
   "outputs": [
    {
     "data": {
      "text/plain": [
       "'# What are the extreme points? \\n# Here we go!\\n# Extreme values with a significance level of 0.01\\ndtrain.loc[dtrain.p < 0.01].head(10)'"
      ]
     },
     "execution_count": 57,
     "metadata": {},
     "output_type": "execute_result"
    }
   ],
   "source": [
    "'''# What are the extreme points? \n",
    "# Here we go!\n",
    "# Extreme values with a significance level of 0.01\n",
    "dtrain.loc[dtrain.p < 0.01].head(10)'''"
   ]
  },
  {
   "cell_type": "code",
   "execution_count": 58,
   "id": "071afb05-dbdd-498e-9fa5-94985998b0ac",
   "metadata": {},
   "outputs": [
    {
     "name": "stdout",
     "output_type": "stream",
     "text": [
      "Requirement already satisfied: xgboost in c:\\users\\pc\\appdata\\local\\programs\\python\\python312\\lib\\site-packages (2.0.3)\n",
      "Requirement already satisfied: numpy in c:\\users\\pc\\appdata\\local\\programs\\python\\python312\\lib\\site-packages (from xgboost) (1.26.4)\n",
      "Requirement already satisfied: scipy in c:\\users\\pc\\appdata\\local\\programs\\python\\python312\\lib\\site-packages (from xgboost) (1.12.0)\n"
     ]
    }
   ],
   "source": [
    "!pip install xgboost"
   ]
  },
  {
   "cell_type": "code",
   "execution_count": 38,
   "id": "5aef35f9-97a7-4194-b9c4-d77031b9fd58",
   "metadata": {},
   "outputs": [],
   "source": [
    "import xgboost as xgb"
   ]
  },
  {
   "cell_type": "code",
   "execution_count": 60,
   "id": "fbfc6b3b-1988-4dc5-9a44-d5af00f3bbf1",
   "metadata": {},
   "outputs": [],
   "source": [
    "#!pip install category_encoders"
   ]
  },
  {
   "cell_type": "code",
   "execution_count": 61,
   "id": "4e650f13-c3b2-45c8-ac42-2c085edc94f2",
   "metadata": {},
   "outputs": [],
   "source": [
    "#dtrain.columns"
   ]
  },
  {
   "cell_type": "code",
   "execution_count": 67,
   "id": "b888c944-e95f-4151-be18-d79df7db3f4a",
   "metadata": {},
   "outputs": [],
   "source": [
    "from itertools import combinations\n",
    "import scipy.stats as stats"
   ]
  },
  {
   "cell_type": "code",
   "execution_count": null,
   "id": "728fa979-ec1e-4fcf-adac-78cde29e4dee",
   "metadata": {},
   "outputs": [],
   "source": [
    "categorical_predictors = filtered"
   ]
  },
  {
   "cell_type": "code",
   "execution_count": 39,
   "id": "a0b46c71-1d24-42b0-b69f-4847c726dc7e",
   "metadata": {},
   "outputs": [
    {
     "data": {
      "text/plain": [
       "Index(['HighBP', 'HighChol', 'CholCheck', 'BMI', 'Smoker', 'Stroke',\n",
       "       'HeartDiseaseorAttack', 'PhysActivity', 'Fruits', 'Veggies',\n",
       "       'HvyAlcoholConsump', 'AnyHealthcare', 'NoDocbcCost', 'GenHlth',\n",
       "       'MentHlth', 'PhysHlth', 'DiffWalk', 'Sex', 'Age', 'Education',\n",
       "       'Income'],\n",
       "      dtype='object')"
      ]
     },
     "execution_count": 39,
     "metadata": {},
     "output_type": "execute_result"
    }
   ],
   "source": [
    "Xtrain.columns"
   ]
  },
  {
   "cell_type": "code",
   "execution_count": 63,
   "id": "049fd5b7-6432-487c-8ed1-c5dd729b6885",
   "metadata": {},
   "outputs": [
    {
     "data": {
      "text/plain": [
       "\"from sklearn.preprocessing import LabelEncoder\\n# Initialize LabelEncoder\\n\\nordinal_cols = ['Age','Education','Income','GenHlth']\\n\\nfor var in ordinal_cols:\\n    label_encoder = LabelEncoder()\\n    train[var] = label_encoder.fit_transform(train[var])\\n\\ntrain\\ntrain['Age']\""
      ]
     },
     "execution_count": 63,
     "metadata": {},
     "output_type": "execute_result"
    }
   ],
   "source": [
    "'''from sklearn.preprocessing import LabelEncoder\n",
    "# Initialize LabelEncoder\n",
    "\n",
    "ordinal_cols = ['Age','Education','Income','GenHlth']\n",
    "\n",
    "for var in ordinal_cols:\n",
    "    label_encoder = LabelEncoder()\n",
    "    train[var] = label_encoder.fit_transform(train[var])\n",
    "\n",
    "train\n",
    "train['Age']'''\n"
   ]
  },
  {
   "cell_type": "code",
   "execution_count": 40,
   "id": "226d5af0-c6fd-4b41-bd8e-bd6b06c83f16",
   "metadata": {},
   "outputs": [
    {
     "data": {
      "text/plain": [
       "54330    3\n",
       "61696    2\n",
       "53756    3\n",
       "31981    3\n",
       "34456    3\n",
       "        ..\n",
       "19396    3\n",
       "45148    3\n",
       "37483    3\n",
       "56299    4\n",
       "69034    4\n",
       "Name: Age, Length: 56553, dtype: int64"
      ]
     },
     "execution_count": 40,
     "metadata": {},
     "output_type": "execute_result"
    }
   ],
   "source": [
    "Xtrain['Age']"
   ]
  },
  {
   "cell_type": "code",
   "execution_count": 67,
   "id": "c704f6b5-c1a6-4e18-b370-92f7166a115a",
   "metadata": {},
   "outputs": [],
   "source": [
    "\n",
    "#Ytrain = train['Diabetes_binary']\n",
    "#Xtrain = train.drop('Diabetes_binary', axis=1)\n",
    "#Ytest = test['Diabetes_binary']\n",
    "#Xtest = test.drop('Diabetes_binary',axis=1)\n"
   ]
  },
  {
   "cell_type": "code",
   "execution_count": 41,
   "id": "b6920136-8513-4a9f-a38c-568c5f5247f0",
   "metadata": {},
   "outputs": [],
   "source": [
    "# XG Boost\n",
    "xgbr = xgb.XGBClassifier()\n",
    "dtrain = xgb.DMatrix(Xtrain, label=Ytrain, enable_categorical=True)\n",
    "\n",
    "# xgboost model fit with default parameters\n",
    "model = xgbr.fit(Xtrain,Ytrain)\n",
    "Y_pred = model.predict(Xtest)\n",
    "Y_pred_tr = model.predict(Xtrain)\n",
    "\n",
    "from sklearn.metrics import accuracy_score\n",
    "tr_accuracy = accuracy_score(Ytrain,Y_pred_tr)\n",
    "ts_accuracy = accuracy_score(Ytest, Y_pred)\n",
    "[tr_accuracy,ts_accuracy]\n",
    "\n",
    "# parameter tuning with grid search\n",
    "from sklearn.model_selection import train_test_split, GridSearchCV\n",
    "# Define hyperparameters for grid search\n",
    "param_grid = {\n",
    "    'n_estimators': [50, 100, 150,200,250,300,400,450,500],\n",
    "    'max_depth': [3, 4, 5, 6, 7],\n",
    "    'learning_rate': [0.5,0.2,0.1, 0.01, 0.001]\n",
    "}\n",
    "# Perform grid search with cross-validation\n",
    "grid_search = GridSearchCV(estimator=xgbr, param_grid=param_grid, cv=5, scoring='accuracy')\n",
    "model_xg = grid_search.fit(Xtrain, Ytrain)\n",
    "\n",
    "# The best parameters - After tuning\n",
    "best_params = model_xg.best_params_\n",
    "best_params\n",
    "\n",
    "best_xgb_model = xgb.XGBClassifier(**best_params)\n",
    "best_xgb_model.fit(Xtrain,Ytrain)\n",
    "\n",
    "Y_pred = best_xgb_model.predict(Xtest)\n",
    "Y_pred_tr = best_xgb_model.predict(Xtrain)\n",
    "tr_accuracy = accuracy_score(Ytrain,Y_pred_tr)\n",
    "ts_accuracy = accuracy_score(Ytest, Y_pred)\n",
    "[tr_accuracy,ts_accuracy]"
   ]
  },
  {
   "cell_type": "code",
   "execution_count": 42,
   "id": "88149e3f-a14c-409f-b0ba-c79dba3a7d3f",
   "metadata": {},
   "outputs": [
    {
     "data": {
      "text/plain": [
       "[0.7849274132229943, 0.7436876723955018]"
      ]
     },
     "execution_count": 42,
     "metadata": {},
     "output_type": "execute_result"
    }
   ],
   "source": [
    "from sklearn.metrics import accuracy_score\n",
    "tr_accuracy = accuracy_score(Ytrain,Y_pred_tr)\n",
    "ts_accuracy = accuracy_score(Ytest, Y_pred)\n",
    "[tr_accuracy,ts_accuracy]\n"
   ]
  },
  {
   "cell_type": "code",
   "execution_count": null,
   "id": "c2299574-0bc4-43e5-9444-44db4f5acbca",
   "metadata": {},
   "outputs": [
    {
     "name": "stderr",
     "output_type": "stream",
     "text": [
      "Exception ignored on calling ctypes callback function: <bound method DataIter._next_wrapper of <xgboost.data.SingleBatchInternalIter object at 0x0000020627164800>>\n",
      "Traceback (most recent call last):\n",
      "  File \"C:\\Users\\PC\\AppData\\Local\\Programs\\Python\\Python312\\Lib\\site-packages\\xgboost\\core.py\", line 589, in _next_wrapper\n",
      "    def _next_wrapper(self, this: None) -> int:  # pylint: disable=unused-argument\n",
      "\n",
      "KeyboardInterrupt: \n"
     ]
    }
   ],
   "source": [
    "# parameter tuning with grid search\n",
    "from sklearn.model_selection import train_test_split, GridSearchCV\n",
    "# Define hyperparameters for grid search\n",
    "param_grid = {\n",
    "    'n_estimators': [50, 100, 150,200,250,300,400,450,500],\n",
    "    'max_depth': [3, 4, 5, 6, 7],\n",
    "    'learning_rate': [0.5,0.2,0.1, 0.01, 0.001]\n",
    "}\n",
    "# Perform grid search with cross-validation\n",
    "grid_search = GridSearchCV(estimator=xgbr, param_grid=param_grid, cv=5, scoring='accuracy')\n",
    "model_xg = grid_search.fit(Xtrain, Ytrain)"
   ]
  },
  {
   "cell_type": "code",
   "execution_count": 71,
   "id": "df14d72c-9e37-4625-8d05-08c4576976ca",
   "metadata": {},
   "outputs": [
    {
     "data": {
      "text/plain": [
       "{'learning_rate': 0.1, 'max_depth': 3, 'n_estimators': 250}"
      ]
     },
     "execution_count": 71,
     "metadata": {},
     "output_type": "execute_result"
    }
   ],
   "source": [
    "# The best parameters - After tuning\n",
    "best_params = model_xg.best_params_\n",
    "best_params\n"
   ]
  },
  {
   "cell_type": "code",
   "execution_count": 72,
   "id": "c1ea3a8e-ecc6-4d80-b447-4f064091b5c9",
   "metadata": {},
   "outputs": [
    {
     "data": {
      "text/html": [
       "<style>#sk-container-id-1 {\n",
       "  /* Definition of color scheme common for light and dark mode */\n",
       "  --sklearn-color-text: black;\n",
       "  --sklearn-color-line: gray;\n",
       "  /* Definition of color scheme for unfitted estimators */\n",
       "  --sklearn-color-unfitted-level-0: #fff5e6;\n",
       "  --sklearn-color-unfitted-level-1: #f6e4d2;\n",
       "  --sklearn-color-unfitted-level-2: #ffe0b3;\n",
       "  --sklearn-color-unfitted-level-3: chocolate;\n",
       "  /* Definition of color scheme for fitted estimators */\n",
       "  --sklearn-color-fitted-level-0: #f0f8ff;\n",
       "  --sklearn-color-fitted-level-1: #d4ebff;\n",
       "  --sklearn-color-fitted-level-2: #b3dbfd;\n",
       "  --sklearn-color-fitted-level-3: cornflowerblue;\n",
       "\n",
       "  /* Specific color for light theme */\n",
       "  --sklearn-color-text-on-default-background: var(--sg-text-color, var(--theme-code-foreground, var(--jp-content-font-color1, black)));\n",
       "  --sklearn-color-background: var(--sg-background-color, var(--theme-background, var(--jp-layout-color0, white)));\n",
       "  --sklearn-color-border-box: var(--sg-text-color, var(--theme-code-foreground, var(--jp-content-font-color1, black)));\n",
       "  --sklearn-color-icon: #696969;\n",
       "\n",
       "  @media (prefers-color-scheme: dark) {\n",
       "    /* Redefinition of color scheme for dark theme */\n",
       "    --sklearn-color-text-on-default-background: var(--sg-text-color, var(--theme-code-foreground, var(--jp-content-font-color1, white)));\n",
       "    --sklearn-color-background: var(--sg-background-color, var(--theme-background, var(--jp-layout-color0, #111)));\n",
       "    --sklearn-color-border-box: var(--sg-text-color, var(--theme-code-foreground, var(--jp-content-font-color1, white)));\n",
       "    --sklearn-color-icon: #878787;\n",
       "  }\n",
       "}\n",
       "\n",
       "#sk-container-id-1 {\n",
       "  color: var(--sklearn-color-text);\n",
       "}\n",
       "\n",
       "#sk-container-id-1 pre {\n",
       "  padding: 0;\n",
       "}\n",
       "\n",
       "#sk-container-id-1 input.sk-hidden--visually {\n",
       "  border: 0;\n",
       "  clip: rect(1px 1px 1px 1px);\n",
       "  clip: rect(1px, 1px, 1px, 1px);\n",
       "  height: 1px;\n",
       "  margin: -1px;\n",
       "  overflow: hidden;\n",
       "  padding: 0;\n",
       "  position: absolute;\n",
       "  width: 1px;\n",
       "}\n",
       "\n",
       "#sk-container-id-1 div.sk-dashed-wrapped {\n",
       "  border: 1px dashed var(--sklearn-color-line);\n",
       "  margin: 0 0.4em 0.5em 0.4em;\n",
       "  box-sizing: border-box;\n",
       "  padding-bottom: 0.4em;\n",
       "  background-color: var(--sklearn-color-background);\n",
       "}\n",
       "\n",
       "#sk-container-id-1 div.sk-container {\n",
       "  /* jupyter's `normalize.less` sets `[hidden] { display: none; }`\n",
       "     but bootstrap.min.css set `[hidden] { display: none !important; }`\n",
       "     so we also need the `!important` here to be able to override the\n",
       "     default hidden behavior on the sphinx rendered scikit-learn.org.\n",
       "     See: https://github.com/scikit-learn/scikit-learn/issues/21755 */\n",
       "  display: inline-block !important;\n",
       "  position: relative;\n",
       "}\n",
       "\n",
       "#sk-container-id-1 div.sk-text-repr-fallback {\n",
       "  display: none;\n",
       "}\n",
       "\n",
       "div.sk-parallel-item,\n",
       "div.sk-serial,\n",
       "div.sk-item {\n",
       "  /* draw centered vertical line to link estimators */\n",
       "  background-image: linear-gradient(var(--sklearn-color-text-on-default-background), var(--sklearn-color-text-on-default-background));\n",
       "  background-size: 2px 100%;\n",
       "  background-repeat: no-repeat;\n",
       "  background-position: center center;\n",
       "}\n",
       "\n",
       "/* Parallel-specific style estimator block */\n",
       "\n",
       "#sk-container-id-1 div.sk-parallel-item::after {\n",
       "  content: \"\";\n",
       "  width: 100%;\n",
       "  border-bottom: 2px solid var(--sklearn-color-text-on-default-background);\n",
       "  flex-grow: 1;\n",
       "}\n",
       "\n",
       "#sk-container-id-1 div.sk-parallel {\n",
       "  display: flex;\n",
       "  align-items: stretch;\n",
       "  justify-content: center;\n",
       "  background-color: var(--sklearn-color-background);\n",
       "  position: relative;\n",
       "}\n",
       "\n",
       "#sk-container-id-1 div.sk-parallel-item {\n",
       "  display: flex;\n",
       "  flex-direction: column;\n",
       "}\n",
       "\n",
       "#sk-container-id-1 div.sk-parallel-item:first-child::after {\n",
       "  align-self: flex-end;\n",
       "  width: 50%;\n",
       "}\n",
       "\n",
       "#sk-container-id-1 div.sk-parallel-item:last-child::after {\n",
       "  align-self: flex-start;\n",
       "  width: 50%;\n",
       "}\n",
       "\n",
       "#sk-container-id-1 div.sk-parallel-item:only-child::after {\n",
       "  width: 0;\n",
       "}\n",
       "\n",
       "/* Serial-specific style estimator block */\n",
       "\n",
       "#sk-container-id-1 div.sk-serial {\n",
       "  display: flex;\n",
       "  flex-direction: column;\n",
       "  align-items: center;\n",
       "  background-color: var(--sklearn-color-background);\n",
       "  padding-right: 1em;\n",
       "  padding-left: 1em;\n",
       "}\n",
       "\n",
       "\n",
       "/* Toggleable style: style used for estimator/Pipeline/ColumnTransformer box that is\n",
       "clickable and can be expanded/collapsed.\n",
       "- Pipeline and ColumnTransformer use this feature and define the default style\n",
       "- Estimators will overwrite some part of the style using the `sk-estimator` class\n",
       "*/\n",
       "\n",
       "/* Pipeline and ColumnTransformer style (default) */\n",
       "\n",
       "#sk-container-id-1 div.sk-toggleable {\n",
       "  /* Default theme specific background. It is overwritten whether we have a\n",
       "  specific estimator or a Pipeline/ColumnTransformer */\n",
       "  background-color: var(--sklearn-color-background);\n",
       "}\n",
       "\n",
       "/* Toggleable label */\n",
       "#sk-container-id-1 label.sk-toggleable__label {\n",
       "  cursor: pointer;\n",
       "  display: block;\n",
       "  width: 100%;\n",
       "  margin-bottom: 0;\n",
       "  padding: 0.5em;\n",
       "  box-sizing: border-box;\n",
       "  text-align: center;\n",
       "}\n",
       "\n",
       "#sk-container-id-1 label.sk-toggleable__label-arrow:before {\n",
       "  /* Arrow on the left of the label */\n",
       "  content: \"▸\";\n",
       "  float: left;\n",
       "  margin-right: 0.25em;\n",
       "  color: var(--sklearn-color-icon);\n",
       "}\n",
       "\n",
       "#sk-container-id-1 label.sk-toggleable__label-arrow:hover:before {\n",
       "  color: var(--sklearn-color-text);\n",
       "}\n",
       "\n",
       "/* Toggleable content - dropdown */\n",
       "\n",
       "#sk-container-id-1 div.sk-toggleable__content {\n",
       "  max-height: 0;\n",
       "  max-width: 0;\n",
       "  overflow: hidden;\n",
       "  text-align: left;\n",
       "  /* unfitted */\n",
       "  background-color: var(--sklearn-color-unfitted-level-0);\n",
       "}\n",
       "\n",
       "#sk-container-id-1 div.sk-toggleable__content.fitted {\n",
       "  /* fitted */\n",
       "  background-color: var(--sklearn-color-fitted-level-0);\n",
       "}\n",
       "\n",
       "#sk-container-id-1 div.sk-toggleable__content pre {\n",
       "  margin: 0.2em;\n",
       "  border-radius: 0.25em;\n",
       "  color: var(--sklearn-color-text);\n",
       "  /* unfitted */\n",
       "  background-color: var(--sklearn-color-unfitted-level-0);\n",
       "}\n",
       "\n",
       "#sk-container-id-1 div.sk-toggleable__content.fitted pre {\n",
       "  /* unfitted */\n",
       "  background-color: var(--sklearn-color-fitted-level-0);\n",
       "}\n",
       "\n",
       "#sk-container-id-1 input.sk-toggleable__control:checked~div.sk-toggleable__content {\n",
       "  /* Expand drop-down */\n",
       "  max-height: 200px;\n",
       "  max-width: 100%;\n",
       "  overflow: auto;\n",
       "}\n",
       "\n",
       "#sk-container-id-1 input.sk-toggleable__control:checked~label.sk-toggleable__label-arrow:before {\n",
       "  content: \"▾\";\n",
       "}\n",
       "\n",
       "/* Pipeline/ColumnTransformer-specific style */\n",
       "\n",
       "#sk-container-id-1 div.sk-label input.sk-toggleable__control:checked~label.sk-toggleable__label {\n",
       "  color: var(--sklearn-color-text);\n",
       "  background-color: var(--sklearn-color-unfitted-level-2);\n",
       "}\n",
       "\n",
       "#sk-container-id-1 div.sk-label.fitted input.sk-toggleable__control:checked~label.sk-toggleable__label {\n",
       "  background-color: var(--sklearn-color-fitted-level-2);\n",
       "}\n",
       "\n",
       "/* Estimator-specific style */\n",
       "\n",
       "/* Colorize estimator box */\n",
       "#sk-container-id-1 div.sk-estimator input.sk-toggleable__control:checked~label.sk-toggleable__label {\n",
       "  /* unfitted */\n",
       "  background-color: var(--sklearn-color-unfitted-level-2);\n",
       "}\n",
       "\n",
       "#sk-container-id-1 div.sk-estimator.fitted input.sk-toggleable__control:checked~label.sk-toggleable__label {\n",
       "  /* fitted */\n",
       "  background-color: var(--sklearn-color-fitted-level-2);\n",
       "}\n",
       "\n",
       "#sk-container-id-1 div.sk-label label.sk-toggleable__label,\n",
       "#sk-container-id-1 div.sk-label label {\n",
       "  /* The background is the default theme color */\n",
       "  color: var(--sklearn-color-text-on-default-background);\n",
       "}\n",
       "\n",
       "/* On hover, darken the color of the background */\n",
       "#sk-container-id-1 div.sk-label:hover label.sk-toggleable__label {\n",
       "  color: var(--sklearn-color-text);\n",
       "  background-color: var(--sklearn-color-unfitted-level-2);\n",
       "}\n",
       "\n",
       "/* Label box, darken color on hover, fitted */\n",
       "#sk-container-id-1 div.sk-label.fitted:hover label.sk-toggleable__label.fitted {\n",
       "  color: var(--sklearn-color-text);\n",
       "  background-color: var(--sklearn-color-fitted-level-2);\n",
       "}\n",
       "\n",
       "/* Estimator label */\n",
       "\n",
       "#sk-container-id-1 div.sk-label label {\n",
       "  font-family: monospace;\n",
       "  font-weight: bold;\n",
       "  display: inline-block;\n",
       "  line-height: 1.2em;\n",
       "}\n",
       "\n",
       "#sk-container-id-1 div.sk-label-container {\n",
       "  text-align: center;\n",
       "}\n",
       "\n",
       "/* Estimator-specific */\n",
       "#sk-container-id-1 div.sk-estimator {\n",
       "  font-family: monospace;\n",
       "  border: 1px dotted var(--sklearn-color-border-box);\n",
       "  border-radius: 0.25em;\n",
       "  box-sizing: border-box;\n",
       "  margin-bottom: 0.5em;\n",
       "  /* unfitted */\n",
       "  background-color: var(--sklearn-color-unfitted-level-0);\n",
       "}\n",
       "\n",
       "#sk-container-id-1 div.sk-estimator.fitted {\n",
       "  /* fitted */\n",
       "  background-color: var(--sklearn-color-fitted-level-0);\n",
       "}\n",
       "\n",
       "/* on hover */\n",
       "#sk-container-id-1 div.sk-estimator:hover {\n",
       "  /* unfitted */\n",
       "  background-color: var(--sklearn-color-unfitted-level-2);\n",
       "}\n",
       "\n",
       "#sk-container-id-1 div.sk-estimator.fitted:hover {\n",
       "  /* fitted */\n",
       "  background-color: var(--sklearn-color-fitted-level-2);\n",
       "}\n",
       "\n",
       "/* Specification for estimator info (e.g. \"i\" and \"?\") */\n",
       "\n",
       "/* Common style for \"i\" and \"?\" */\n",
       "\n",
       ".sk-estimator-doc-link,\n",
       "a:link.sk-estimator-doc-link,\n",
       "a:visited.sk-estimator-doc-link {\n",
       "  float: right;\n",
       "  font-size: smaller;\n",
       "  line-height: 1em;\n",
       "  font-family: monospace;\n",
       "  background-color: var(--sklearn-color-background);\n",
       "  border-radius: 1em;\n",
       "  height: 1em;\n",
       "  width: 1em;\n",
       "  text-decoration: none !important;\n",
       "  margin-left: 1ex;\n",
       "  /* unfitted */\n",
       "  border: var(--sklearn-color-unfitted-level-1) 1pt solid;\n",
       "  color: var(--sklearn-color-unfitted-level-1);\n",
       "}\n",
       "\n",
       ".sk-estimator-doc-link.fitted,\n",
       "a:link.sk-estimator-doc-link.fitted,\n",
       "a:visited.sk-estimator-doc-link.fitted {\n",
       "  /* fitted */\n",
       "  border: var(--sklearn-color-fitted-level-1) 1pt solid;\n",
       "  color: var(--sklearn-color-fitted-level-1);\n",
       "}\n",
       "\n",
       "/* On hover */\n",
       "div.sk-estimator:hover .sk-estimator-doc-link:hover,\n",
       ".sk-estimator-doc-link:hover,\n",
       "div.sk-label-container:hover .sk-estimator-doc-link:hover,\n",
       ".sk-estimator-doc-link:hover {\n",
       "  /* unfitted */\n",
       "  background-color: var(--sklearn-color-unfitted-level-3);\n",
       "  color: var(--sklearn-color-background);\n",
       "  text-decoration: none;\n",
       "}\n",
       "\n",
       "div.sk-estimator.fitted:hover .sk-estimator-doc-link.fitted:hover,\n",
       ".sk-estimator-doc-link.fitted:hover,\n",
       "div.sk-label-container:hover .sk-estimator-doc-link.fitted:hover,\n",
       ".sk-estimator-doc-link.fitted:hover {\n",
       "  /* fitted */\n",
       "  background-color: var(--sklearn-color-fitted-level-3);\n",
       "  color: var(--sklearn-color-background);\n",
       "  text-decoration: none;\n",
       "}\n",
       "\n",
       "/* Span, style for the box shown on hovering the info icon */\n",
       ".sk-estimator-doc-link span {\n",
       "  display: none;\n",
       "  z-index: 9999;\n",
       "  position: relative;\n",
       "  font-weight: normal;\n",
       "  right: .2ex;\n",
       "  padding: .5ex;\n",
       "  margin: .5ex;\n",
       "  width: min-content;\n",
       "  min-width: 20ex;\n",
       "  max-width: 50ex;\n",
       "  color: var(--sklearn-color-text);\n",
       "  box-shadow: 2pt 2pt 4pt #999;\n",
       "  /* unfitted */\n",
       "  background: var(--sklearn-color-unfitted-level-0);\n",
       "  border: .5pt solid var(--sklearn-color-unfitted-level-3);\n",
       "}\n",
       "\n",
       ".sk-estimator-doc-link.fitted span {\n",
       "  /* fitted */\n",
       "  background: var(--sklearn-color-fitted-level-0);\n",
       "  border: var(--sklearn-color-fitted-level-3);\n",
       "}\n",
       "\n",
       ".sk-estimator-doc-link:hover span {\n",
       "  display: block;\n",
       "}\n",
       "\n",
       "/* \"?\"-specific style due to the `<a>` HTML tag */\n",
       "\n",
       "#sk-container-id-1 a.estimator_doc_link {\n",
       "  float: right;\n",
       "  font-size: 1rem;\n",
       "  line-height: 1em;\n",
       "  font-family: monospace;\n",
       "  background-color: var(--sklearn-color-background);\n",
       "  border-radius: 1rem;\n",
       "  height: 1rem;\n",
       "  width: 1rem;\n",
       "  text-decoration: none;\n",
       "  /* unfitted */\n",
       "  color: var(--sklearn-color-unfitted-level-1);\n",
       "  border: var(--sklearn-color-unfitted-level-1) 1pt solid;\n",
       "}\n",
       "\n",
       "#sk-container-id-1 a.estimator_doc_link.fitted {\n",
       "  /* fitted */\n",
       "  border: var(--sklearn-color-fitted-level-1) 1pt solid;\n",
       "  color: var(--sklearn-color-fitted-level-1);\n",
       "}\n",
       "\n",
       "/* On hover */\n",
       "#sk-container-id-1 a.estimator_doc_link:hover {\n",
       "  /* unfitted */\n",
       "  background-color: var(--sklearn-color-unfitted-level-3);\n",
       "  color: var(--sklearn-color-background);\n",
       "  text-decoration: none;\n",
       "}\n",
       "\n",
       "#sk-container-id-1 a.estimator_doc_link.fitted:hover {\n",
       "  /* fitted */\n",
       "  background-color: var(--sklearn-color-fitted-level-3);\n",
       "}\n",
       "</style><div id=\"sk-container-id-1\" class=\"sk-top-container\"><div class=\"sk-text-repr-fallback\"><pre>XGBClassifier(base_score=None, booster=None, callbacks=None,\n",
       "              colsample_bylevel=None, colsample_bynode=None,\n",
       "              colsample_bytree=None, device=None, early_stopping_rounds=None,\n",
       "              enable_categorical=False, eval_metric=None, feature_types=None,\n",
       "              gamma=None, grow_policy=None, importance_type=None,\n",
       "              interaction_constraints=None, learning_rate=0.1, max_bin=None,\n",
       "              max_cat_threshold=None, max_cat_to_onehot=None,\n",
       "              max_delta_step=None, max_depth=3, max_leaves=None,\n",
       "              min_child_weight=None, missing=nan, monotone_constraints=None,\n",
       "              multi_strategy=None, n_estimators=250, n_jobs=None,\n",
       "              num_parallel_tree=None, random_state=None, ...)</pre><b>In a Jupyter environment, please rerun this cell to show the HTML representation or trust the notebook. <br />On GitHub, the HTML representation is unable to render, please try loading this page with nbviewer.org.</b></div><div class=\"sk-container\" hidden><div class=\"sk-item\"><div class=\"sk-estimator fitted sk-toggleable\"><input class=\"sk-toggleable__control sk-hidden--visually\" id=\"sk-estimator-id-1\" type=\"checkbox\" checked><label for=\"sk-estimator-id-1\" class=\"sk-toggleable__label fitted sk-toggleable__label-arrow fitted\">&nbsp;XGBClassifier<span class=\"sk-estimator-doc-link fitted\">i<span>Fitted</span></span></label><div class=\"sk-toggleable__content fitted\"><pre>XGBClassifier(base_score=None, booster=None, callbacks=None,\n",
       "              colsample_bylevel=None, colsample_bynode=None,\n",
       "              colsample_bytree=None, device=None, early_stopping_rounds=None,\n",
       "              enable_categorical=False, eval_metric=None, feature_types=None,\n",
       "              gamma=None, grow_policy=None, importance_type=None,\n",
       "              interaction_constraints=None, learning_rate=0.1, max_bin=None,\n",
       "              max_cat_threshold=None, max_cat_to_onehot=None,\n",
       "              max_delta_step=None, max_depth=3, max_leaves=None,\n",
       "              min_child_weight=None, missing=nan, monotone_constraints=None,\n",
       "              multi_strategy=None, n_estimators=250, n_jobs=None,\n",
       "              num_parallel_tree=None, random_state=None, ...)</pre></div> </div></div></div></div>"
      ],
      "text/plain": [
       "XGBClassifier(base_score=None, booster=None, callbacks=None,\n",
       "              colsample_bylevel=None, colsample_bynode=None,\n",
       "              colsample_bytree=None, device=None, early_stopping_rounds=None,\n",
       "              enable_categorical=False, eval_metric=None, feature_types=None,\n",
       "              gamma=None, grow_policy=None, importance_type=None,\n",
       "              interaction_constraints=None, learning_rate=0.1, max_bin=None,\n",
       "              max_cat_threshold=None, max_cat_to_onehot=None,\n",
       "              max_delta_step=None, max_depth=3, max_leaves=None,\n",
       "              min_child_weight=None, missing=nan, monotone_constraints=None,\n",
       "              multi_strategy=None, n_estimators=250, n_jobs=None,\n",
       "              num_parallel_tree=None, random_state=None, ...)"
      ]
     },
     "execution_count": 72,
     "metadata": {},
     "output_type": "execute_result"
    }
   ],
   "source": [
    "best_xgb_model = xgb.XGBClassifier(**best_params)\n",
    "best_xgb_model.fit(Xtrain,Ytrain)"
   ]
  },
  {
   "cell_type": "code",
   "execution_count": 73,
   "id": "eeead205-d224-4051-baec-53ae74d695b3",
   "metadata": {},
   "outputs": [],
   "source": [
    "Y_pred = best_xgb_model.predict(Xtest)"
   ]
  },
  {
   "cell_type": "code",
   "execution_count": 74,
   "id": "ed356db9-8144-4f96-a465-a84ceecca6b8",
   "metadata": {},
   "outputs": [],
   "source": [
    "Y_pred_tr = best_xgb_model.predict(Xtrain)"
   ]
  },
  {
   "cell_type": "code",
   "execution_count": 75,
   "id": "de16a209-6987-4489-a580-bdafd1b7a636",
   "metadata": {},
   "outputs": [
    {
     "data": {
      "text/plain": [
       "[0.7587219068838081, 0.7463045477049296]"
      ]
     },
     "execution_count": 75,
     "metadata": {},
     "output_type": "execute_result"
    }
   ],
   "source": [
    "tr_accuracy = accuracy_score(Ytrain,Y_pred_tr)\n",
    "ts_accuracy = accuracy_score(Ytest, Y_pred)\n",
    "[tr_accuracy,ts_accuracy]"
   ]
  },
  {
   "cell_type": "code",
   "execution_count": 76,
   "id": "6f40544e-4cf1-4daa-b467-9bddc43f2ca5",
   "metadata": {},
   "outputs": [
    {
     "name": "stdout",
     "output_type": "stream",
     "text": [
      "[0.5724707  0.09456951 0.02399413 0.0255124  0.00350679 0.00684969\n",
      " 0.03247178 0.00303413 0.00256123 0.00200041 0.01902962 0.00212238\n",
      " 0.00203991 0.10609107 0.00382004 0.00224929 0.02909761 0.01309201\n",
      " 0.03770837 0.00364816 0.01413075]\n"
     ]
    },
    {
     "data": {
      "text/plain": [
       "0.5724707"
      ]
     },
     "execution_count": 76,
     "metadata": {},
     "output_type": "execute_result"
    }
   ],
   "source": [
    "# Feature importance plot in xgboost\n",
    "feature_importance = best_xgb_model.feature_importances_\n",
    "print(feature_importance)\n",
    "max(feature_importance)"
   ]
  },
  {
   "cell_type": "code",
   "execution_count": 77,
   "id": "19e6e589-08bf-4262-bb2e-1257468a7454",
   "metadata": {},
   "outputs": [
    {
     "name": "stdout",
     "output_type": "stream",
     "text": [
      "[ 9 12 11 15  8  7  4 19 14  5 17 20 10  2  3 16  6 18  1 13  0]\n"
     ]
    }
   ],
   "source": [
    "print(best_xgb_model.feature_importances_.argsort())"
   ]
  },
  {
   "cell_type": "code",
   "execution_count": 78,
   "id": "7f6231a1-78ee-461d-877f-58201e63445a",
   "metadata": {},
   "outputs": [
    {
     "name": "stdout",
     "output_type": "stream",
     "text": [
      "[ 9 12 11 15  8  7  4 19 14  5 17 20 10  2  3 16  6 18  1 13  0]\n"
     ]
    },
    {
     "data": {
      "text/plain": [
       "Text(0.5, 0, 'Feature Importance')"
      ]
     },
     "execution_count": 78,
     "metadata": {},
     "output_type": "execute_result"
    },
    {
     "data": {
      "image/png": "[encoded data removed]",
      "text/plain": [
       "<Figure size 640x480 with 1 Axes>"
      ]
     },
     "metadata": {},
     "output_type": "display_data"
    }
   ],
   "source": [
    "sorted = best_xgb_model.feature_importances_.argsort()\n",
    "print(sorted)\n",
    "plt.barh(Xtrain.columns[sorted],best_xgb_model.feature_importances_[sorted])\n",
    "plt.xlabel(\"Feature Importance\")"
   ]
  },
  {
   "cell_type": "code",
   "execution_count": null,
   "id": "6ee7693c-352d-45c8-b8d4-f9d54f9b8523",
   "metadata": {},
   "outputs": [],
   "source": [
    "#Imp_var = ['HighBP','HighChol', 'CholCheck','Age','GenHlth','HeartDiseaseorAttack','BMI','HvyAlcoholConsump','DiffWalk','Income','Sex']"
   ]
  },
  {
   "cell_type": "code",
   "execution_count": null,
   "id": "f4365d97-8512-4da7-b4c0-1a200c387ec5",
   "metadata": {},
   "outputs": [],
   "source": [
    "'''NYtrain = train['Diabetes_binary']\n",
    "NXtrain = train[Imp_var]\n",
    "NYtest = test['Diabetes_binary']\n",
    "NXtest = test[Imp_var]\n",
    "NXtest'''"
   ]
  },
  {
   "cell_type": "code",
   "execution_count": null,
   "id": "ded00da6-0228-456a-a955-71a4950b2e8d",
   "metadata": {},
   "outputs": [],
   "source": [
    "'''\n",
    "# parameter tuning with grid search\n",
    "# Define hyperparameters for grid search\n",
    "Nparam_grid = {\n",
    "    'n_estimators': [50, 100, 150,200,250,300,400,450,500],\n",
    "    'max_depth': [3, 4, 5, 6, 7, 8, 9, 10],\n",
    "    'learning_rate': [0.5,0.2,0.1, 0.01, 0.001],\n",
    "}\n",
    "# Perform grid search with cross-validation\n",
    "Ngrid_search = GridSearchCV(estimator=xgbr, param_grid=Nparam_grid, cv=5,scoring=\"accuracy\")\n",
    "Ngrid_search.fit(NXtrain, NYtrain)\n",
    "'''"
   ]
  },
  {
   "cell_type": "code",
   "execution_count": null,
   "id": "d61a39f6-9458-4241-b6cb-49d850c8fc8c",
   "metadata": {},
   "outputs": [],
   "source": [
    "'''\n",
    "# The best parameters - After tuning\n",
    "Nbest_params = Ngrid_search.best_params_\n",
    "Nbest_params\n",
    "'''"
   ]
  },
  {
   "cell_type": "code",
   "execution_count": null,
   "id": "41094825-3271-44e0-858e-8e68b468c358",
   "metadata": {},
   "outputs": [],
   "source": [
    "'''\n",
    "New_best_xgb_model = xgb.XGBClassifier(**Nbest_params)\n",
    "New_best_xgb_model.fit(NXtrain,NYtrain)\n",
    "'''"
   ]
  },
  {
   "cell_type": "code",
   "execution_count": null,
   "id": "a5abaa43-676e-4752-98ea-2d60392d6bd8",
   "metadata": {},
   "outputs": [],
   "source": [
    "#NY_pred =New_best_xgb_model.predict(NXtest)"
   ]
  },
  {
   "cell_type": "code",
   "execution_count": null,
   "id": "ef1c6d71-e3c4-4f1d-a40c-a86c7d2ed160",
   "metadata": {},
   "outputs": [],
   "source": [
    "#NY_pred_tr =New_best_xgb_model.predict(NXtrain)"
   ]
  },
  {
   "cell_type": "code",
   "execution_count": null,
   "id": "665d91c6-7ebb-4c95-b56e-781c079e2dbe",
   "metadata": {},
   "outputs": [],
   "source": [
    "'''\n",
    "Ntr_accuracy = accuracy_score(NYtrain,NY_pred_tr)\n",
    "Nts_accuracy = accuracy_score(NYtest, NY_pred)\n",
    "[Ntr_accuracy,Nts_accuracy]\n",
    "'''"
   ]
  },
  {
   "cell_type": "code",
   "execution_count": null,
   "id": "e49908f3-b6b5-440a-8971-24a0351a68c4",
   "metadata": {},
   "outputs": [],
   "source": [
    "#import pickle"
   ]
  },
  {
   "cell_type": "code",
   "execution_count": null,
   "id": "4a993b55-464c-4fc8-adfb-2af999466b7c",
   "metadata": {},
   "outputs": [],
   "source": [
    "'''\n",
    "filename = r'C:\\Users\\PC\\Desktop\\GroupProject_ST 3082\\App\\model.pkl'\n",
    "with open(filename, 'wb') as f:\n",
    "    pickle.dump(New_best_xgb_model, f)\n",
    "\n",
    "print(\"Model saved successfully.\")'''"
   ]
  },
  {
   "cell_type": "code",
   "execution_count": 98,
   "id": "d516d57b-d31a-457f-bf3f-485001c6cd68",
   "metadata": {},
   "outputs": [],
   "source": [
    "# Lasso Regression classifier\n",
    "from numpy import arange\n",
    "from sklearn.linear_model import Lasso\n",
    "from sklearn.preprocessing import StandardScaler\n",
    "lasso_classifier = Lasso(alpha=0.1)\n",
    "\n",
    "scaler = StandardScaler()\n",
    "Xtrain_sc = scaler.fit_transform(Xtrain)\n",
    "Xtest_sc = scaler.transform(Xtest)\n",
    "\n",
    "lasso_classifier.fit(Xtrain_sc, Ytrain)\n",
    "\n",
    "Y_pred = lasso_classifier.predict(Xtest_sc)\n",
    "Y_pred_tr = lasso_classifier.predict(Xtrain_sc)\n",
    "\n",
    "print(lasso_classifier.coef_)\n",
    "coefficients = pd.DataFrame({'Feature': Xtrain.columns, 'Coefficient': lasso_classifier.coef_})\n",
    "print(coefficients)\n",
    "\n",
    "# Evaluate the model\n",
    "from sklearn.metrics import accuracy_score\n",
    "from sklearn.metrics import confusion_matrix\n",
    "accuracy_ts = accuracy_score(Ytest, Y_pred.round())\n",
    "accuracy_tr = accuracy_score(Ytrain, Y_pred_tr.round())\n",
    "conf_matrix_ts = confusion_matrix(Ytest, Y_pred.round())\n",
    "print(f\"Accuracy_ts: {accuracy_ts}\")\n",
    "print(f\"Accuracy_tr: {accuracy_tr}\")\n",
    "print(f\"Confusion Matrix:\\n{conf_matrix_ts}\")"
   ]
  },
  {
   "cell_type": "code",
   "execution_count": 99,
   "id": "9dd05e81-f072-4c38-a860-0d04047ee0d8",
   "metadata": {},
   "outputs": [],
   "source": []
  },
  {
   "cell_type": "code",
   "execution_count": 100,
   "id": "a00cecbb-544f-4882-9003-22a75ac42b48",
   "metadata": {},
   "outputs": [
    {
     "data": {
      "text/html": [
       "<style>#sk-container-id-3 {\n",
       "  /* Definition of color scheme common for light and dark mode */\n",
       "  --sklearn-color-text: black;\n",
       "  --sklearn-color-line: gray;\n",
       "  /* Definition of color scheme for unfitted estimators */\n",
       "  --sklearn-color-unfitted-level-0: #fff5e6;\n",
       "  --sklearn-color-unfitted-level-1: #f6e4d2;\n",
       "  --sklearn-color-unfitted-level-2: #ffe0b3;\n",
       "  --sklearn-color-unfitted-level-3: chocolate;\n",
       "  /* Definition of color scheme for fitted estimators */\n",
       "  --sklearn-color-fitted-level-0: #f0f8ff;\n",
       "  --sklearn-color-fitted-level-1: #d4ebff;\n",
       "  --sklearn-color-fitted-level-2: #b3dbfd;\n",
       "  --sklearn-color-fitted-level-3: cornflowerblue;\n",
       "\n",
       "  /* Specific color for light theme */\n",
       "  --sklearn-color-text-on-default-background: var(--sg-text-color, var(--theme-code-foreground, var(--jp-content-font-color1, black)));\n",
       "  --sklearn-color-background: var(--sg-background-color, var(--theme-background, var(--jp-layout-color0, white)));\n",
       "  --sklearn-color-border-box: var(--sg-text-color, var(--theme-code-foreground, var(--jp-content-font-color1, black)));\n",
       "  --sklearn-color-icon: #696969;\n",
       "\n",
       "  @media (prefers-color-scheme: dark) {\n",
       "    /* Redefinition of color scheme for dark theme */\n",
       "    --sklearn-color-text-on-default-background: var(--sg-text-color, var(--theme-code-foreground, var(--jp-content-font-color1, white)));\n",
       "    --sklearn-color-background: var(--sg-background-color, var(--theme-background, var(--jp-layout-color0, #111)));\n",
       "    --sklearn-color-border-box: var(--sg-text-color, var(--theme-code-foreground, var(--jp-content-font-color1, white)));\n",
       "    --sklearn-color-icon: #878787;\n",
       "  }\n",
       "}\n",
       "\n",
       "#sk-container-id-3 {\n",
       "  color: var(--sklearn-color-text);\n",
       "}\n",
       "\n",
       "#sk-container-id-3 pre {\n",
       "  padding: 0;\n",
       "}\n",
       "\n",
       "#sk-container-id-3 input.sk-hidden--visually {\n",
       "  border: 0;\n",
       "  clip: rect(1px 1px 1px 1px);\n",
       "  clip: rect(1px, 1px, 1px, 1px);\n",
       "  height: 1px;\n",
       "  margin: -1px;\n",
       "  overflow: hidden;\n",
       "  padding: 0;\n",
       "  position: absolute;\n",
       "  width: 1px;\n",
       "}\n",
       "\n",
       "#sk-container-id-3 div.sk-dashed-wrapped {\n",
       "  border: 1px dashed var(--sklearn-color-line);\n",
       "  margin: 0 0.4em 0.5em 0.4em;\n",
       "  box-sizing: border-box;\n",
       "  padding-bottom: 0.4em;\n",
       "  background-color: var(--sklearn-color-background);\n",
       "}\n",
       "\n",
       "#sk-container-id-3 div.sk-container {\n",
       "  /* jupyter's `normalize.less` sets `[hidden] { display: none; }`\n",
       "     but bootstrap.min.css set `[hidden] { display: none !important; }`\n",
       "     so we also need the `!important` here to be able to override the\n",
       "     default hidden behavior on the sphinx rendered scikit-learn.org.\n",
       "     See: https://github.com/scikit-learn/scikit-learn/issues/21755 */\n",
       "  display: inline-block !important;\n",
       "  position: relative;\n",
       "}\n",
       "\n",
       "#sk-container-id-3 div.sk-text-repr-fallback {\n",
       "  display: none;\n",
       "}\n",
       "\n",
       "div.sk-parallel-item,\n",
       "div.sk-serial,\n",
       "div.sk-item {\n",
       "  /* draw centered vertical line to link estimators */\n",
       "  background-image: linear-gradient(var(--sklearn-color-text-on-default-background), var(--sklearn-color-text-on-default-background));\n",
       "  background-size: 2px 100%;\n",
       "  background-repeat: no-repeat;\n",
       "  background-position: center center;\n",
       "}\n",
       "\n",
       "/* Parallel-specific style estimator block */\n",
       "\n",
       "#sk-container-id-3 div.sk-parallel-item::after {\n",
       "  content: \"\";\n",
       "  width: 100%;\n",
       "  border-bottom: 2px solid var(--sklearn-color-text-on-default-background);\n",
       "  flex-grow: 1;\n",
       "}\n",
       "\n",
       "#sk-container-id-3 div.sk-parallel {\n",
       "  display: flex;\n",
       "  align-items: stretch;\n",
       "  justify-content: center;\n",
       "  background-color: var(--sklearn-color-background);\n",
       "  position: relative;\n",
       "}\n",
       "\n",
       "#sk-container-id-3 div.sk-parallel-item {\n",
       "  display: flex;\n",
       "  flex-direction: column;\n",
       "}\n",
       "\n",
       "#sk-container-id-3 div.sk-parallel-item:first-child::after {\n",
       "  align-self: flex-end;\n",
       "  width: 50%;\n",
       "}\n",
       "\n",
       "#sk-container-id-3 div.sk-parallel-item:last-child::after {\n",
       "  align-self: flex-start;\n",
       "  width: 50%;\n",
       "}\n",
       "\n",
       "#sk-container-id-3 div.sk-parallel-item:only-child::after {\n",
       "  width: 0;\n",
       "}\n",
       "\n",
       "/* Serial-specific style estimator block */\n",
       "\n",
       "#sk-container-id-3 div.sk-serial {\n",
       "  display: flex;\n",
       "  flex-direction: column;\n",
       "  align-items: center;\n",
       "  background-color: var(--sklearn-color-background);\n",
       "  padding-right: 1em;\n",
       "  padding-left: 1em;\n",
       "}\n",
       "\n",
       "\n",
       "/* Toggleable style: style used for estimator/Pipeline/ColumnTransformer box that is\n",
       "clickable and can be expanded/collapsed.\n",
       "- Pipeline and ColumnTransformer use this feature and define the default style\n",
       "- Estimators will overwrite some part of the style using the `sk-estimator` class\n",
       "*/\n",
       "\n",
       "/* Pipeline and ColumnTransformer style (default) */\n",
       "\n",
       "#sk-container-id-3 div.sk-toggleable {\n",
       "  /* Default theme specific background. It is overwritten whether we have a\n",
       "  specific estimator or a Pipeline/ColumnTransformer */\n",
       "  background-color: var(--sklearn-color-background);\n",
       "}\n",
       "\n",
       "/* Toggleable label */\n",
       "#sk-container-id-3 label.sk-toggleable__label {\n",
       "  cursor: pointer;\n",
       "  display: block;\n",
       "  width: 100%;\n",
       "  margin-bottom: 0;\n",
       "  padding: 0.5em;\n",
       "  box-sizing: border-box;\n",
       "  text-align: center;\n",
       "}\n",
       "\n",
       "#sk-container-id-3 label.sk-toggleable__label-arrow:before {\n",
       "  /* Arrow on the left of the label */\n",
       "  content: \"▸\";\n",
       "  float: left;\n",
       "  margin-right: 0.25em;\n",
       "  color: var(--sklearn-color-icon);\n",
       "}\n",
       "\n",
       "#sk-container-id-3 label.sk-toggleable__label-arrow:hover:before {\n",
       "  color: var(--sklearn-color-text);\n",
       "}\n",
       "\n",
       "/* Toggleable content - dropdown */\n",
       "\n",
       "#sk-container-id-3 div.sk-toggleable__content {\n",
       "  max-height: 0;\n",
       "  max-width: 0;\n",
       "  overflow: hidden;\n",
       "  text-align: left;\n",
       "  /* unfitted */\n",
       "  background-color: var(--sklearn-color-unfitted-level-0);\n",
       "}\n",
       "\n",
       "#sk-container-id-3 div.sk-toggleable__content.fitted {\n",
       "  /* fitted */\n",
       "  background-color: var(--sklearn-color-fitted-level-0);\n",
       "}\n",
       "\n",
       "#sk-container-id-3 div.sk-toggleable__content pre {\n",
       "  margin: 0.2em;\n",
       "  border-radius: 0.25em;\n",
       "  color: var(--sklearn-color-text);\n",
       "  /* unfitted */\n",
       "  background-color: var(--sklearn-color-unfitted-level-0);\n",
       "}\n",
       "\n",
       "#sk-container-id-3 div.sk-toggleable__content.fitted pre {\n",
       "  /* unfitted */\n",
       "  background-color: var(--sklearn-color-fitted-level-0);\n",
       "}\n",
       "\n",
       "#sk-container-id-3 input.sk-toggleable__control:checked~div.sk-toggleable__content {\n",
       "  /* Expand drop-down */\n",
       "  max-height: 200px;\n",
       "  max-width: 100%;\n",
       "  overflow: auto;\n",
       "}\n",
       "\n",
       "#sk-container-id-3 input.sk-toggleable__control:checked~label.sk-toggleable__label-arrow:before {\n",
       "  content: \"▾\";\n",
       "}\n",
       "\n",
       "/* Pipeline/ColumnTransformer-specific style */\n",
       "\n",
       "#sk-container-id-3 div.sk-label input.sk-toggleable__control:checked~label.sk-toggleable__label {\n",
       "  color: var(--sklearn-color-text);\n",
       "  background-color: var(--sklearn-color-unfitted-level-2);\n",
       "}\n",
       "\n",
       "#sk-container-id-3 div.sk-label.fitted input.sk-toggleable__control:checked~label.sk-toggleable__label {\n",
       "  background-color: var(--sklearn-color-fitted-level-2);\n",
       "}\n",
       "\n",
       "/* Estimator-specific style */\n",
       "\n",
       "/* Colorize estimator box */\n",
       "#sk-container-id-3 div.sk-estimator input.sk-toggleable__control:checked~label.sk-toggleable__label {\n",
       "  /* unfitted */\n",
       "  background-color: var(--sklearn-color-unfitted-level-2);\n",
       "}\n",
       "\n",
       "#sk-container-id-3 div.sk-estimator.fitted input.sk-toggleable__control:checked~label.sk-toggleable__label {\n",
       "  /* fitted */\n",
       "  background-color: var(--sklearn-color-fitted-level-2);\n",
       "}\n",
       "\n",
       "#sk-container-id-3 div.sk-label label.sk-toggleable__label,\n",
       "#sk-container-id-3 div.sk-label label {\n",
       "  /* The background is the default theme color */\n",
       "  color: var(--sklearn-color-text-on-default-background);\n",
       "}\n",
       "\n",
       "/* On hover, darken the color of the background */\n",
       "#sk-container-id-3 div.sk-label:hover label.sk-toggleable__label {\n",
       "  color: var(--sklearn-color-text);\n",
       "  background-color: var(--sklearn-color-unfitted-level-2);\n",
       "}\n",
       "\n",
       "/* Label box, darken color on hover, fitted */\n",
       "#sk-container-id-3 div.sk-label.fitted:hover label.sk-toggleable__label.fitted {\n",
       "  color: var(--sklearn-color-text);\n",
       "  background-color: var(--sklearn-color-fitted-level-2);\n",
       "}\n",
       "\n",
       "/* Estimator label */\n",
       "\n",
       "#sk-container-id-3 div.sk-label label {\n",
       "  font-family: monospace;\n",
       "  font-weight: bold;\n",
       "  display: inline-block;\n",
       "  line-height: 1.2em;\n",
       "}\n",
       "\n",
       "#sk-container-id-3 div.sk-label-container {\n",
       "  text-align: center;\n",
       "}\n",
       "\n",
       "/* Estimator-specific */\n",
       "#sk-container-id-3 div.sk-estimator {\n",
       "  font-family: monospace;\n",
       "  border: 1px dotted var(--sklearn-color-border-box);\n",
       "  border-radius: 0.25em;\n",
       "  box-sizing: border-box;\n",
       "  margin-bottom: 0.5em;\n",
       "  /* unfitted */\n",
       "  background-color: var(--sklearn-color-unfitted-level-0);\n",
       "}\n",
       "\n",
       "#sk-container-id-3 div.sk-estimator.fitted {\n",
       "  /* fitted */\n",
       "  background-color: var(--sklearn-color-fitted-level-0);\n",
       "}\n",
       "\n",
       "/* on hover */\n",
       "#sk-container-id-3 div.sk-estimator:hover {\n",
       "  /* unfitted */\n",
       "  background-color: var(--sklearn-color-unfitted-level-2);\n",
       "}\n",
       "\n",
       "#sk-container-id-3 div.sk-estimator.fitted:hover {\n",
       "  /* fitted */\n",
       "  background-color: var(--sklearn-color-fitted-level-2);\n",
       "}\n",
       "\n",
       "/* Specification for estimator info (e.g. \"i\" and \"?\") */\n",
       "\n",
       "/* Common style for \"i\" and \"?\" */\n",
       "\n",
       ".sk-estimator-doc-link,\n",
       "a:link.sk-estimator-doc-link,\n",
       "a:visited.sk-estimator-doc-link {\n",
       "  float: right;\n",
       "  font-size: smaller;\n",
       "  line-height: 1em;\n",
       "  font-family: monospace;\n",
       "  background-color: var(--sklearn-color-background);\n",
       "  border-radius: 1em;\n",
       "  height: 1em;\n",
       "  width: 1em;\n",
       "  text-decoration: none !important;\n",
       "  margin-left: 1ex;\n",
       "  /* unfitted */\n",
       "  border: var(--sklearn-color-unfitted-level-1) 1pt solid;\n",
       "  color: var(--sklearn-color-unfitted-level-1);\n",
       "}\n",
       "\n",
       ".sk-estimator-doc-link.fitted,\n",
       "a:link.sk-estimator-doc-link.fitted,\n",
       "a:visited.sk-estimator-doc-link.fitted {\n",
       "  /* fitted */\n",
       "  border: var(--sklearn-color-fitted-level-1) 1pt solid;\n",
       "  color: var(--sklearn-color-fitted-level-1);\n",
       "}\n",
       "\n",
       "/* On hover */\n",
       "div.sk-estimator:hover .sk-estimator-doc-link:hover,\n",
       ".sk-estimator-doc-link:hover,\n",
       "div.sk-label-container:hover .sk-estimator-doc-link:hover,\n",
       ".sk-estimator-doc-link:hover {\n",
       "  /* unfitted */\n",
       "  background-color: var(--sklearn-color-unfitted-level-3);\n",
       "  color: var(--sklearn-color-background);\n",
       "  text-decoration: none;\n",
       "}\n",
       "\n",
       "div.sk-estimator.fitted:hover .sk-estimator-doc-link.fitted:hover,\n",
       ".sk-estimator-doc-link.fitted:hover,\n",
       "div.sk-label-container:hover .sk-estimator-doc-link.fitted:hover,\n",
       ".sk-estimator-doc-link.fitted:hover {\n",
       "  /* fitted */\n",
       "  background-color: var(--sklearn-color-fitted-level-3);\n",
       "  color: var(--sklearn-color-background);\n",
       "  text-decoration: none;\n",
       "}\n",
       "\n",
       "/* Span, style for the box shown on hovering the info icon */\n",
       ".sk-estimator-doc-link span {\n",
       "  display: none;\n",
       "  z-index: 9999;\n",
       "  position: relative;\n",
       "  font-weight: normal;\n",
       "  right: .2ex;\n",
       "  padding: .5ex;\n",
       "  margin: .5ex;\n",
       "  width: min-content;\n",
       "  min-width: 20ex;\n",
       "  max-width: 50ex;\n",
       "  color: var(--sklearn-color-text);\n",
       "  box-shadow: 2pt 2pt 4pt #999;\n",
       "  /* unfitted */\n",
       "  background: var(--sklearn-color-unfitted-level-0);\n",
       "  border: .5pt solid var(--sklearn-color-unfitted-level-3);\n",
       "}\n",
       "\n",
       ".sk-estimator-doc-link.fitted span {\n",
       "  /* fitted */\n",
       "  background: var(--sklearn-color-fitted-level-0);\n",
       "  border: var(--sklearn-color-fitted-level-3);\n",
       "}\n",
       "\n",
       ".sk-estimator-doc-link:hover span {\n",
       "  display: block;\n",
       "}\n",
       "\n",
       "/* \"?\"-specific style due to the `<a>` HTML tag */\n",
       "\n",
       "#sk-container-id-3 a.estimator_doc_link {\n",
       "  float: right;\n",
       "  font-size: 1rem;\n",
       "  line-height: 1em;\n",
       "  font-family: monospace;\n",
       "  background-color: var(--sklearn-color-background);\n",
       "  border-radius: 1rem;\n",
       "  height: 1rem;\n",
       "  width: 1rem;\n",
       "  text-decoration: none;\n",
       "  /* unfitted */\n",
       "  color: var(--sklearn-color-unfitted-level-1);\n",
       "  border: var(--sklearn-color-unfitted-level-1) 1pt solid;\n",
       "}\n",
       "\n",
       "#sk-container-id-3 a.estimator_doc_link.fitted {\n",
       "  /* fitted */\n",
       "  border: var(--sklearn-color-fitted-level-1) 1pt solid;\n",
       "  color: var(--sklearn-color-fitted-level-1);\n",
       "}\n",
       "\n",
       "/* On hover */\n",
       "#sk-container-id-3 a.estimator_doc_link:hover {\n",
       "  /* unfitted */\n",
       "  background-color: var(--sklearn-color-unfitted-level-3);\n",
       "  color: var(--sklearn-color-background);\n",
       "  text-decoration: none;\n",
       "}\n",
       "\n",
       "#sk-container-id-3 a.estimator_doc_link.fitted:hover {\n",
       "  /* fitted */\n",
       "  background-color: var(--sklearn-color-fitted-level-3);\n",
       "}\n",
       "</style><div id=\"sk-container-id-3\" class=\"sk-top-container\"><div class=\"sk-text-repr-fallback\"><pre>Lasso(alpha=0.1)</pre><b>In a Jupyter environment, please rerun this cell to show the HTML representation or trust the notebook. <br />On GitHub, the HTML representation is unable to render, please try loading this page with nbviewer.org.</b></div><div class=\"sk-container\" hidden><div class=\"sk-item\"><div class=\"sk-estimator fitted sk-toggleable\"><input class=\"sk-toggleable__control sk-hidden--visually\" id=\"sk-estimator-id-3\" type=\"checkbox\" checked><label for=\"sk-estimator-id-3\" class=\"sk-toggleable__label fitted sk-toggleable__label-arrow fitted\">&nbsp;&nbsp;Lasso<a class=\"sk-estimator-doc-link fitted\" rel=\"noreferrer\" target=\"_blank\" href=\"https://scikit-learn.org/1.4/modules/generated/sklearn.linear_model.Lasso.html\">?<span>Documentation for Lasso</span></a><span class=\"sk-estimator-doc-link fitted\">i<span>Fitted</span></span></label><div class=\"sk-toggleable__content fitted\"><pre>Lasso(alpha=0.1)</pre></div> </div></div></div></div>"
      ],
      "text/plain": [
       "Lasso(alpha=0.1)"
      ]
     },
     "execution_count": 100,
     "metadata": {},
     "output_type": "execute_result"
    }
   ],
   "source": [
    "\n"
   ]
  },
  {
   "cell_type": "code",
   "execution_count": 101,
   "id": "b9e4229b-ccb4-449a-b24c-2c37d4fbee47",
   "metadata": {},
   "outputs": [],
   "source": []
  },
  {
   "cell_type": "code",
   "execution_count": 106,
   "id": "89b973fa-4e86-490a-8920-e633ae2e4d2b",
   "metadata": {},
   "outputs": [
    {
     "name": "stdout",
     "output_type": "stream",
     "text": [
      "[ 0.06291992  0.00574289  0.          0.01064471  0.          0.\n",
      "  0.         -0.         -0.         -0.         -0.          0.\n",
      "  0.          0.07865673  0.          0.          0.          0.\n",
      "  0.         -0.         -0.        ]\n",
      "                 Feature  Coefficient\n",
      "0                 HighBP     0.062920\n",
      "1               HighChol     0.005743\n",
      "2              CholCheck     0.000000\n",
      "3                    BMI     0.010645\n",
      "4                 Smoker     0.000000\n",
      "5                 Stroke     0.000000\n",
      "6   HeartDiseaseorAttack     0.000000\n",
      "7           PhysActivity    -0.000000\n",
      "8                 Fruits    -0.000000\n",
      "9                Veggies    -0.000000\n",
      "10     HvyAlcoholConsump    -0.000000\n",
      "11         AnyHealthcare     0.000000\n",
      "12           NoDocbcCost     0.000000\n",
      "13               GenHlth     0.078657\n",
      "14              MentHlth     0.000000\n",
      "15              PhysHlth     0.000000\n",
      "16              DiffWalk     0.000000\n",
      "17                   Sex     0.000000\n",
      "18                   Age     0.000000\n",
      "19             Education    -0.000000\n",
      "20                Income    -0.000000\n"
     ]
    }
   ],
   "source": []
  },
  {
   "cell_type": "code",
   "execution_count": 102,
   "id": "04a794a2-0bfc-4b30-8f2f-b2e7d943ee3b",
   "metadata": {},
   "outputs": [
    {
     "name": "stdout",
     "output_type": "stream",
     "text": [
      "Accuracy_ts: 0.7214795954452224\n",
      "Accuracy_tr: 0.7263982458932329\n",
      "Confusion Matrix:\n",
      "[[5010 2060]\n",
      " [1878 5191]]\n"
     ]
    }
   ],
   "source": [
    "# Evaluate the model\n",
    "from sklearn.metrics import accuracy_score\n",
    "from sklearn.metrics import confusion_matrix\n",
    "accuracy_ts = accuracy_score(Ytest, Y_pred.round())\n",
    "accuracy_tr = accuracy_score(Ytrain, Y_pred_tr.round())\n",
    "conf_matrix_ts = confusion_matrix(Ytest, Y_pred.round())\n",
    "\n",
    "print(f\"Accuracy_ts: {accuracy_ts}\")\n",
    "print(f\"Accuracy_tr: {accuracy_tr}\")\n",
    "print(f\"Confusion Matrix:\\n{conf_matrix_ts}\")"
   ]
  },
  {
   "cell_type": "code",
   "execution_count": null,
   "id": "2deee979-0745-466b-a13b-497bc4e16f3b",
   "metadata": {},
   "outputs": [],
   "source": []
  },
  {
   "cell_type": "code",
   "execution_count": 33,
   "id": "eb7395ea-80c6-498b-8881-80e5ffca2e22",
   "metadata": {},
   "outputs": [],
   "source": [
    "########## Random Forest ##########\n",
    "from sklearn.preprocessing import StandardScaler\n",
    "from sklearn.ensemble import RandomForestClassifier, VotingClassifier\n",
    "from sklearn.tree import DecisionTreeClassifier\n",
    "from lightgbm import LGBMClassifier\n",
    "from sklearn.ensemble import AdaBoostClassifier, GradientBoostingClassifier\n",
    "from xgboost import XGBClassifier"
   ]
  },
  {
   "cell_type": "code",
   "execution_count": 34,
   "id": "e2885e2a-6270-49eb-b8c0-1b7cd432cd97",
   "metadata": {},
   "outputs": [
    {
     "name": "stdout",
     "output_type": "stream",
     "text": [
      "Accuracy test: 0.7267133460640781\n",
      "Accuracy train: 0.985500327126766\n",
      "Confusion Matrix:\n",
      "[[4861 2209]\n",
      " [1655 5414]]\n"
     ]
    }
   ],
   "source": [
    "from sklearn.metrics import accuracy_score\n",
    "rf_classifier = RandomForestClassifier(n_estimators=100)\n",
    "rf_classifier.fit(Xtrain,Ytrain)\n",
    "# Evaluating the model\n",
    "y_pred = rf_classifier.predict(Xtest)\n",
    "y_pred_tr = rf_classifier.predict(Xtrain)\n",
    "accuracy_test = accuracy_score(Ytest, y_pred)\n",
    "print(\"Accuracy test:\", accuracy_test)\n",
    "accuracy_train = accuracy_score(Ytrain, y_pred_tr)\n",
    "print(\"Accuracy train:\", accuracy_train)\n",
    "\n",
    "from sklearn.metrics import confusion_matrix\n",
    "conf_matrix = confusion_matrix(Ytest, y_pred)\n",
    "\n",
    "print(\"Confusion Matrix:\")\n",
    "print(conf_matrix)"
   ]
  },
  {
   "cell_type": "code",
   "execution_count": 35,
   "id": "1525abc2-cebf-4af3-8517-ce861e5fc56c",
   "metadata": {},
   "outputs": [
    {
     "name": "stdout",
     "output_type": "stream",
     "text": [
      "Best Parameters: {'max_depth': 10, 'min_samples_leaf': 1, 'min_samples_split': 5, 'n_estimators': 300}\n",
      "Accuracy test: 0.7455265577480727\n",
      "Accuracy train: 0.7709935812423744\n",
      "Confusion Matrix:\n",
      "[[4966 2104]\n",
      " [1494 5575]]\n"
     ]
    }
   ],
   "source": [
    "######random forest parameter tuning\n",
    "\n",
    "# Define the parameter grid\n",
    "param_grid = {\n",
    "    'n_estimators': [100, 200, 300],\n",
    "    'max_depth': [None, 10, 20],\n",
    "    'min_samples_split': [3,4,5],\n",
    "    'min_samples_leaf': [1, 2, 4]\n",
    "}\n",
    "\n",
    "# Creating Random Forest classifier\n",
    "rf_classifier = RandomForestClassifier(random_state=42)\n",
    "\n",
    "# Grid search with cross-validation\n",
    "grid_search = GridSearchCV(estimator=rf_classifier, param_grid=param_grid, cv=5, scoring='accuracy', n_jobs=-1)\n",
    "grid_search.fit(Xtrain, Ytrain)\n",
    "\n",
    "# Best parameters found\n",
    "print(\"Best Parameters:\", grid_search.best_params_)\n",
    "\n",
    "# Evaluate the best model\n",
    "best_rf_classifier = grid_search.best_estimator_\n",
    "y_pred = best_rf_classifier.predict(Xtest)\n",
    "y_pred2 = best_rf_classifier.predict(Xtrain)\n",
    "\n",
    "accuracy = accuracy_score(Ytest, y_pred)\n",
    "print(\"Accuracy test:\", accuracy)\n",
    "accuracy2 = accuracy_score(Ytrain, y_pred2)\n",
    "print(\"Accuracy train:\", accuracy2)\n",
    "conf_matrix = confusion_matrix(Ytest, y_pred)\n",
    "\n",
    "print(\"Confusion Matrix:\")\n",
    "print(conf_matrix)\n"
   ]
  },
  {
   "cell_type": "code",
   "execution_count": 36,
   "id": "2192a7fa-5849-4c15-819b-a9a257a14701",
   "metadata": {},
   "outputs": [
    {
     "name": "stdout",
     "output_type": "stream",
     "text": [
      "Number of variables in the Random Forest: 21\n"
     ]
    }
   ],
   "source": [
    "# Get the number of variables (features)\n",
    "num_variables = best_rf_classifier.n_features_in_\n",
    "\n",
    "print(\"Number of variables in the Random Forest:\", num_variables)"
   ]
  },
  {
   "cell_type": "code",
   "execution_count": 37,
   "id": "da2edba0-1f73-4414-bb3b-3e686e448401",
   "metadata": {},
   "outputs": [
    {
     "data": {
      "image/png": "[encoded data removed]",
      "text/plain": [
       "<Figure size 1000x600 with 1 Axes>"
      ]
     },
     "metadata": {},
     "output_type": "display_data"
    }
   ],
   "source": [
    "# Getting feature importances\n",
    "importances = best_rf_classifier.feature_importances_\n",
    "\n",
    "# Creating a DataFrame with feature importances\n",
    "feature_importances_df = pd.DataFrame({'feature': Xtrain.columns, 'importance': importances})\n",
    "\n",
    "# Sorting the DataFrame by feature importance\n",
    "feature_importances_df = feature_importances_df.sort_values(by='importance', ascending=False)\n",
    "\n",
    "# Plotting the variable importance plot\n",
    "plt.figure(figsize=(10, 6))\n",
    "sns.barplot(x='importance', y='feature', data=feature_importances_df)\n",
    "plt.title('Variable Importance Plot')\n",
    "plt.xlabel('Importance')\n",
    "plt.ylabel('Feature')\n",
    "plt.show()"
   ]
  },
  {
   "cell_type": "code",
   "execution_count": 38,
   "id": "5479758e-a6c2-4f75-8f62-e0ba4326773b",
   "metadata": {},
   "outputs": [],
   "source": [
    "Imp_var = ['GenHlth','HighBP','BMI','HighChol', 'Age', 'DiffWalk','Income', 'HeartDiseaseorAttack','PhysHlth']"
   ]
  },
  {
   "cell_type": "code",
   "execution_count": 39,
   "id": "9967a28d-ac6e-4bed-bfca-31de1f33c989",
   "metadata": {},
   "outputs": [
    {
     "data": {
      "text/html": [
       "<div>\n",
       "<style scoped>\n",
       "    .dataframe tbody tr th:only-of-type {\n",
       "        vertical-align: middle;\n",
       "    }\n",
       "\n",
       "    .dataframe tbody tr th {\n",
       "        vertical-align: top;\n",
       "    }\n",
       "\n",
       "    .dataframe thead th {\n",
       "        text-align: right;\n",
       "    }\n",
       "</style>\n",
       "<table border=\"1\" class=\"dataframe\">\n",
       "  <thead>\n",
       "    <tr style=\"text-align: right;\">\n",
       "      <th></th>\n",
       "      <th>GenHlth</th>\n",
       "      <th>HighBP</th>\n",
       "      <th>BMI</th>\n",
       "      <th>HighChol</th>\n",
       "      <th>Age</th>\n",
       "      <th>DiffWalk</th>\n",
       "      <th>Income</th>\n",
       "      <th>HeartDiseaseorAttack</th>\n",
       "      <th>PhysHlth</th>\n",
       "    </tr>\n",
       "  </thead>\n",
       "  <tbody>\n",
       "    <tr>\n",
       "      <th>27193</th>\n",
       "      <td>5</td>\n",
       "      <td>1</td>\n",
       "      <td>28</td>\n",
       "      <td>1</td>\n",
       "      <td>4</td>\n",
       "      <td>1</td>\n",
       "      <td>2</td>\n",
       "      <td>0</td>\n",
       "      <td>14</td>\n",
       "    </tr>\n",
       "    <tr>\n",
       "      <th>2377</th>\n",
       "      <td>1</td>\n",
       "      <td>0</td>\n",
       "      <td>28</td>\n",
       "      <td>0</td>\n",
       "      <td>3</td>\n",
       "      <td>0</td>\n",
       "      <td>2</td>\n",
       "      <td>0</td>\n",
       "      <td>3</td>\n",
       "    </tr>\n",
       "    <tr>\n",
       "      <th>2674</th>\n",
       "      <td>1</td>\n",
       "      <td>0</td>\n",
       "      <td>19</td>\n",
       "      <td>0</td>\n",
       "      <td>1</td>\n",
       "      <td>0</td>\n",
       "      <td>4</td>\n",
       "      <td>0</td>\n",
       "      <td>0</td>\n",
       "    </tr>\n",
       "    <tr>\n",
       "      <th>40653</th>\n",
       "      <td>3</td>\n",
       "      <td>0</td>\n",
       "      <td>30</td>\n",
       "      <td>0</td>\n",
       "      <td>2</td>\n",
       "      <td>1</td>\n",
       "      <td>1</td>\n",
       "      <td>0</td>\n",
       "      <td>30</td>\n",
       "    </tr>\n",
       "    <tr>\n",
       "      <th>46107</th>\n",
       "      <td>3</td>\n",
       "      <td>1</td>\n",
       "      <td>34</td>\n",
       "      <td>1</td>\n",
       "      <td>3</td>\n",
       "      <td>0</td>\n",
       "      <td>2</td>\n",
       "      <td>1</td>\n",
       "      <td>0</td>\n",
       "    </tr>\n",
       "    <tr>\n",
       "      <th>...</th>\n",
       "      <td>...</td>\n",
       "      <td>...</td>\n",
       "      <td>...</td>\n",
       "      <td>...</td>\n",
       "      <td>...</td>\n",
       "      <td>...</td>\n",
       "      <td>...</td>\n",
       "      <td>...</td>\n",
       "      <td>...</td>\n",
       "    </tr>\n",
       "    <tr>\n",
       "      <th>39321</th>\n",
       "      <td>3</td>\n",
       "      <td>1</td>\n",
       "      <td>34</td>\n",
       "      <td>0</td>\n",
       "      <td>3</td>\n",
       "      <td>1</td>\n",
       "      <td>1</td>\n",
       "      <td>0</td>\n",
       "      <td>5</td>\n",
       "    </tr>\n",
       "    <tr>\n",
       "      <th>14110</th>\n",
       "      <td>2</td>\n",
       "      <td>0</td>\n",
       "      <td>23</td>\n",
       "      <td>0</td>\n",
       "      <td>1</td>\n",
       "      <td>0</td>\n",
       "      <td>3</td>\n",
       "      <td>0</td>\n",
       "      <td>0</td>\n",
       "    </tr>\n",
       "    <tr>\n",
       "      <th>40688</th>\n",
       "      <td>3</td>\n",
       "      <td>1</td>\n",
       "      <td>43</td>\n",
       "      <td>0</td>\n",
       "      <td>3</td>\n",
       "      <td>1</td>\n",
       "      <td>3</td>\n",
       "      <td>0</td>\n",
       "      <td>0</td>\n",
       "    </tr>\n",
       "    <tr>\n",
       "      <th>983</th>\n",
       "      <td>3</td>\n",
       "      <td>0</td>\n",
       "      <td>27</td>\n",
       "      <td>0</td>\n",
       "      <td>3</td>\n",
       "      <td>0</td>\n",
       "      <td>3</td>\n",
       "      <td>0</td>\n",
       "      <td>0</td>\n",
       "    </tr>\n",
       "    <tr>\n",
       "      <th>25281</th>\n",
       "      <td>4</td>\n",
       "      <td>1</td>\n",
       "      <td>29</td>\n",
       "      <td>1</td>\n",
       "      <td>4</td>\n",
       "      <td>0</td>\n",
       "      <td>1</td>\n",
       "      <td>0</td>\n",
       "      <td>0</td>\n",
       "    </tr>\n",
       "  </tbody>\n",
       "</table>\n",
       "<p>14139 rows × 9 columns</p>\n",
       "</div>"
      ],
      "text/plain": [
       "       GenHlth  HighBP  BMI  HighChol  Age  DiffWalk  Income  \\\n",
       "27193        5       1   28         1    4         1       2   \n",
       "2377         1       0   28         0    3         0       2   \n",
       "2674         1       0   19         0    1         0       4   \n",
       "40653        3       0   30         0    2         1       1   \n",
       "46107        3       1   34         1    3         0       2   \n",
       "...        ...     ...  ...       ...  ...       ...     ...   \n",
       "39321        3       1   34         0    3         1       1   \n",
       "14110        2       0   23         0    1         0       3   \n",
       "40688        3       1   43         0    3         1       3   \n",
       "983          3       0   27         0    3         0       3   \n",
       "25281        4       1   29         1    4         0       1   \n",
       "\n",
       "       HeartDiseaseorAttack  PhysHlth  \n",
       "27193                     0        14  \n",
       "2377                      0         3  \n",
       "2674                      0         0  \n",
       "40653                     0        30  \n",
       "46107                     1         0  \n",
       "...                     ...       ...  \n",
       "39321                     0         5  \n",
       "14110                     0         0  \n",
       "40688                     0         0  \n",
       "983                       0         0  \n",
       "25281                     0         0  \n",
       "\n",
       "[14139 rows x 9 columns]"
      ]
     },
     "execution_count": 39,
     "metadata": {},
     "output_type": "execute_result"
    }
   ],
   "source": [
    "NYtrain = Ytrain\n",
    "NXtrain = Xtrain[Imp_var]\n",
    "NYtest = Ytest\n",
    "NXtest = Xtest[Imp_var]\n",
    "NXtest"
   ]
  },
  {
   "cell_type": "code",
   "execution_count": 40,
   "id": "f0c31149-8163-44f6-a55a-de80a88c6734",
   "metadata": {},
   "outputs": [
    {
     "name": "stdout",
     "output_type": "stream",
     "text": [
      "Best Parameters: {'max_depth': 10, 'min_samples_leaf': 4, 'min_samples_split': 3, 'n_estimators': 300}\n",
      "Accuracy test: 0.7412122498055025\n",
      "Accuracy train: 0.7636199671104981\n",
      "Confusion Matrix:\n",
      "[[4957 2113]\n",
      " [1546 5523]]\n"
     ]
    }
   ],
   "source": [
    "######random forest parameter tuning\n",
    "\n",
    "# Define the parameter grid\n",
    "Nparam_grid = {\n",
    "    'n_estimators': [100, 200, 300],\n",
    "    'max_depth': [None, 10, 20],\n",
    "    'min_samples_split': [3,4,5],\n",
    "    'min_samples_leaf': [1, 2, 4]\n",
    "}\n",
    "\n",
    "# Creating Random Forest classifier\n",
    "Nrf_classifier = RandomForestClassifier(random_state=42)\n",
    "\n",
    "# Grid search with cross-validation\n",
    "Ngrid_search = GridSearchCV(estimator=Nrf_classifier, param_grid=Nparam_grid, cv=5, scoring='accuracy', n_jobs=-1)\n",
    "Ngrid_search.fit(NXtrain, NYtrain)\n",
    "\n",
    "# Best parameters found\n",
    "print(\"Best Parameters:\", Ngrid_search.best_params_)\n",
    "\n",
    "# Evaluate the best model\n",
    "Nbest_rf_classifier = Ngrid_search.best_estimator_\n",
    "Ny_pred = Nbest_rf_classifier.predict(NXtest)\n",
    "Ny_pred2 = Nbest_rf_classifier.predict(NXtrain)\n",
    "\n",
    "Naccuracy = accuracy_score(NYtest, Ny_pred)\n",
    "print(\"Accuracy test:\", Naccuracy)\n",
    "Naccuracy2 = accuracy_score(NYtrain, Ny_pred2)\n",
    "print(\"Accuracy train:\", Naccuracy2)\n",
    "Nconf_matrix = confusion_matrix(NYtest, Ny_pred)\n",
    "\n",
    "print(\"Confusion Matrix:\")\n",
    "print(Nconf_matrix)\n"
   ]
  },
  {
   "cell_type": "code",
   "execution_count": 41,
   "id": "e22a9f89-932e-4999-b13a-8cc92e4d333a",
   "metadata": {},
   "outputs": [
    {
     "name": "stdout",
     "output_type": "stream",
     "text": [
      "Model saved successfully.\n"
     ]
    }
   ],
   "source": [
    "import pickle\n",
    "\n",
    "filename = r'C:\\Users\\PC\\Desktop\\GroupProject_ST 3082\\App\\model.pkl'\n",
    "with open(filename, 'wb') as f:\n",
    "    pickle.dump(Nbest_rf_classifier, f)\n",
    "\n",
    "print(\"Model saved successfully.\")"
   ]
  },
  {
   "cell_type": "code",
   "execution_count": null,
   "id": "fef45e0d-8072-4b63-acc5-5357617ce694",
   "metadata": {},
   "outputs": [],
   "source": []
  }
 ],
 "metadata": {
  "kernelspec": {
   "display_name": "Python 3 (ipykernel)",
   "language": "python",
   "name": "python3"
  },
  "language_info": {
   "codemirror_mode": {
    "name": "ipython",
    "version": 3
   },
   "file_extension": ".py",
   "mimetype": "text/x-python",
   "name": "python",
   "nbconvert_exporter": "python",
   "pygments_lexer": "ipython3",
   "version": "3.12.3"
  }
 },
 "nbformat": 4,
 "nbformat_minor": 5
}
