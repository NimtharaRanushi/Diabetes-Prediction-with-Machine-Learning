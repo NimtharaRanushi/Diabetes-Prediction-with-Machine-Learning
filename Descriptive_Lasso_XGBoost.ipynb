{
 "cells": [
  {
   "cell_type": "code",
   "execution_count": 1,
   "id": "43d9af3d-fb17-4af0-91d1-355a63b9f5ce",
   "metadata": {},
   "outputs": [
    {
     "name": "stdout",
     "output_type": "stream",
     "text": [
      "Requirement already satisfied: numpy in c:\\users\\user\\anaconda3\\lib\\site-packages (1.26.4)\n"
     ]
    }
   ],
   "source": [
    "!pip install numpy"
   ]
  },
  {
   "cell_type": "code",
   "execution_count": 2,
   "id": "e0292d71-8707-4a07-b85f-9649a5b991b4",
   "metadata": {},
   "outputs": [
    {
     "name": "stdout",
     "output_type": "stream",
     "text": [
      "Requirement already satisfied: pandas in c:\\users\\user\\anaconda3\\lib\\site-packages (2.1.4)\n",
      "Requirement already satisfied: numpy<2,>=1.23.2 in c:\\users\\user\\anaconda3\\lib\\site-packages (from pandas) (1.26.4)\n",
      "Requirement already satisfied: python-dateutil>=2.8.2 in c:\\users\\user\\anaconda3\\lib\\site-packages (from pandas) (2.8.2)\n",
      "Requirement already satisfied: pytz>=2020.1 in c:\\users\\user\\anaconda3\\lib\\site-packages (from pandas) (2023.3.post1)\n",
      "Requirement already satisfied: tzdata>=2022.1 in c:\\users\\user\\anaconda3\\lib\\site-packages (from pandas) (2023.3)\n",
      "Requirement already satisfied: six>=1.5 in c:\\users\\user\\anaconda3\\lib\\site-packages (from python-dateutil>=2.8.2->pandas) (1.16.0)\n"
     ]
    }
   ],
   "source": [
    "!pip install pandas"
   ]
  },
  {
   "cell_type": "code",
   "execution_count": 3,
   "id": "146c1875-4a84-47c3-ad5e-cdf1d2923a22",
   "metadata": {},
   "outputs": [],
   "source": [
    "import pandas as pd\n",
    "import numpy as np\n",
    "import matplotlib.pyplot as plt\n",
    "import seaborn as sns\n",
    "from sklearn.model_selection import train_test_split \n",
    "from sklearn.model_selection import GridSearchCV, cross_val_score\n",
    "from sklearn.preprocessing import StandardScaler\n",
    "from sklearn.ensemble import RandomForestClassifier, VotingClassifier\n",
    "from sklearn.tree import DecisionTreeClassifier\n",
    "from sklearn.svm import SVC\n",
    "from sklearn.neighbors import KNeighborsClassifier\n",
    "from sklearn.linear_model import LogisticRegression\n",
    "import os\n"
   ]
  },
  {
   "cell_type": "code",
   "execution_count": 4,
   "id": "75ff4549-fa3e-4c8b-82d9-4a8455aa12ca",
   "metadata": {},
   "outputs": [],
   "source": [
    "df = pd.read_csv(\"E:/Year 3/ST 3082/GroupProject_ST 3082/Final Project/Diabetes.csv\")\n"
   ]
  },
  {
   "cell_type": "code",
   "execution_count": 5,
   "id": "b5d15429-dd9a-4f3a-a670-d90c14c1aea6",
   "metadata": {},
   "outputs": [
    {
     "name": "stdout",
     "output_type": "stream",
     "text": [
      "<class 'pandas.core.frame.DataFrame'>\n",
      "RangeIndex: 70692 entries, 0 to 70691\n",
      "Data columns (total 22 columns):\n",
      " #   Column                Non-Null Count  Dtype  \n",
      "---  ------                --------------  -----  \n",
      " 0   Diabetes_binary       70692 non-null  float64\n",
      " 1   HighBP                70692 non-null  float64\n",
      " 2   HighChol              70692 non-null  float64\n",
      " 3   CholCheck             70692 non-null  float64\n",
      " 4   BMI                   70692 non-null  float64\n",
      " 5   Smoker                70692 non-null  float64\n",
      " 6   Stroke                70692 non-null  float64\n",
      " 7   HeartDiseaseorAttack  70692 non-null  float64\n",
      " 8   PhysActivity          70692 non-null  float64\n",
      " 9   Fruits                70692 non-null  float64\n",
      " 10  Veggies               70692 non-null  float64\n",
      " 11  HvyAlcoholConsump     70692 non-null  float64\n",
      " 12  AnyHealthcare         70692 non-null  float64\n",
      " 13  NoDocbcCost           70692 non-null  float64\n",
      " 14  GenHlth               70692 non-null  float64\n",
      " 15  MentHlth              70692 non-null  float64\n",
      " 16  PhysHlth              70692 non-null  float64\n",
      " 17  DiffWalk              70692 non-null  float64\n",
      " 18  Sex                   70692 non-null  float64\n",
      " 19  Age                   70692 non-null  float64\n",
      " 20  Education             70692 non-null  float64\n",
      " 21  Income                70692 non-null  float64\n",
      "dtypes: float64(22)\n",
      "memory usage: 11.9 MB\n"
     ]
    }
   ],
   "source": [
    "df.info()"
   ]
  },
  {
   "cell_type": "code",
   "execution_count": 6,
   "id": "28f80871-280f-4eb4-ae4c-a6db20a8c2f1",
   "metadata": {},
   "outputs": [],
   "source": [
    "rs = 73"
   ]
  },
  {
   "cell_type": "code",
   "execution_count": 7,
   "id": "823773a2-95a0-440e-ba52-768a90b79fa5",
   "metadata": {},
   "outputs": [
    {
     "data": {
      "text/html": [
       "<div>\n",
       "<style scoped>\n",
       "    .dataframe tbody tr th:only-of-type {\n",
       "        vertical-align: middle;\n",
       "    }\n",
       "\n",
       "    .dataframe tbody tr th {\n",
       "        vertical-align: top;\n",
       "    }\n",
       "\n",
       "    .dataframe thead th {\n",
       "        text-align: right;\n",
       "    }\n",
       "</style>\n",
       "<table border=\"1\" class=\"dataframe\">\n",
       "  <thead>\n",
       "    <tr style=\"text-align: right;\">\n",
       "      <th></th>\n",
       "      <th>Diabetes_binary</th>\n",
       "      <th>HighBP</th>\n",
       "      <th>HighChol</th>\n",
       "      <th>CholCheck</th>\n",
       "      <th>BMI</th>\n",
       "      <th>Smoker</th>\n",
       "      <th>Stroke</th>\n",
       "      <th>HeartDiseaseorAttack</th>\n",
       "      <th>PhysActivity</th>\n",
       "      <th>Fruits</th>\n",
       "      <th>...</th>\n",
       "      <th>AnyHealthcare</th>\n",
       "      <th>NoDocbcCost</th>\n",
       "      <th>GenHlth</th>\n",
       "      <th>MentHlth</th>\n",
       "      <th>PhysHlth</th>\n",
       "      <th>DiffWalk</th>\n",
       "      <th>Sex</th>\n",
       "      <th>Age</th>\n",
       "      <th>Education</th>\n",
       "      <th>Income</th>\n",
       "    </tr>\n",
       "  </thead>\n",
       "  <tbody>\n",
       "    <tr>\n",
       "      <th>0</th>\n",
       "      <td>0.0</td>\n",
       "      <td>1.0</td>\n",
       "      <td>0.0</td>\n",
       "      <td>1.0</td>\n",
       "      <td>26.0</td>\n",
       "      <td>0.0</td>\n",
       "      <td>0.0</td>\n",
       "      <td>0.0</td>\n",
       "      <td>1.0</td>\n",
       "      <td>0.0</td>\n",
       "      <td>...</td>\n",
       "      <td>1.0</td>\n",
       "      <td>0.0</td>\n",
       "      <td>3.0</td>\n",
       "      <td>5.0</td>\n",
       "      <td>30.0</td>\n",
       "      <td>0.0</td>\n",
       "      <td>1.0</td>\n",
       "      <td>4.0</td>\n",
       "      <td>6.0</td>\n",
       "      <td>8.0</td>\n",
       "    </tr>\n",
       "    <tr>\n",
       "      <th>1</th>\n",
       "      <td>0.0</td>\n",
       "      <td>1.0</td>\n",
       "      <td>1.0</td>\n",
       "      <td>1.0</td>\n",
       "      <td>26.0</td>\n",
       "      <td>1.0</td>\n",
       "      <td>1.0</td>\n",
       "      <td>0.0</td>\n",
       "      <td>0.0</td>\n",
       "      <td>1.0</td>\n",
       "      <td>...</td>\n",
       "      <td>1.0</td>\n",
       "      <td>0.0</td>\n",
       "      <td>3.0</td>\n",
       "      <td>0.0</td>\n",
       "      <td>0.0</td>\n",
       "      <td>0.0</td>\n",
       "      <td>1.0</td>\n",
       "      <td>12.0</td>\n",
       "      <td>6.0</td>\n",
       "      <td>8.0</td>\n",
       "    </tr>\n",
       "    <tr>\n",
       "      <th>2</th>\n",
       "      <td>0.0</td>\n",
       "      <td>0.0</td>\n",
       "      <td>0.0</td>\n",
       "      <td>1.0</td>\n",
       "      <td>26.0</td>\n",
       "      <td>0.0</td>\n",
       "      <td>0.0</td>\n",
       "      <td>0.0</td>\n",
       "      <td>1.0</td>\n",
       "      <td>1.0</td>\n",
       "      <td>...</td>\n",
       "      <td>1.0</td>\n",
       "      <td>0.0</td>\n",
       "      <td>1.0</td>\n",
       "      <td>0.0</td>\n",
       "      <td>10.0</td>\n",
       "      <td>0.0</td>\n",
       "      <td>1.0</td>\n",
       "      <td>13.0</td>\n",
       "      <td>6.0</td>\n",
       "      <td>8.0</td>\n",
       "    </tr>\n",
       "    <tr>\n",
       "      <th>3</th>\n",
       "      <td>0.0</td>\n",
       "      <td>1.0</td>\n",
       "      <td>1.0</td>\n",
       "      <td>1.0</td>\n",
       "      <td>28.0</td>\n",
       "      <td>1.0</td>\n",
       "      <td>0.0</td>\n",
       "      <td>0.0</td>\n",
       "      <td>1.0</td>\n",
       "      <td>1.0</td>\n",
       "      <td>...</td>\n",
       "      <td>1.0</td>\n",
       "      <td>0.0</td>\n",
       "      <td>3.0</td>\n",
       "      <td>0.0</td>\n",
       "      <td>3.0</td>\n",
       "      <td>0.0</td>\n",
       "      <td>1.0</td>\n",
       "      <td>11.0</td>\n",
       "      <td>6.0</td>\n",
       "      <td>8.0</td>\n",
       "    </tr>\n",
       "    <tr>\n",
       "      <th>4</th>\n",
       "      <td>0.0</td>\n",
       "      <td>0.0</td>\n",
       "      <td>0.0</td>\n",
       "      <td>1.0</td>\n",
       "      <td>29.0</td>\n",
       "      <td>1.0</td>\n",
       "      <td>0.0</td>\n",
       "      <td>0.0</td>\n",
       "      <td>1.0</td>\n",
       "      <td>1.0</td>\n",
       "      <td>...</td>\n",
       "      <td>1.0</td>\n",
       "      <td>0.0</td>\n",
       "      <td>2.0</td>\n",
       "      <td>0.0</td>\n",
       "      <td>0.0</td>\n",
       "      <td>0.0</td>\n",
       "      <td>0.0</td>\n",
       "      <td>8.0</td>\n",
       "      <td>5.0</td>\n",
       "      <td>8.0</td>\n",
       "    </tr>\n",
       "  </tbody>\n",
       "</table>\n",
       "<p>5 rows × 22 columns</p>\n",
       "</div>"
      ],
      "text/plain": [
       "   Diabetes_binary  HighBP  HighChol  CholCheck   BMI  Smoker  Stroke  \\\n",
       "0              0.0     1.0       0.0        1.0  26.0     0.0     0.0   \n",
       "1              0.0     1.0       1.0        1.0  26.0     1.0     1.0   \n",
       "2              0.0     0.0       0.0        1.0  26.0     0.0     0.0   \n",
       "3              0.0     1.0       1.0        1.0  28.0     1.0     0.0   \n",
       "4              0.0     0.0       0.0        1.0  29.0     1.0     0.0   \n",
       "\n",
       "   HeartDiseaseorAttack  PhysActivity  Fruits  ...  AnyHealthcare  \\\n",
       "0                   0.0           1.0     0.0  ...            1.0   \n",
       "1                   0.0           0.0     1.0  ...            1.0   \n",
       "2                   0.0           1.0     1.0  ...            1.0   \n",
       "3                   0.0           1.0     1.0  ...            1.0   \n",
       "4                   0.0           1.0     1.0  ...            1.0   \n",
       "\n",
       "   NoDocbcCost  GenHlth  MentHlth  PhysHlth  DiffWalk  Sex   Age  Education  \\\n",
       "0          0.0      3.0       5.0      30.0       0.0  1.0   4.0        6.0   \n",
       "1          0.0      3.0       0.0       0.0       0.0  1.0  12.0        6.0   \n",
       "2          0.0      1.0       0.0      10.0       0.0  1.0  13.0        6.0   \n",
       "3          0.0      3.0       0.0       3.0       0.0  1.0  11.0        6.0   \n",
       "4          0.0      2.0       0.0       0.0       0.0  0.0   8.0        5.0   \n",
       "\n",
       "   Income  \n",
       "0     8.0  \n",
       "1     8.0  \n",
       "2     8.0  \n",
       "3     8.0  \n",
       "4     8.0  \n",
       "\n",
       "[5 rows x 22 columns]"
      ]
     },
     "execution_count": 7,
     "metadata": {},
     "output_type": "execute_result"
    }
   ],
   "source": [
    "styled_df = df.head()\n",
    "styled_df"
   ]
  },
  {
   "cell_type": "code",
   "execution_count": 8,
   "id": "8ef78673-4d4c-4fca-bf72-adaf90795d78",
   "metadata": {},
   "outputs": [
    {
     "name": "stdout",
     "output_type": "stream",
     "text": [
      "Rows : 70692 \n",
      "Columns : 22\n"
     ]
    }
   ],
   "source": [
    "[rows,col] = df.shape\n",
    "print(f\"Rows : {rows} \\nColumns : {col}\")"
   ]
  },
  {
   "cell_type": "code",
   "execution_count": 9,
   "id": "bb31e935-76bd-4093-9a06-4499e5547332",
   "metadata": {},
   "outputs": [
    {
     "data": {
      "text/plain": [
       "Diabetes_binary         0\n",
       "HighBP                  0\n",
       "HighChol                0\n",
       "CholCheck               0\n",
       "BMI                     0\n",
       "Smoker                  0\n",
       "Stroke                  0\n",
       "HeartDiseaseorAttack    0\n",
       "PhysActivity            0\n",
       "Fruits                  0\n",
       "Veggies                 0\n",
       "HvyAlcoholConsump       0\n",
       "AnyHealthcare           0\n",
       "NoDocbcCost             0\n",
       "GenHlth                 0\n",
       "MentHlth                0\n",
       "PhysHlth                0\n",
       "DiffWalk                0\n",
       "Sex                     0\n",
       "Age                     0\n",
       "Education               0\n",
       "Income                  0\n",
       "dtype: int64"
      ]
     },
     "execution_count": 9,
     "metadata": {},
     "output_type": "execute_result"
    }
   ],
   "source": [
    "df.isnull().sum()"
   ]
  },
  {
   "cell_type": "code",
   "execution_count": 10,
   "id": "23d6bf37-f2dc-48f7-a236-99db00b969b2",
   "metadata": {},
   "outputs": [],
   "source": [
    "df = df.astype(int)"
   ]
  },
  {
   "cell_type": "code",
   "execution_count": 11,
   "id": "34ac4cb4-0954-4dea-ad4e-18f8ee2750e0",
   "metadata": {},
   "outputs": [
    {
     "data": {
      "text/plain": [
       "0        False\n",
       "1        False\n",
       "2        False\n",
       "3        False\n",
       "4        False\n",
       "         ...  \n",
       "70687    False\n",
       "70688    False\n",
       "70689    False\n",
       "70690    False\n",
       "70691    False\n",
       "Length: 70692, dtype: bool"
      ]
     },
     "execution_count": 11,
     "metadata": {},
     "output_type": "execute_result"
    }
   ],
   "source": [
    "df.duplicated()"
   ]
  },
  {
   "cell_type": "code",
   "execution_count": 12,
   "id": "5af77363-4151-438e-ab97-68cd247fb76a",
   "metadata": {},
   "outputs": [
    {
     "name": "stdout",
     "output_type": "stream",
     "text": [
      "Variable: Diabetes_binary\n",
      "Unique category levels: [0 1]\n",
      "\n",
      "Variable: HighBP\n",
      "Unique category levels: [1 0]\n",
      "\n",
      "Variable: HighChol\n",
      "Unique category levels: [0 1]\n",
      "\n",
      "Variable: CholCheck\n",
      "Unique category levels: [1 0]\n",
      "\n",
      "Variable: BMI\n",
      "Unique category levels: [26 28 29 18 31 32 27 24 21 58 30 20 22 38 40 25 36 47 19 37 41 23 34 35\n",
      " 42 17 33 44 15 52 69 56 45 39 92 53 98 50 46 79 48 16 63 72 54 49 68 43\n",
      " 84 73 76 55 51 75 57 60 12 77 82 67 71 61 14 81 59 86 13 87 65 95 89 62\n",
      " 64 66 85 70 83 80 78 74]\n",
      "\n",
      "Variable: Smoker\n",
      "Unique category levels: [0 1]\n",
      "\n",
      "Variable: Stroke\n",
      "Unique category levels: [0 1]\n",
      "\n",
      "Variable: HeartDiseaseorAttack\n",
      "Unique category levels: [0 1]\n",
      "\n",
      "Variable: PhysActivity\n",
      "Unique category levels: [1 0]\n",
      "\n",
      "Variable: Fruits\n",
      "Unique category levels: [0 1]\n",
      "\n",
      "Variable: Veggies\n",
      "Unique category levels: [1 0]\n",
      "\n",
      "Variable: HvyAlcoholConsump\n",
      "Unique category levels: [0 1]\n",
      "\n",
      "Variable: AnyHealthcare\n",
      "Unique category levels: [1 0]\n",
      "\n",
      "Variable: NoDocbcCost\n",
      "Unique category levels: [0 1]\n",
      "\n",
      "Variable: GenHlth\n",
      "Unique category levels: [3 1 2 4 5]\n",
      "\n",
      "Variable: MentHlth\n",
      "Unique category levels: [ 5  0  7  3  4  2 30 20  1 15 10 25 14 28  6 29 26 12 16 22 13  8  9 21\n",
      " 18 17 27 24 23 11 19]\n",
      "\n",
      "Variable: PhysHlth\n",
      "Unique category levels: [30  0 10  3  6  4 15  1  2 14  7 25 21 20  5  8 22 23 29 12 18 28 26 24\n",
      " 27 11 13 16 17  9 19]\n",
      "\n",
      "Variable: DiffWalk\n",
      "Unique category levels: [0 1]\n",
      "\n",
      "Variable: Sex\n",
      "Unique category levels: [1 0]\n",
      "\n",
      "Variable: Age\n",
      "Unique category levels: [ 4 12 13 11  8  1  6  3  7 10  9  5  2]\n",
      "\n",
      "Variable: Education\n",
      "Unique category levels: [6 5 4 3 2 1]\n",
      "\n",
      "Variable: Income\n",
      "Unique category levels: [8 7 6 3 4 1 5 2]\n",
      "\n"
     ]
    }
   ],
   "source": [
    "## checking for category levels in each variable\n",
    "# Initialize an empty dictionary to store unique category levels for each variable\n",
    "unique_levels_dict = {}\n",
    "# Iterate through each column in the DataFrame\n",
    "for column in df.columns:\n",
    "# Get unique category levels for the column\n",
    "    unique_levels = df[column].unique()\n",
    "# Store the unique category levels in the dictionary\n",
    "    unique_levels_dict[column] = unique_levels\n",
    "# Print the dictionary containing unique category levels for each variable\n",
    "for variable, levels in unique_levels_dict.items():\n",
    "    print(f\"Variable: {variable}\")\n",
    "    print(\"Unique category levels:\", levels)\n",
    "    print()"
   ]
  },
  {
   "cell_type": "code",
   "execution_count": 13,
   "id": "b41ae7d2-8c42-44b5-a9f7-b2008c70913c",
   "metadata": {},
   "outputs": [],
   "source": [
    "# define a function to simplify the plots in further sections\n",
    "def ida_plot(li_col, row, col=3, figsize=(20, 5)):\n",
    "    \"\"\"\n",
    "    This function return plt subplots by\n",
    "    looping through the df columns\n",
    "    display only the desired columns\n",
    "    \"\"\"\n",
    "    # prepare subplot format\n",
    "    fig, ax = plt.subplots(row, col, figsize=figsize)\n",
    "    axe = ax.ravel()\n",
    "    # use for loop to plot\n",
    "    for i in range(len(li_col)):\n",
    "    # create bar charts for each column\n",
    "        sns.countplot(x=df[li_col[i]], ax=axe[i])\n",
    "    # adjust the spacing of the subplots\n",
    "    plt.subplots_adjust(\n",
    "    wspace=0.5,\n",
    "    hspace=0.5\n",
    ")"
   ]
  },
  {
   "cell_type": "code",
   "execution_count": 14,
   "id": "30b16238-b974-4b6f-9b32-387b7b71d307",
   "metadata": {},
   "outputs": [
    {
     "name": "stdout",
     "output_type": "stream",
     "text": [
      "Age\n",
      "3    36443\n",
      "4    18864\n",
      "2    13010\n",
      "1     2375\n",
      "Name: count, dtype: int64\n"
     ]
    }
   ],
   "source": [
    "## recarogarizing\n",
    "## age variable\n",
    "# Create a mapping dictionary to map original categories to new categories\n",
    "category_mapping = {\n",
    "1: 1,\n",
    "2: 1,\n",
    "3: 2,\n",
    "4: 2,\n",
    "5: 2,\n",
    "6: 2,\n",
    "7: 3,\n",
    "8: 3,\n",
    "9: 3,\n",
    "10: 3,\n",
    "11: 4,\n",
    "12: 4,\n",
    "13: 4\n",
    "}\n",
    "# Use map function to apply the mapping to the age column\n",
    "df['Age'] = df['Age'].map(category_mapping)\n",
    "# Check the result\n",
    "print(df['Age'].value_counts())"
   ]
  },
  {
   "cell_type": "code",
   "execution_count": 15,
   "id": "2620c3b7-8fbf-48f3-8500-6e69783f979d",
   "metadata": {},
   "outputs": [
    {
     "name": "stdout",
     "output_type": "stream",
     "text": [
      "Unique category levels: [2 4 3 1]\n"
     ]
    }
   ],
   "source": [
    "## cheching if recategorization is right\n",
    "unique_levels = df['Age'].unique()\n",
    "# Print the unique category levels\n",
    "print(\"Unique category levels:\", unique_levels)"
   ]
  },
  {
   "cell_type": "code",
   "execution_count": 16,
   "id": "d8bd422f-3567-4218-a881-6df7517fadea",
   "metadata": {},
   "outputs": [
    {
     "name": "stdout",
     "output_type": "stream",
     "text": [
      "Education\n",
      "4    26020\n",
      "2    24567\n",
      "3    20030\n",
      "1       75\n",
      "Name: count, dtype: int64\n"
     ]
    }
   ],
   "source": [
    "## recarogarizing\n",
    "## Education variable\n",
    "# Create a mapping dictionary to map original categories to new categories\n",
    "category_mapping2 = {\n",
    "1: 1,\n",
    "2: 2,\n",
    "3: 2,\n",
    "4: 2,\n",
    "5: 3,\n",
    "6: 4\n",
    "}\n",
    "# Use map function to apply the mapping to the age column\n",
    "df['Education'] = df['Education'].map(category_mapping2)\n",
    "# Check the result\n",
    "print(df['Education'].value_counts())"
   ]
  },
  {
   "cell_type": "code",
   "execution_count": 17,
   "id": "88c69c7a-75f7-488c-bbf4-98e90c386ee8",
   "metadata": {},
   "outputs": [
    {
     "name": "stdout",
     "output_type": "stream",
     "text": [
      "Unique category levels: [4 3 2 1]\n"
     ]
    }
   ],
   "source": [
    "## cheching if recategorization is right\n",
    "unique_levels2 = df['Education'].unique()\n",
    "# Print the unique category levels\n",
    "print(\"Unique category levels:\", unique_levels2)"
   ]
  },
  {
   "cell_type": "code",
   "execution_count": 18,
   "id": "18133bdf-9c25-49dc-9986-b62dff9ac3c3",
   "metadata": {},
   "outputs": [
    {
     "name": "stdout",
     "output_type": "stream",
     "text": [
      "Income\n",
      "4    20646\n",
      "1    20324\n",
      "2    18297\n",
      "3    11425\n",
      "Name: count, dtype: int64\n"
     ]
    }
   ],
   "source": [
    "## recarogarizing\n",
    "## Income variable\n",
    "# Create a mapping dictionary to map original categories to new categories\n",
    "category_mapping3 = {\n",
    "1: 1,\n",
    "2: 1,\n",
    "3: 1,\n",
    "4: 1,\n",
    "5: 2,\n",
    "6: 2,\n",
    "7: 3,\n",
    "8: 4\n",
    "}\n",
    "# Use map function to apply the mapping to the age column\n",
    "df['Income'] = df['Income'].map(category_mapping3)\n",
    "# Check the result\n",
    "print(df['Income'].value_counts())"
   ]
  },
  {
   "cell_type": "code",
   "execution_count": 19,
   "id": "188cbaa5-87b3-47dd-a93a-e3e669d745ad",
   "metadata": {},
   "outputs": [
    {
     "name": "stdout",
     "output_type": "stream",
     "text": [
      "Unique category levels: [4 3 2 1]\n"
     ]
    }
   ],
   "source": [
    "## cheching if recategorization is right\n",
    "unique_levels3 = df['Income'].unique()\n",
    "# Print the unique category levels\n",
    "print(\"Unique category levels:\", unique_levels3)"
   ]
  },
  {
   "cell_type": "code",
   "execution_count": 20,
   "id": "be5a3a40-2fa5-4641-b25a-4be46c26cb79",
   "metadata": {},
   "outputs": [],
   "source": [
    "rs = 73"
   ]
  },
  {
   "cell_type": "code",
   "execution_count": 21,
   "id": "1ecffda0-c355-49da-981c-3cee349c2b41",
   "metadata": {},
   "outputs": [],
   "source": [
    "#[train, test]= train_test_split(df, random_state=rs, train_size = .8)\n",
    "x=df.drop(columns='Diabetes_binary')\n",
    "y=df['Diabetes_binary']\n",
    "Xtrain,Xtest,Ytrain,Ytest=train_test_split(x,y,test_size=0.20,stratify=y,random_state=73)"
   ]
  },
  {
   "cell_type": "code",
   "execution_count": 22,
   "id": "c50a0ec6-9673-4b56-9b09-bff338cadc6d",
   "metadata": {},
   "outputs": [
    {
     "data": {
      "text/html": [
       "<div>\n",
       "<style scoped>\n",
       "    .dataframe tbody tr th:only-of-type {\n",
       "        vertical-align: middle;\n",
       "    }\n",
       "\n",
       "    .dataframe tbody tr th {\n",
       "        vertical-align: top;\n",
       "    }\n",
       "\n",
       "    .dataframe thead th {\n",
       "        text-align: right;\n",
       "    }\n",
       "</style>\n",
       "<table border=\"1\" class=\"dataframe\">\n",
       "  <thead>\n",
       "    <tr style=\"text-align: right;\">\n",
       "      <th></th>\n",
       "      <th>HighBP</th>\n",
       "      <th>HighChol</th>\n",
       "      <th>CholCheck</th>\n",
       "      <th>BMI</th>\n",
       "      <th>Smoker</th>\n",
       "      <th>Stroke</th>\n",
       "      <th>HeartDiseaseorAttack</th>\n",
       "      <th>PhysActivity</th>\n",
       "      <th>Fruits</th>\n",
       "      <th>Veggies</th>\n",
       "      <th>...</th>\n",
       "      <th>NoDocbcCost</th>\n",
       "      <th>GenHlth</th>\n",
       "      <th>MentHlth</th>\n",
       "      <th>PhysHlth</th>\n",
       "      <th>DiffWalk</th>\n",
       "      <th>Sex</th>\n",
       "      <th>Age</th>\n",
       "      <th>Education</th>\n",
       "      <th>Income</th>\n",
       "      <th>Diabetes_binary</th>\n",
       "    </tr>\n",
       "  </thead>\n",
       "  <tbody>\n",
       "    <tr>\n",
       "      <th>54330</th>\n",
       "      <td>1</td>\n",
       "      <td>1</td>\n",
       "      <td>1</td>\n",
       "      <td>34</td>\n",
       "      <td>0</td>\n",
       "      <td>0</td>\n",
       "      <td>0</td>\n",
       "      <td>1</td>\n",
       "      <td>1</td>\n",
       "      <td>1</td>\n",
       "      <td>...</td>\n",
       "      <td>0</td>\n",
       "      <td>3</td>\n",
       "      <td>0</td>\n",
       "      <td>0</td>\n",
       "      <td>0</td>\n",
       "      <td>1</td>\n",
       "      <td>3</td>\n",
       "      <td>3</td>\n",
       "      <td>1</td>\n",
       "      <td>1</td>\n",
       "    </tr>\n",
       "    <tr>\n",
       "      <th>61696</th>\n",
       "      <td>1</td>\n",
       "      <td>0</td>\n",
       "      <td>1</td>\n",
       "      <td>43</td>\n",
       "      <td>1</td>\n",
       "      <td>0</td>\n",
       "      <td>1</td>\n",
       "      <td>1</td>\n",
       "      <td>1</td>\n",
       "      <td>1</td>\n",
       "      <td>...</td>\n",
       "      <td>0</td>\n",
       "      <td>5</td>\n",
       "      <td>30</td>\n",
       "      <td>30</td>\n",
       "      <td>0</td>\n",
       "      <td>0</td>\n",
       "      <td>2</td>\n",
       "      <td>2</td>\n",
       "      <td>3</td>\n",
       "      <td>1</td>\n",
       "    </tr>\n",
       "    <tr>\n",
       "      <th>53756</th>\n",
       "      <td>1</td>\n",
       "      <td>1</td>\n",
       "      <td>1</td>\n",
       "      <td>38</td>\n",
       "      <td>1</td>\n",
       "      <td>0</td>\n",
       "      <td>1</td>\n",
       "      <td>0</td>\n",
       "      <td>0</td>\n",
       "      <td>1</td>\n",
       "      <td>...</td>\n",
       "      <td>0</td>\n",
       "      <td>4</td>\n",
       "      <td>15</td>\n",
       "      <td>30</td>\n",
       "      <td>1</td>\n",
       "      <td>1</td>\n",
       "      <td>3</td>\n",
       "      <td>2</td>\n",
       "      <td>2</td>\n",
       "      <td>1</td>\n",
       "    </tr>\n",
       "    <tr>\n",
       "      <th>31981</th>\n",
       "      <td>0</td>\n",
       "      <td>1</td>\n",
       "      <td>1</td>\n",
       "      <td>21</td>\n",
       "      <td>0</td>\n",
       "      <td>0</td>\n",
       "      <td>0</td>\n",
       "      <td>0</td>\n",
       "      <td>1</td>\n",
       "      <td>1</td>\n",
       "      <td>...</td>\n",
       "      <td>0</td>\n",
       "      <td>2</td>\n",
       "      <td>0</td>\n",
       "      <td>0</td>\n",
       "      <td>0</td>\n",
       "      <td>0</td>\n",
       "      <td>3</td>\n",
       "      <td>4</td>\n",
       "      <td>2</td>\n",
       "      <td>0</td>\n",
       "    </tr>\n",
       "    <tr>\n",
       "      <th>34456</th>\n",
       "      <td>0</td>\n",
       "      <td>1</td>\n",
       "      <td>1</td>\n",
       "      <td>30</td>\n",
       "      <td>0</td>\n",
       "      <td>0</td>\n",
       "      <td>0</td>\n",
       "      <td>0</td>\n",
       "      <td>0</td>\n",
       "      <td>0</td>\n",
       "      <td>...</td>\n",
       "      <td>0</td>\n",
       "      <td>3</td>\n",
       "      <td>0</td>\n",
       "      <td>5</td>\n",
       "      <td>0</td>\n",
       "      <td>0</td>\n",
       "      <td>3</td>\n",
       "      <td>3</td>\n",
       "      <td>2</td>\n",
       "      <td>0</td>\n",
       "    </tr>\n",
       "  </tbody>\n",
       "</table>\n",
       "<p>5 rows × 22 columns</p>\n",
       "</div>"
      ],
      "text/plain": [
       "       HighBP  HighChol  CholCheck  BMI  Smoker  Stroke  HeartDiseaseorAttack  \\\n",
       "54330       1         1          1   34       0       0                     0   \n",
       "61696       1         0          1   43       1       0                     1   \n",
       "53756       1         1          1   38       1       0                     1   \n",
       "31981       0         1          1   21       0       0                     0   \n",
       "34456       0         1          1   30       0       0                     0   \n",
       "\n",
       "       PhysActivity  Fruits  Veggies  ...  NoDocbcCost  GenHlth  MentHlth  \\\n",
       "54330             1       1        1  ...            0        3         0   \n",
       "61696             1       1        1  ...            0        5        30   \n",
       "53756             0       0        1  ...            0        4        15   \n",
       "31981             0       1        1  ...            0        2         0   \n",
       "34456             0       0        0  ...            0        3         0   \n",
       "\n",
       "       PhysHlth  DiffWalk  Sex  Age  Education  Income  Diabetes_binary  \n",
       "54330         0         0    1    3          3       1                1  \n",
       "61696        30         0    0    2          2       3                1  \n",
       "53756        30         1    1    3          2       2                1  \n",
       "31981         0         0    0    3          4       2                0  \n",
       "34456         5         0    0    3          3       2                0  \n",
       "\n",
       "[5 rows x 22 columns]"
      ]
     },
     "execution_count": 22,
     "metadata": {},
     "output_type": "execute_result"
    }
   ],
   "source": [
    "# Assuming df1 is your DataFrame and col_series is your Series (single column)\n",
    "\n",
    "combined_df = Xtrain.join(Ytrain)\n",
    "combined_df.head()"
   ]
  },
  {
   "cell_type": "code",
   "execution_count": 23,
   "id": "9b96a02d-96ad-4b3c-be99-6a80c8147f75",
   "metadata": {},
   "outputs": [
    {
     "data": {
      "text/html": [
       "<div>\n",
       "<style scoped>\n",
       "    .dataframe tbody tr th:only-of-type {\n",
       "        vertical-align: middle;\n",
       "    }\n",
       "\n",
       "    .dataframe tbody tr th {\n",
       "        vertical-align: top;\n",
       "    }\n",
       "\n",
       "    .dataframe thead th {\n",
       "        text-align: right;\n",
       "    }\n",
       "</style>\n",
       "<table border=\"1\" class=\"dataframe\">\n",
       "  <thead>\n",
       "    <tr style=\"text-align: right;\">\n",
       "      <th></th>\n",
       "      <th>HighBP</th>\n",
       "      <th>HighChol</th>\n",
       "      <th>CholCheck</th>\n",
       "      <th>BMI</th>\n",
       "      <th>Smoker</th>\n",
       "      <th>Stroke</th>\n",
       "      <th>HeartDiseaseorAttack</th>\n",
       "      <th>PhysActivity</th>\n",
       "      <th>Fruits</th>\n",
       "      <th>Veggies</th>\n",
       "      <th>...</th>\n",
       "      <th>AnyHealthcare</th>\n",
       "      <th>NoDocbcCost</th>\n",
       "      <th>GenHlth</th>\n",
       "      <th>MentHlth</th>\n",
       "      <th>PhysHlth</th>\n",
       "      <th>DiffWalk</th>\n",
       "      <th>Sex</th>\n",
       "      <th>Age</th>\n",
       "      <th>Education</th>\n",
       "      <th>Income</th>\n",
       "    </tr>\n",
       "  </thead>\n",
       "  <tbody>\n",
       "    <tr>\n",
       "      <th>54330</th>\n",
       "      <td>1</td>\n",
       "      <td>1</td>\n",
       "      <td>1</td>\n",
       "      <td>34</td>\n",
       "      <td>0</td>\n",
       "      <td>0</td>\n",
       "      <td>0</td>\n",
       "      <td>1</td>\n",
       "      <td>1</td>\n",
       "      <td>1</td>\n",
       "      <td>...</td>\n",
       "      <td>1</td>\n",
       "      <td>0</td>\n",
       "      <td>3</td>\n",
       "      <td>0</td>\n",
       "      <td>0</td>\n",
       "      <td>0</td>\n",
       "      <td>1</td>\n",
       "      <td>3</td>\n",
       "      <td>3</td>\n",
       "      <td>1</td>\n",
       "    </tr>\n",
       "    <tr>\n",
       "      <th>61696</th>\n",
       "      <td>1</td>\n",
       "      <td>0</td>\n",
       "      <td>1</td>\n",
       "      <td>43</td>\n",
       "      <td>1</td>\n",
       "      <td>0</td>\n",
       "      <td>1</td>\n",
       "      <td>1</td>\n",
       "      <td>1</td>\n",
       "      <td>1</td>\n",
       "      <td>...</td>\n",
       "      <td>1</td>\n",
       "      <td>0</td>\n",
       "      <td>5</td>\n",
       "      <td>30</td>\n",
       "      <td>30</td>\n",
       "      <td>0</td>\n",
       "      <td>0</td>\n",
       "      <td>2</td>\n",
       "      <td>2</td>\n",
       "      <td>3</td>\n",
       "    </tr>\n",
       "    <tr>\n",
       "      <th>53756</th>\n",
       "      <td>1</td>\n",
       "      <td>1</td>\n",
       "      <td>1</td>\n",
       "      <td>38</td>\n",
       "      <td>1</td>\n",
       "      <td>0</td>\n",
       "      <td>1</td>\n",
       "      <td>0</td>\n",
       "      <td>0</td>\n",
       "      <td>1</td>\n",
       "      <td>...</td>\n",
       "      <td>1</td>\n",
       "      <td>0</td>\n",
       "      <td>4</td>\n",
       "      <td>15</td>\n",
       "      <td>30</td>\n",
       "      <td>1</td>\n",
       "      <td>1</td>\n",
       "      <td>3</td>\n",
       "      <td>2</td>\n",
       "      <td>2</td>\n",
       "    </tr>\n",
       "    <tr>\n",
       "      <th>31981</th>\n",
       "      <td>0</td>\n",
       "      <td>1</td>\n",
       "      <td>1</td>\n",
       "      <td>21</td>\n",
       "      <td>0</td>\n",
       "      <td>0</td>\n",
       "      <td>0</td>\n",
       "      <td>0</td>\n",
       "      <td>1</td>\n",
       "      <td>1</td>\n",
       "      <td>...</td>\n",
       "      <td>1</td>\n",
       "      <td>0</td>\n",
       "      <td>2</td>\n",
       "      <td>0</td>\n",
       "      <td>0</td>\n",
       "      <td>0</td>\n",
       "      <td>0</td>\n",
       "      <td>3</td>\n",
       "      <td>4</td>\n",
       "      <td>2</td>\n",
       "    </tr>\n",
       "    <tr>\n",
       "      <th>34456</th>\n",
       "      <td>0</td>\n",
       "      <td>1</td>\n",
       "      <td>1</td>\n",
       "      <td>30</td>\n",
       "      <td>0</td>\n",
       "      <td>0</td>\n",
       "      <td>0</td>\n",
       "      <td>0</td>\n",
       "      <td>0</td>\n",
       "      <td>0</td>\n",
       "      <td>...</td>\n",
       "      <td>1</td>\n",
       "      <td>0</td>\n",
       "      <td>3</td>\n",
       "      <td>0</td>\n",
       "      <td>5</td>\n",
       "      <td>0</td>\n",
       "      <td>0</td>\n",
       "      <td>3</td>\n",
       "      <td>3</td>\n",
       "      <td>2</td>\n",
       "    </tr>\n",
       "  </tbody>\n",
       "</table>\n",
       "<p>5 rows × 21 columns</p>\n",
       "</div>"
      ],
      "text/plain": [
       "       HighBP  HighChol  CholCheck  BMI  Smoker  Stroke  HeartDiseaseorAttack  \\\n",
       "54330       1         1          1   34       0       0                     0   \n",
       "61696       1         0          1   43       1       0                     1   \n",
       "53756       1         1          1   38       1       0                     1   \n",
       "31981       0         1          1   21       0       0                     0   \n",
       "34456       0         1          1   30       0       0                     0   \n",
       "\n",
       "       PhysActivity  Fruits  Veggies  ...  AnyHealthcare  NoDocbcCost  \\\n",
       "54330             1       1        1  ...              1            0   \n",
       "61696             1       1        1  ...              1            0   \n",
       "53756             0       0        1  ...              1            0   \n",
       "31981             0       1        1  ...              1            0   \n",
       "34456             0       0        0  ...              1            0   \n",
       "\n",
       "       GenHlth  MentHlth  PhysHlth  DiffWalk  Sex  Age  Education  Income  \n",
       "54330        3         0         0         0    1    3          3       1  \n",
       "61696        5        30        30         0    0    2          2       3  \n",
       "53756        4        15        30         1    1    3          2       2  \n",
       "31981        2         0         0         0    0    3          4       2  \n",
       "34456        3         0         5         0    0    3          3       2  \n",
       "\n",
       "[5 rows x 21 columns]"
      ]
     },
     "execution_count": 23,
     "metadata": {},
     "output_type": "execute_result"
    }
   ],
   "source": [
    "Xtrain.head()"
   ]
  },
  {
   "cell_type": "code",
   "execution_count": 24,
   "id": "b28748ab-4f3e-4a7d-824f-4cfee52cd90d",
   "metadata": {},
   "outputs": [
    {
     "data": {
      "text/plain": [
       "Index(['HighBP', 'HighChol', 'CholCheck', 'BMI', 'Smoker', 'Stroke',\n",
       "       'HeartDiseaseorAttack', 'PhysActivity', 'Fruits', 'Veggies',\n",
       "       'HvyAlcoholConsump', 'AnyHealthcare', 'NoDocbcCost', 'GenHlth',\n",
       "       'MentHlth', 'PhysHlth', 'DiffWalk', 'Sex', 'Age', 'Education',\n",
       "       'Income'],\n",
       "      dtype='object')"
      ]
     },
     "execution_count": 24,
     "metadata": {},
     "output_type": "execute_result"
    }
   ],
   "source": [
    "Xtrain.columns"
   ]
  },
  {
   "cell_type": "code",
   "execution_count": 25,
   "id": "51aae4a7-4520-4b2a-baf9-05d485ec369c",
   "metadata": {},
   "outputs": [
    {
     "data": {
      "text/plain": [
       "Diabetes_binary\n",
       "1    50.000884\n",
       "0    49.999116\n",
       "Name: proportion, dtype: float64"
      ]
     },
     "execution_count": 25,
     "metadata": {},
     "output_type": "execute_result"
    }
   ],
   "source": [
    "# To check the structure of the training and testing data is same or not\n",
    "Ytrain.value_counts(normalize=True) * 100"
   ]
  },
  {
   "cell_type": "code",
   "execution_count": 26,
   "id": "71981818-cb89-4294-a48a-e915d86f7889",
   "metadata": {},
   "outputs": [
    {
     "data": {
      "text/plain": [
       "Diabetes_binary\n",
       "0    50.003536\n",
       "1    49.996464\n",
       "Name: proportion, dtype: float64"
      ]
     },
     "execution_count": 26,
     "metadata": {},
     "output_type": "execute_result"
    }
   ],
   "source": [
    "# To check the structure of the training and testing data is same or not\n",
    "Ytest.value_counts(normalize=True) * 100"
   ]
  },
  {
   "cell_type": "code",
   "execution_count": 27,
   "id": "c7b84e3d-4313-4c6a-96cb-d7d37f2e01df",
   "metadata": {},
   "outputs": [
    {
     "data": {
      "image/png": "[encoded data removed]",
      "text/plain": [
       "<Figure size 800x600 with 1 Axes>"
      ]
     },
     "metadata": {},
     "output_type": "display_data"
    }
   ],
   "source": [
    "## Descriptive Analysis\n",
    "\n",
    "# Diabetes Variable\n",
    "category_counts1 = Ytrain.value_counts()\n",
    "category_counts1.index = ['No', 'Yes']\n",
    "# Plot a pie chart\n",
    "plt.figure(figsize=(8, 6))\n",
    "plt.pie(category_counts1, labels=category_counts1.index, autopct='%1.1f%%', startangle=140)\n",
    "plt.legend([\"No\",\"Yes\"])\n",
    "plt.title('Pie Chart of Diabetes Status')\n",
    "plt.axis('equal')  # Equal aspect ratio ensures that pie is drawn as a circle\n",
    "plt.savefig('pie_chart_Diabetes.png')\n",
    "plt.show()"
   ]
  },
  {
   "cell_type": "code",
   "execution_count": 29,
   "id": "033d4e6f-af40-4226-8c49-3a61d0f8065b",
   "metadata": {},
   "outputs": [
    {
     "data": {
      "image/png": "[encoded data removed]",
      "text/plain": [
       "<Figure size 640x480 with 1 Axes>"
      ]
     },
     "metadata": {},
     "output_type": "display_data"
    }
   ],
   "source": [
    "## stacked bar chart\n",
    "# Group by the two categorical variables and count occurrences\n",
    "#grouped_df = df1.groupby([X_train['HighBP'],y_train]).size().unstack(fill_value=0)\n",
    "grouped_df = combined_df.groupby(['Age','Diabetes_binary']).size().unstack(fill_value=0)\n",
    "# Normalize the data to get percentages\n",
    "grouped_df_percent = grouped_df.div(grouped_df.sum(axis=1), axis=0) * 100\n",
    "\n",
    "# Plot\n",
    "ax = grouped_df_percent.plot(kind='bar', stacked=True,color=['blue', 'green'])\n",
    "\n",
    "# Add labels and title\n",
    "plt.xlabel('Age categories')\n",
    "plt.ylabel('Percentage')\n",
    "plt.title('Stacked Bar Chart of Diabetes Status Vs Age')\n",
    "\n",
    "# Set the tick labels for both x-axis and legend\n",
    "ax.set_xticklabels(['18-29', '30-49','50-69','70 or older'])\n",
    "handles, labels = ax.get_legend_handles_labels()\n",
    "ax.legend(handles, ['No', 'Yes'],title='Diabetes Status')\n",
    "\n",
    "# Add percentages as labels on the bars\n",
    "for container in ax.containers:\n",
    "    ax.bar_label(container, labels=[f'{int(val)}%' for val in container.datavalues])\n",
    "\n",
    "# Show plot\n",
    "plt.show()"
   ]
  },
  {
   "cell_type": "code",
   "execution_count": 31,
   "id": "dbdd4038-f69a-4920-bd56-9d77d2bf0b0e",
   "metadata": {},
   "outputs": [
    {
     "data": {
      "image/png": "[encoded data removed]",
      "text/plain": [
       "<Figure size 640x480 with 1 Axes>"
      ]
     },
     "metadata": {},
     "output_type": "display_data"
    }
   ],
   "source": [
    "## stacked bar chart\n",
    "# Group by the two categorical variables and count occurrences\n",
    "#grouped_df = df1.groupby([X_train['HighBP'],y_train]).size().unstack(fill_value=0)\n",
    "grouped_df = combined_df.groupby(['Sex','Diabetes_binary']).size().unstack(fill_value=0)\n",
    "# Normalize the data to get percentages\n",
    "grouped_df_percent = grouped_df.div(grouped_df.sum(axis=1), axis=0) * 100\n",
    "\n",
    "# Plot\n",
    "ax = grouped_df_percent.plot(kind='bar', stacked=True,color=['blue', 'red'])\n",
    "\n",
    "# Add labels and title\n",
    "plt.xlabel('Gender')\n",
    "plt.ylabel('Percentage')\n",
    "plt.title('Stacked Bar Chart of Diabetes Status Vs Gender')\n",
    "\n",
    "# Set the tick labels for both x-axis and legend\n",
    "ax.set_xticklabels(['Female', 'Male'])\n",
    "handles, labels = ax.get_legend_handles_labels()\n",
    "ax.legend(handles, ['No', 'Yes'],title='Diabetes Status')\n",
    "\n",
    "# Add percentages as labels on the bars\n",
    "for container in ax.containers:\n",
    "    ax.bar_label(container, labels=[f'{int(val)}%' for val in container.datavalues])\n",
    "\n",
    "# Show plot\n",
    "plt.show()"
   ]
  },
  {
   "cell_type": "code",
   "execution_count": 33,
   "id": "133f360b-e1b5-4246-9c7e-62e1c50abe7c",
   "metadata": {},
   "outputs": [
    {
     "data": {
      "image/png": "[encoded data removed]",
      "text/plain": [
       "<Figure size 640x480 with 1 Axes>"
      ]
     },
     "metadata": {},
     "output_type": "display_data"
    }
   ],
   "source": [
    "## stacked bar chart\n",
    "# Group by the two categorical variables and count occurrences\n",
    "#grouped_df = df1.groupby([X_train['HighBP'],y_train]).size().unstack(fill_value=0)\n",
    "grouped_df = combined_df.groupby(['Income','Diabetes_binary']).size().unstack(fill_value=0)\n",
    "# Normalize the data to get percentages\n",
    "grouped_df_percent = grouped_df.div(grouped_df.sum(axis=1), axis=0) * 100\n",
    "\n",
    "# Plot\n",
    "ax = grouped_df_percent.plot(kind='bar', stacked=True,color=['green', 'red'])\n",
    "\n",
    "# Add labels and title\n",
    "plt.xlabel('Income')\n",
    "plt.ylabel('Percentage')\n",
    "plt.title('Stacked Bar Chart of Diabetes Status Vs Income')\n",
    "\n",
    "# Set the tick labels for both x-axis and legend\n",
    "ax.set_xticklabels(['$24999 or less', '$25000-$34999','$35000-$74999','$75000 or more'])\n",
    "handles, labels = ax.get_legend_handles_labels()\n",
    "ax.legend(handles, ['No', 'Yes'],title='Diabetes Status',loc = \"lower right\")\n",
    "\n",
    "# Add percentages as labels on the bars\n",
    "for container in ax.containers:\n",
    "    ax.bar_label(container, labels=[f'{int(val)}%' for val in container.datavalues])\n",
    "\n",
    "# Show plot\n",
    "plt.show()"
   ]
  },
  {
   "cell_type": "code",
   "execution_count": 34,
   "id": "edc8b003-d8ec-4792-b275-e109b75a4c84",
   "metadata": {},
   "outputs": [
    {
     "data": {
      "image/png": "[encoded data removed]",
      "text/plain": [
       "<Figure size 800x600 with 1 Axes>"
      ]
     },
     "metadata": {},
     "output_type": "display_data"
    }
   ],
   "source": [
    "# Smoker \n",
    "category_counts5 = Xtrain['Smoker'].value_counts()\n",
    "category_counts5.index = ['No', 'Yes']\n",
    "# Plot a pie chart\n",
    "plt.figure(figsize=(8, 6))\n",
    "plt.pie(category_counts5, labels=category_counts5.index, autopct='%1.1f%%', startangle=140)\n",
    "plt.title('Pie Chart of Smoking Status')\n",
    "plt.legend(['No', 'Yes'])\n",
    "plt.axis('equal')  # Equal aspect ratio ensures that pie is drawn as a circle\n",
    "plt.savefig('pie_chart_Smoke.png')\n",
    "plt.show()"
   ]
  },
  {
   "cell_type": "code",
   "execution_count": 35,
   "id": "848d3ee0-b091-4ccd-bd6c-e65e2446b2bc",
   "metadata": {},
   "outputs": [
    {
     "data": {
      "image/png": "[encoded data removed]",
      "text/plain": [
       "<Figure size 800x600 with 1 Axes>"
      ]
     },
     "metadata": {},
     "output_type": "display_data"
    }
   ],
   "source": [
    "# General health\n",
    "category_counts6 = Xtrain['GenHlth'].value_counts()\n",
    "category_counts6.index = ['Excellent', 'Very good','Good','Fair','Poor']\n",
    "# Plot a pie chart\n",
    "plt.figure(figsize=(8, 6))\n",
    "plt.pie(category_counts6, labels=category_counts6.index, autopct='%1.1f%%', startangle=140)\n",
    "#plt.title('Pie Chart of General health Status')\n",
    "plt.legend(['Excellent', 'Very good','Good','Fair','Poor'],loc='lower left')\n",
    "plt.axis('equal')  # Equal aspect ratio ensures that pie is drawn as a circle\n",
    "plt.savefig('pie_chart_Stroke.png')\n",
    "plt.show()"
   ]
  },
  {
   "cell_type": "code",
   "execution_count": 36,
   "id": "27dd4b2d-1436-4009-aa70-7a22cd365bed",
   "metadata": {},
   "outputs": [
    {
     "data": {
      "image/png": "[encoded data removed]",
      "text/plain": [
       "<Figure size 640x480 with 1 Axes>"
      ]
     },
     "metadata": {},
     "output_type": "display_data"
    }
   ],
   "source": [
    "## stacked bar chart\n",
    "# Group by the two categorical variables and count occurrences\n",
    "#grouped_df = df1.groupby([X_train['HighBP'],y_train]).size().unstack(fill_value=0)\n",
    "grouped_df = combined_df.groupby(['GenHlth','Diabetes_binary']).size().unstack(fill_value=0)\n",
    "# Normalize the data to get percentages\n",
    "grouped_df_percent = grouped_df.div(grouped_df.sum(axis=1), axis=0) * 100\n",
    "\n",
    "# Plot\n",
    "ax = grouped_df_percent.plot(kind='bar', stacked=True,color=['purple', 'orange'])\n",
    "\n",
    "# Add labels and title\n",
    "plt.xlabel('General Health')\n",
    "plt.ylabel('Percentage')\n",
    "plt.title('Stacked Bar Chart of Diabetes Status Vs General health')\n",
    "\n",
    "# Set the tick labels for both x-axis and legend\n",
    "ax.set_xticklabels(['Excellent', 'Very good','Good','Fair','Poor'])\n",
    "handles, labels = ax.get_legend_handles_labels()\n",
    "ax.legend(handles, ['No', 'Yes'],title='Diabetes Status',loc = \"lower left\")\n",
    "\n",
    "# Add percentages as labels on the bars\n",
    "for container in ax.containers:\n",
    "    ax.bar_label(container, labels=[f'{int(val)}%' for val in container.datavalues])\n",
    "\n",
    "# Show plot\n",
    "plt.show()"
   ]
  },
  {
   "cell_type": "code",
   "execution_count": 37,
   "id": "ae4cb449-2d30-4111-887d-7e55df9fac25",
   "metadata": {},
   "outputs": [
    {
     "data": {
      "image/png": "[encoded data removed]",
      "text/plain": [
       "<Figure size 800x600 with 1 Axes>"
      ]
     },
     "metadata": {},
     "output_type": "display_data"
    }
   ],
   "source": [
    "# General health\n",
    "category_counts6 = Xtrain['HvyAlcoholConsump'].value_counts()\n",
    "category_counts6.index = ['No', 'Yes']\n",
    "# Plot a pie chart\n",
    "plt.figure(figsize=(8, 6))\n",
    "plt.pie(category_counts6, labels=category_counts6.index, autopct='%1.1f%%', startangle=140, colors= ['blue','red'])\n",
    "#plt.title('Pie Chart of General health Status')\n",
    "plt.legend(['No', 'Yes'],loc='lower left')\n",
    "plt.axis('equal')  # Equal aspect ratio ensures that pie is drawn as a circle\n",
    "plt.savefig('pie_chart_Stroke.png')\n",
    "plt.show()"
   ]
  },
  {
   "cell_type": "code",
   "execution_count": 38,
   "id": "5fee54ee-93b5-46f4-96c3-66f2961234e3",
   "metadata": {},
   "outputs": [
    {
     "data": {
      "image/png": "[encoded data removed]",
      "text/plain": [
       "<Figure size 640x480 with 1 Axes>"
      ]
     },
     "metadata": {},
     "output_type": "display_data"
    }
   ],
   "source": [
    "## stacked bar chart\n",
    "# Group by the two categorical variables and count occurrences\n",
    "#grouped_df = df1.groupby([X_train['HighBP'],y_train]).size().unstack(fill_value=0)\n",
    "grouped_df = combined_df.groupby(['HvyAlcoholConsump','Diabetes_binary']).size().unstack(fill_value=0)\n",
    "# Normalize the data to get percentages\n",
    "grouped_df_percent = grouped_df.div(grouped_df.sum(axis=1), axis=0) * 100\n",
    "\n",
    "# Plot\n",
    "ax = grouped_df_percent.plot(kind='bar', stacked=True,color=['blue', 'orange'])\n",
    "\n",
    "# Add labels and title\n",
    "plt.xlabel('HvyAlcoholConsump')\n",
    "plt.ylabel('Percentage')\n",
    "plt.title('Stacked Bar Chart of Diabetes Status Vs Heavy alcohol consumption')\n",
    "\n",
    "# Set the tick labels for both x-axis and legend\n",
    "ax.set_xticklabels(['No', 'Yes'])\n",
    "handles, labels = ax.get_legend_handles_labels()\n",
    "ax.legend(handles, ['No', 'Yes'],title='Diabetes Status',loc = \"lower left\")\n",
    "\n",
    "# Add percentages as labels on the bars\n",
    "for container in ax.containers:\n",
    "    ax.bar_label(container, labels=[f'{int(val)}%' for val in container.datavalues])\n",
    "\n",
    "# Show plot\n",
    "plt.show()"
   ]
  },
  {
   "cell_type": "code",
   "execution_count": 39,
   "id": "51d706a2-3981-4c03-98de-7f711665248c",
   "metadata": {},
   "outputs": [
    {
     "name": "stderr",
     "output_type": "stream",
     "text": [
      "C:\\Users\\user\\anaconda3\\Lib\\site-packages\\seaborn\\_oldcore.py:1119: FutureWarning: use_inf_as_na option is deprecated and will be removed in a future version. Convert inf values to NaN before operating instead.\n",
      "  with pd.option_context('mode.use_inf_as_na', True):\n"
     ]
    },
    {
     "data": {
      "text/plain": [
       "<Axes: xlabel='MentHlth', ylabel='Count'>"
      ]
     },
     "execution_count": 39,
     "metadata": {},
     "output_type": "execute_result"
    },
    {
     "data": {
      "image/png": "[encoded data removed]",
      "text/plain": [
       "<Figure size 640x480 with 1 Axes>"
      ]
     },
     "metadata": {},
     "output_type": "display_data"
    }
   ],
   "source": [
    "# Histogram for the Mental health issues occurances\n",
    "sns.histplot(x=Xtrain[\"MentHlth\"], bins=10, kde=True, color='blue', edgecolor='black')"
   ]
  },
  {
   "cell_type": "code",
   "execution_count": 40,
   "id": "1478ec27-8a19-47ba-bc9d-9b43df6a074c",
   "metadata": {},
   "outputs": [
    {
     "data": {
      "text/plain": [
       "Index(['HighBP', 'HighChol', 'CholCheck', 'BMI', 'Smoker', 'Stroke',\n",
       "       'HeartDiseaseorAttack', 'PhysActivity', 'Fruits', 'Veggies',\n",
       "       'HvyAlcoholConsump', 'AnyHealthcare', 'NoDocbcCost', 'GenHlth',\n",
       "       'MentHlth', 'PhysHlth', 'DiffWalk', 'Sex', 'Age', 'Education',\n",
       "       'Income'],\n",
       "      dtype='object')"
      ]
     },
     "execution_count": 40,
     "metadata": {},
     "output_type": "execute_result"
    }
   ],
   "source": [
    "Xtrain.columns\n"
   ]
  },
  {
   "cell_type": "code",
   "execution_count": 41,
   "id": "114a8604-1b83-483e-ac42-5dc565467d9a",
   "metadata": {},
   "outputs": [
    {
     "name": "stderr",
     "output_type": "stream",
     "text": [
      "C:\\Users\\user\\anaconda3\\Lib\\site-packages\\seaborn\\_oldcore.py:1119: FutureWarning: use_inf_as_na option is deprecated and will be removed in a future version. Convert inf values to NaN before operating instead.\n",
      "  with pd.option_context('mode.use_inf_as_na', True):\n"
     ]
    },
    {
     "data": {
      "text/plain": [
       "<Axes: xlabel='PhysHlth', ylabel='Count'>"
      ]
     },
     "execution_count": 41,
     "metadata": {},
     "output_type": "execute_result"
    },
    {
     "data": {
      "image/png": "[encoded data removed]",
      "text/plain": [
       "<Figure size 640x480 with 1 Axes>"
      ]
     },
     "metadata": {},
     "output_type": "display_data"
    }
   ],
   "source": [
    "# Histogram for the physical health issues occurances\n",
    "sns.histplot(x=Xtrain[\"PhysHlth\"], bins=4, kde=True, color='green', edgecolor='black')\n"
   ]
  },
  {
   "cell_type": "code",
   "execution_count": 42,
   "id": "6d1a2a4d-869f-401a-b274-f47764b94c3a",
   "metadata": {},
   "outputs": [
    {
     "data": {
      "image/png": "[encoded data removed]",
      "text/plain": [
       "<Figure size 800x600 with 1 Axes>"
      ]
     },
     "metadata": {},
     "output_type": "display_data"
    }
   ],
   "source": [
    "## boxplots of PhysHlth and Diabetes Levels\n",
    "# Plot boxplot\n",
    "plt.figure(figsize=(8, 6))\n",
    "sns.boxplot(x='Diabetes_binary', y='PhysHlth', data=combined_df, color = 'green')\n",
    "\n",
    "# Set the tick labels for the x-axis\n",
    "plt.gca().set_xticklabels(['No', 'Yes'])\n",
    "plt.xlabel('Diabetes Level')\n",
    "plt.ylabel('Physical health')\n",
    "plt.title('Boxplot of physical health by Diabetes Level')\n",
    "plt.show()"
   ]
  },
  {
   "cell_type": "code",
   "execution_count": 43,
   "id": "8b37a6c8-8601-4cdd-8227-652e139b2e55",
   "metadata": {},
   "outputs": [
    {
     "data": {
      "text/plain": [
       "<Axes: xlabel='PhysHlth'>"
      ]
     },
     "execution_count": 43,
     "metadata": {},
     "output_type": "execute_result"
    },
    {
     "data": {
      "image/png": "[encoded data removed]",
      "text/plain": [
       "<Figure size 640x480 with 1 Axes>"
      ]
     },
     "metadata": {},
     "output_type": "display_data"
    }
   ],
   "source": [
    "# Boxplot for number of physical issues occurances\n",
    "sns.set_style(\"whitegrid\") \n",
    "sns.boxplot(x=Xtrain[\"PhysHlth\"])"
   ]
  },
  {
   "cell_type": "code",
   "execution_count": 44,
   "id": "dadd305b-491d-430d-a5be-25044b5f12c0",
   "metadata": {},
   "outputs": [
    {
     "data": {
      "text/plain": [
       "<Axes: xlabel='MentHlth'>"
      ]
     },
     "execution_count": 44,
     "metadata": {},
     "output_type": "execute_result"
    },
    {
     "data": {
      "image/png": "[encoded data removed]",
      "text/plain": [
       "<Figure size 640x480 with 1 Axes>"
      ]
     },
     "metadata": {},
     "output_type": "display_data"
    }
   ],
   "source": [
    "# Boxplot for number of physical issues occurances\n",
    "sns.set_style(\"whitegrid\") \n",
    "sns.boxplot(x=Xtrain[\"MentHlth\"])"
   ]
  },
  {
   "cell_type": "code",
   "execution_count": 45,
   "id": "87133855-2ff2-45fa-834f-d4ca678f2658",
   "metadata": {},
   "outputs": [
    {
     "data": {
      "text/html": [
       "<div>\n",
       "<style scoped>\n",
       "    .dataframe tbody tr th:only-of-type {\n",
       "        vertical-align: middle;\n",
       "    }\n",
       "\n",
       "    .dataframe tbody tr th {\n",
       "        vertical-align: top;\n",
       "    }\n",
       "\n",
       "    .dataframe thead th {\n",
       "        text-align: right;\n",
       "    }\n",
       "</style>\n",
       "<table border=\"1\" class=\"dataframe\">\n",
       "  <thead>\n",
       "    <tr style=\"text-align: right;\">\n",
       "      <th></th>\n",
       "      <th>HighBP</th>\n",
       "      <th>HighChol</th>\n",
       "      <th>CholCheck</th>\n",
       "      <th>BMI</th>\n",
       "      <th>Smoker</th>\n",
       "      <th>Stroke</th>\n",
       "      <th>HeartDiseaseorAttack</th>\n",
       "      <th>PhysActivity</th>\n",
       "      <th>Fruits</th>\n",
       "      <th>Veggies</th>\n",
       "      <th>...</th>\n",
       "      <th>AnyHealthcare</th>\n",
       "      <th>NoDocbcCost</th>\n",
       "      <th>GenHlth</th>\n",
       "      <th>MentHlth</th>\n",
       "      <th>PhysHlth</th>\n",
       "      <th>DiffWalk</th>\n",
       "      <th>Sex</th>\n",
       "      <th>Age</th>\n",
       "      <th>Education</th>\n",
       "      <th>Income</th>\n",
       "    </tr>\n",
       "  </thead>\n",
       "  <tbody>\n",
       "    <tr>\n",
       "      <th>54330</th>\n",
       "      <td>1</td>\n",
       "      <td>1</td>\n",
       "      <td>1</td>\n",
       "      <td>34</td>\n",
       "      <td>0</td>\n",
       "      <td>0</td>\n",
       "      <td>0</td>\n",
       "      <td>1</td>\n",
       "      <td>1</td>\n",
       "      <td>1</td>\n",
       "      <td>...</td>\n",
       "      <td>1</td>\n",
       "      <td>0</td>\n",
       "      <td>3</td>\n",
       "      <td>0</td>\n",
       "      <td>0</td>\n",
       "      <td>0</td>\n",
       "      <td>1</td>\n",
       "      <td>3</td>\n",
       "      <td>3</td>\n",
       "      <td>1</td>\n",
       "    </tr>\n",
       "    <tr>\n",
       "      <th>61696</th>\n",
       "      <td>1</td>\n",
       "      <td>0</td>\n",
       "      <td>1</td>\n",
       "      <td>43</td>\n",
       "      <td>1</td>\n",
       "      <td>0</td>\n",
       "      <td>1</td>\n",
       "      <td>1</td>\n",
       "      <td>1</td>\n",
       "      <td>1</td>\n",
       "      <td>...</td>\n",
       "      <td>1</td>\n",
       "      <td>0</td>\n",
       "      <td>5</td>\n",
       "      <td>30</td>\n",
       "      <td>30</td>\n",
       "      <td>0</td>\n",
       "      <td>0</td>\n",
       "      <td>2</td>\n",
       "      <td>2</td>\n",
       "      <td>3</td>\n",
       "    </tr>\n",
       "    <tr>\n",
       "      <th>53756</th>\n",
       "      <td>1</td>\n",
       "      <td>1</td>\n",
       "      <td>1</td>\n",
       "      <td>38</td>\n",
       "      <td>1</td>\n",
       "      <td>0</td>\n",
       "      <td>1</td>\n",
       "      <td>0</td>\n",
       "      <td>0</td>\n",
       "      <td>1</td>\n",
       "      <td>...</td>\n",
       "      <td>1</td>\n",
       "      <td>0</td>\n",
       "      <td>4</td>\n",
       "      <td>15</td>\n",
       "      <td>30</td>\n",
       "      <td>1</td>\n",
       "      <td>1</td>\n",
       "      <td>3</td>\n",
       "      <td>2</td>\n",
       "      <td>2</td>\n",
       "    </tr>\n",
       "    <tr>\n",
       "      <th>31981</th>\n",
       "      <td>0</td>\n",
       "      <td>1</td>\n",
       "      <td>1</td>\n",
       "      <td>21</td>\n",
       "      <td>0</td>\n",
       "      <td>0</td>\n",
       "      <td>0</td>\n",
       "      <td>0</td>\n",
       "      <td>1</td>\n",
       "      <td>1</td>\n",
       "      <td>...</td>\n",
       "      <td>1</td>\n",
       "      <td>0</td>\n",
       "      <td>2</td>\n",
       "      <td>0</td>\n",
       "      <td>0</td>\n",
       "      <td>0</td>\n",
       "      <td>0</td>\n",
       "      <td>3</td>\n",
       "      <td>4</td>\n",
       "      <td>2</td>\n",
       "    </tr>\n",
       "    <tr>\n",
       "      <th>34456</th>\n",
       "      <td>0</td>\n",
       "      <td>1</td>\n",
       "      <td>1</td>\n",
       "      <td>30</td>\n",
       "      <td>0</td>\n",
       "      <td>0</td>\n",
       "      <td>0</td>\n",
       "      <td>0</td>\n",
       "      <td>0</td>\n",
       "      <td>0</td>\n",
       "      <td>...</td>\n",
       "      <td>1</td>\n",
       "      <td>0</td>\n",
       "      <td>3</td>\n",
       "      <td>0</td>\n",
       "      <td>5</td>\n",
       "      <td>0</td>\n",
       "      <td>0</td>\n",
       "      <td>3</td>\n",
       "      <td>3</td>\n",
       "      <td>2</td>\n",
       "    </tr>\n",
       "    <tr>\n",
       "      <th>...</th>\n",
       "      <td>...</td>\n",
       "      <td>...</td>\n",
       "      <td>...</td>\n",
       "      <td>...</td>\n",
       "      <td>...</td>\n",
       "      <td>...</td>\n",
       "      <td>...</td>\n",
       "      <td>...</td>\n",
       "      <td>...</td>\n",
       "      <td>...</td>\n",
       "      <td>...</td>\n",
       "      <td>...</td>\n",
       "      <td>...</td>\n",
       "      <td>...</td>\n",
       "      <td>...</td>\n",
       "      <td>...</td>\n",
       "      <td>...</td>\n",
       "      <td>...</td>\n",
       "      <td>...</td>\n",
       "      <td>...</td>\n",
       "      <td>...</td>\n",
       "    </tr>\n",
       "    <tr>\n",
       "      <th>19396</th>\n",
       "      <td>1</td>\n",
       "      <td>1</td>\n",
       "      <td>1</td>\n",
       "      <td>21</td>\n",
       "      <td>0</td>\n",
       "      <td>0</td>\n",
       "      <td>0</td>\n",
       "      <td>1</td>\n",
       "      <td>0</td>\n",
       "      <td>1</td>\n",
       "      <td>...</td>\n",
       "      <td>1</td>\n",
       "      <td>0</td>\n",
       "      <td>3</td>\n",
       "      <td>5</td>\n",
       "      <td>2</td>\n",
       "      <td>0</td>\n",
       "      <td>0</td>\n",
       "      <td>3</td>\n",
       "      <td>4</td>\n",
       "      <td>2</td>\n",
       "    </tr>\n",
       "    <tr>\n",
       "      <th>45148</th>\n",
       "      <td>1</td>\n",
       "      <td>1</td>\n",
       "      <td>1</td>\n",
       "      <td>48</td>\n",
       "      <td>1</td>\n",
       "      <td>0</td>\n",
       "      <td>0</td>\n",
       "      <td>0</td>\n",
       "      <td>0</td>\n",
       "      <td>0</td>\n",
       "      <td>...</td>\n",
       "      <td>1</td>\n",
       "      <td>0</td>\n",
       "      <td>5</td>\n",
       "      <td>30</td>\n",
       "      <td>30</td>\n",
       "      <td>1</td>\n",
       "      <td>0</td>\n",
       "      <td>3</td>\n",
       "      <td>3</td>\n",
       "      <td>2</td>\n",
       "    </tr>\n",
       "    <tr>\n",
       "      <th>37483</th>\n",
       "      <td>1</td>\n",
       "      <td>1</td>\n",
       "      <td>1</td>\n",
       "      <td>39</td>\n",
       "      <td>1</td>\n",
       "      <td>0</td>\n",
       "      <td>1</td>\n",
       "      <td>1</td>\n",
       "      <td>1</td>\n",
       "      <td>0</td>\n",
       "      <td>...</td>\n",
       "      <td>1</td>\n",
       "      <td>0</td>\n",
       "      <td>1</td>\n",
       "      <td>0</td>\n",
       "      <td>30</td>\n",
       "      <td>1</td>\n",
       "      <td>1</td>\n",
       "      <td>3</td>\n",
       "      <td>4</td>\n",
       "      <td>1</td>\n",
       "    </tr>\n",
       "    <tr>\n",
       "      <th>56299</th>\n",
       "      <td>1</td>\n",
       "      <td>1</td>\n",
       "      <td>1</td>\n",
       "      <td>26</td>\n",
       "      <td>0</td>\n",
       "      <td>0</td>\n",
       "      <td>0</td>\n",
       "      <td>1</td>\n",
       "      <td>1</td>\n",
       "      <td>1</td>\n",
       "      <td>...</td>\n",
       "      <td>1</td>\n",
       "      <td>1</td>\n",
       "      <td>5</td>\n",
       "      <td>0</td>\n",
       "      <td>30</td>\n",
       "      <td>0</td>\n",
       "      <td>1</td>\n",
       "      <td>4</td>\n",
       "      <td>3</td>\n",
       "      <td>4</td>\n",
       "    </tr>\n",
       "    <tr>\n",
       "      <th>69034</th>\n",
       "      <td>1</td>\n",
       "      <td>1</td>\n",
       "      <td>1</td>\n",
       "      <td>30</td>\n",
       "      <td>1</td>\n",
       "      <td>0</td>\n",
       "      <td>0</td>\n",
       "      <td>1</td>\n",
       "      <td>1</td>\n",
       "      <td>1</td>\n",
       "      <td>...</td>\n",
       "      <td>1</td>\n",
       "      <td>0</td>\n",
       "      <td>3</td>\n",
       "      <td>0</td>\n",
       "      <td>0</td>\n",
       "      <td>0</td>\n",
       "      <td>1</td>\n",
       "      <td>4</td>\n",
       "      <td>2</td>\n",
       "      <td>4</td>\n",
       "    </tr>\n",
       "  </tbody>\n",
       "</table>\n",
       "<p>56553 rows × 21 columns</p>\n",
       "</div>"
      ],
      "text/plain": [
       "       HighBP  HighChol  CholCheck  BMI  Smoker  Stroke  HeartDiseaseorAttack  \\\n",
       "54330       1         1          1   34       0       0                     0   \n",
       "61696       1         0          1   43       1       0                     1   \n",
       "53756       1         1          1   38       1       0                     1   \n",
       "31981       0         1          1   21       0       0                     0   \n",
       "34456       0         1          1   30       0       0                     0   \n",
       "...       ...       ...        ...  ...     ...     ...                   ...   \n",
       "19396       1         1          1   21       0       0                     0   \n",
       "45148       1         1          1   48       1       0                     0   \n",
       "37483       1         1          1   39       1       0                     1   \n",
       "56299       1         1          1   26       0       0                     0   \n",
       "69034       1         1          1   30       1       0                     0   \n",
       "\n",
       "       PhysActivity  Fruits  Veggies  ...  AnyHealthcare  NoDocbcCost  \\\n",
       "54330             1       1        1  ...              1            0   \n",
       "61696             1       1        1  ...              1            0   \n",
       "53756             0       0        1  ...              1            0   \n",
       "31981             0       1        1  ...              1            0   \n",
       "34456             0       0        0  ...              1            0   \n",
       "...             ...     ...      ...  ...            ...          ...   \n",
       "19396             1       0        1  ...              1            0   \n",
       "45148             0       0        0  ...              1            0   \n",
       "37483             1       1        0  ...              1            0   \n",
       "56299             1       1        1  ...              1            1   \n",
       "69034             1       1        1  ...              1            0   \n",
       "\n",
       "       GenHlth  MentHlth  PhysHlth  DiffWalk  Sex  Age  Education  Income  \n",
       "54330        3         0         0         0    1    3          3       1  \n",
       "61696        5        30        30         0    0    2          2       3  \n",
       "53756        4        15        30         1    1    3          2       2  \n",
       "31981        2         0         0         0    0    3          4       2  \n",
       "34456        3         0         5         0    0    3          3       2  \n",
       "...        ...       ...       ...       ...  ...  ...        ...     ...  \n",
       "19396        3         5         2         0    0    3          4       2  \n",
       "45148        5        30        30         1    0    3          3       2  \n",
       "37483        1         0        30         1    1    3          4       1  \n",
       "56299        5         0        30         0    1    4          3       4  \n",
       "69034        3         0         0         0    1    4          2       4  \n",
       "\n",
       "[56553 rows x 21 columns]"
      ]
     },
     "execution_count": 45,
     "metadata": {},
     "output_type": "execute_result"
    }
   ],
   "source": [
    "Xtrain"
   ]
  },
  {
   "cell_type": "code",
   "execution_count": null,
   "id": "071afb05-dbdd-498e-9fa5-94985998b0ac",
   "metadata": {},
   "outputs": [],
   "source": [
    "!pip install xgboost"
   ]
  },
  {
   "cell_type": "code",
   "execution_count": null,
   "id": "5aef35f9-97a7-4194-b9c4-d77031b9fd58",
   "metadata": {},
   "outputs": [],
   "source": [
    "import xgboost as xgb"
   ]
  },
  {
   "cell_type": "code",
   "execution_count": null,
   "id": "b888c944-e95f-4151-be18-d79df7db3f4a",
   "metadata": {},
   "outputs": [],
   "source": [
    "from itertools import combinations\n",
    "import scipy.stats as stats"
   ]
  },
  {
   "cell_type": "code",
   "execution_count": null,
   "id": "728fa979-ec1e-4fcf-adac-78cde29e4dee",
   "metadata": {},
   "outputs": [],
   "source": [
    "categorical_predictors = filtered"
   ]
  },
  {
   "cell_type": "code",
   "execution_count": null,
   "id": "a0b46c71-1d24-42b0-b69f-4847c726dc7e",
   "metadata": {},
   "outputs": [],
   "source": [
    "Xtrain.columns"
   ]
  },
  {
   "cell_type": "code",
   "execution_count": null,
   "id": "226d5af0-c6fd-4b41-bd8e-bd6b06c83f16",
   "metadata": {},
   "outputs": [],
   "source": [
    "Xtrain['Age']"
   ]
  },
  {
   "cell_type": "code",
   "execution_count": null,
   "id": "b6920136-8513-4a9f-a38c-568c5f5247f0",
   "metadata": {},
   "outputs": [],
   "source": [
    "# XG Boost\n",
    "xgbr = xgb.XGBClassifier()\n",
    "dtrain = xgb.DMatrix(Xtrain, label=Ytrain, enable_categorical=True)\n",
    "\n",
    "# xgboost model fit with default parameters\n",
    "model = xgbr.fit(Xtrain,Ytrain)\n",
    "Y_pred = model.predict(Xtest)\n",
    "Y_pred_tr = model.predict(Xtrain)\n",
    "\n",
    "from sklearn.metrics import accuracy_score\n",
    "tr_accuracy = accuracy_score(Ytrain,Y_pred_tr)\n",
    "ts_accuracy = accuracy_score(Ytest, Y_pred)\n",
    "[tr_accuracy,ts_accuracy]\n",
    "\n",
    "# parameter tuning with grid search\n",
    "from sklearn.model_selection import train_test_split, GridSearchCV\n",
    "# Define hyperparameters for grid search\n",
    "param_grid = {\n",
    "    'n_estimators': [50, 100, 150,200,250,300,400,450,500],\n",
    "    'max_depth': [3, 4, 5, 6, 7],\n",
    "    'learning_rate': [0.5,0.2,0.1, 0.01, 0.001]\n",
    "}\n",
    "# Perform grid search with cross-validation\n",
    "grid_search = GridSearchCV(estimator=xgbr, param_grid=param_grid, cv=5, scoring='accuracy')\n",
    "model_xg = grid_search.fit(Xtrain, Ytrain)\n",
    "\n",
    "# The best parameters - After tuning\n",
    "best_params = model_xg.best_params_\n",
    "best_params\n",
    "\n",
    "best_xgb_model = xgb.XGBClassifier(**best_params)\n",
    "best_xgb_model.fit(Xtrain,Ytrain)\n",
    "\n",
    "Y_pred = best_xgb_model.predict(Xtest)\n",
    "Y_pred_tr = best_xgb_model.predict(Xtrain)\n",
    "tr_accuracy = accuracy_score(Ytrain,Y_pred_tr)\n",
    "ts_accuracy = accuracy_score(Ytest, Y_pred)\n",
    "[tr_accuracy,ts_accuracy]"
   ]
  },
  {
   "cell_type": "code",
   "execution_count": null,
   "id": "88149e3f-a14c-409f-b0ba-c79dba3a7d3f",
   "metadata": {},
   "outputs": [],
   "source": [
    "from sklearn.metrics import accuracy_score\n",
    "tr_accuracy = accuracy_score(Ytrain,Y_pred_tr)\n",
    "ts_accuracy = accuracy_score(Ytest, Y_pred)\n",
    "[tr_accuracy,ts_accuracy]\n"
   ]
  },
  {
   "cell_type": "code",
   "execution_count": null,
   "id": "c2299574-0bc4-43e5-9444-44db4f5acbca",
   "metadata": {},
   "outputs": [],
   "source": [
    "# parameter tuning with grid search\n",
    "from sklearn.model_selection import train_test_split, GridSearchCV\n",
    "# Define hyperparameters for grid search\n",
    "param_grid = {\n",
    "    'n_estimators': [50, 100, 150,200,250,300,400,450,500],\n",
    "    'max_depth': [3, 4, 5, 6, 7],\n",
    "    'learning_rate': [0.5,0.2,0.1, 0.01, 0.001]\n",
    "}\n",
    "# Perform grid search with cross-validation\n",
    "grid_search = GridSearchCV(estimator=xgbr, param_grid=param_grid, cv=5, scoring='accuracy')\n",
    "model_xg = grid_search.fit(Xtrain, Ytrain)"
   ]
  },
  {
   "cell_type": "code",
   "execution_count": null,
   "id": "df14d72c-9e37-4625-8d05-08c4576976ca",
   "metadata": {},
   "outputs": [],
   "source": [
    "# The best parameters - After tuning\n",
    "best_params = model_xg.best_params_\n",
    "best_params\n"
   ]
  },
  {
   "cell_type": "code",
   "execution_count": null,
   "id": "c1ea3a8e-ecc6-4d80-b447-4f064091b5c9",
   "metadata": {},
   "outputs": [],
   "source": [
    "best_model = xgb.XGBClassifier(**best_params)\n",
    "best_model.fit(Xtrain,Ytrain)"
   ]
  },
  {
   "cell_type": "code",
   "execution_count": null,
   "id": "eeead205-d224-4051-baec-53ae74d695b3",
   "metadata": {},
   "outputs": [],
   "source": [
    "Y_pred = best_model.predict(Xtest)"
   ]
  },
  {
   "cell_type": "code",
   "execution_count": null,
   "id": "ed356db9-8144-4f96-a465-a84ceecca6b8",
   "metadata": {},
   "outputs": [],
   "source": [
    "Y_pred_tr = best_model.predict(Xtrain)"
   ]
  },
  {
   "cell_type": "code",
   "execution_count": null,
   "id": "de16a209-6987-4489-a580-bdafd1b7a636",
   "metadata": {},
   "outputs": [],
   "source": [
    "tr_accuracy = accuracy_score(Ytrain,Y_pred_tr)\n",
    "ts_accuracy = accuracy_score(Ytest, Y_pred)\n",
    "[tr_accuracy,ts_accuracy]"
   ]
  },
  {
   "cell_type": "code",
   "execution_count": null,
   "id": "6f40544e-4cf1-4daa-b467-9bddc43f2ca5",
   "metadata": {},
   "outputs": [],
   "source": [
    "# Feature importance plot in xgboost\n",
    "feature_importance = best_model.feature_importances_\n",
    "print(feature_importance)\n",
    "max(feature_importance)"
   ]
  },
  {
   "cell_type": "code",
   "execution_count": null,
   "id": "19e6e589-08bf-4262-bb2e-1257468a7454",
   "metadata": {},
   "outputs": [],
   "source": [
    "print(best_model.feature_importances_.argsort())"
   ]
  },
  {
   "cell_type": "code",
   "execution_count": null,
   "id": "7f6231a1-78ee-461d-877f-58201e63445a",
   "metadata": {},
   "outputs": [],
   "source": [
    "sorted = best_model.feature_importances_.argsort()\n",
    "print(sorted)\n",
    "plt.barh(Xtrain.columns[sorted],best_model.feature_importances_[sorted])\n",
    "plt.xlabel(\"Feature Importance\")"
   ]
  },
  {
   "cell_type": "code",
   "execution_count": null,
   "id": "d516d57b-d31a-457f-bf3f-485001c6cd68",
   "metadata": {},
   "outputs": [],
   "source": [
    "# Lasso Regression classifier\n",
    "from numpy import arange\n",
    "from sklearn.linear_model import Lasso\n",
    "from sklearn.preprocessing import StandardScaler\n",
    "lasso_classifier = Lasso(alpha=0.1)\n",
    "\n",
    "scaler = StandardScaler()\n",
    "Xtrain_sc = scaler.fit_transform(Xtrain)\n",
    "Xtest_sc = scaler.transform(Xtest)\n",
    "\n",
    "lasso_classifier.fit(Xtrain_sc, Ytrain)\n",
    "\n",
    "Y_pred = lasso_classifier.predict(Xtest_sc)\n",
    "Y_pred_tr = lasso_classifier.predict(Xtrain_sc)\n",
    "\n",
    "print(lasso_classifier.coef_)\n",
    "coefficients = pd.DataFrame({'Feature': Xtrain.columns, 'Coefficient': lasso_classifier.coef_})\n",
    "print(coefficients)\n",
    "\n",
    "# Evaluate the model\n",
    "from sklearn.metrics import accuracy_score\n",
    "from sklearn.metrics import confusion_matrix\n",
    "accuracy_ts = accuracy_score(Ytest, Y_pred.round())\n",
    "accuracy_tr = accuracy_score(Ytrain, Y_pred_tr.round())\n",
    "conf_matrix_ts = confusion_matrix(Ytest, Y_pred.round())\n",
    "print(f\"Accuracy_ts: {accuracy_ts}\")\n",
    "print(f\"Accuracy_tr: {accuracy_tr}\")\n",
    "print(f\"Confusion Matrix:\\n{conf_matrix_ts}\")"
   ]
  },
  {
   "cell_type": "code",
   "execution_count": null,
   "id": "04a794a2-0bfc-4b30-8f2f-b2e7d943ee3b",
   "metadata": {},
   "outputs": [],
   "source": [
    "# Evaluate the model\n",
    "from sklearn.metrics import accuracy_score\n",
    "from sklearn.metrics import confusion_matrix\n",
    "accuracy_ts = accuracy_score(Ytest, Y_pred.round())\n",
    "accuracy_tr = accuracy_score(Ytrain, Y_pred_tr.round())\n",
    "conf_matrix_ts = confusion_matrix(Ytest, Y_pred.round())\n",
    "\n",
    "print(f\"Accuracy_ts: {accuracy_ts}\")\n",
    "print(f\"Accuracy_tr: {accuracy_tr}\")\n",
    "print(f\"Confusion Matrix:\\n{conf_matrix_ts}\")"
   ]
  },
  {
   "cell_type": "code",
   "execution_count": null,
   "id": "e22a9f89-932e-4999-b13a-8cc92e4d333a",
   "metadata": {},
   "outputs": [],
   "source": [
    "import pickle\n",
    "\n",
    "filename = r'C:\\Users\\PC\\Desktop\\GroupProject_ST 3082\\App\\model.pkl'\n",
    "with open(filename, 'wb') as f:\n",
    "    pickle.dump(best_model, f)\n",
    "\n",
    "print(\"Model saved successfully.\")"
   ]
  }
 ],
 "metadata": {
  "kernelspec": {
   "display_name": "Python 3 (ipykernel)",
   "language": "python",
   "name": "python3"
  },
  "language_info": {
   "codemirror_mode": {
    "name": "ipython",
    "version": 3
   },
   "file_extension": ".py",
   "mimetype": "text/x-python",
   "name": "python",
   "nbconvert_exporter": "python",
   "pygments_lexer": "ipython3",
   "version": "3.11.7"
  }
 },
 "nbformat": 4,
 "nbformat_minor": 5
}
